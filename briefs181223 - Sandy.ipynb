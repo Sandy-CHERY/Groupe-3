{
  "cells": [
    {
      "cell_type": "markdown",
      "metadata": {
        "id": "dDYnD_yh-skJ"
      },
      "source": [
        "# Data Analyst au sein de la FAO"
      ]
    },
    {
      "cell_type": "markdown",
      "metadata": {
        "id": "Bhgi21K2-nFa"
      },
      "source": [
        "lien du brief : https://simplonline.co/briefs/688fc302-e4d4-4324-8904-f22316c31713\n",
        "\n"
      ]
    },
    {
      "cell_type": "markdown",
      "metadata": {
        "id": "31doXc7fFxKl"
      },
      "source": [
        "lien du dossier git : https://github.com/data-IA-2023/Groupe-3\n"
      ]
    },
    {
      "cell_type": "markdown",
      "metadata": {
        "id": "8mrHC_I5-ykk"
      },
      "source": [
        "Vous venez d'intégrer la FAO (Food and Agriculture Organization of the United Nations). BRAVO !!!!!!\n",
        "Vous allez mener votre première mission en analysant les données mondiales de production agricole, d'alimentation et de nutrition."
      ]
    },
    {
      "cell_type": "markdown",
      "metadata": {
        "id": "FUVcknHlAIC_"
      },
      "source": [
        "**Livrables**\n",
        "\n",
        "* Un dépôt Github\n",
        "* Un notebook **fonctionnel, documenté et commenté**\n",
        "* Une présentation écrite et orale résumant vos travaux, votre analyse et vos recommandations"
      ]
    },
    {
      "cell_type": "markdown",
      "metadata": {
        "id": "fcBxpeFXAkMg"
      },
      "source": [
        "**Contexte du projet**\n",
        "\n",
        "* Au sein du service Data Analytics and Prospective de la FAO, vous êtes en charge d'analyser les données produites par les Nations Unies.\n",
        "\n",
        "* Ces analyses conduisent à des rapports de synthèse à destination des décideurs.\n",
        "\n",
        "* Pour êtes également en charge de la partie Prospective, c'est à dire donner des tendances et des évolutions probables quant à la production agricole, à l'alimentation et la nutrition mondiales.\n"
      ]
    },
    {
      "cell_type": "markdown",
      "metadata": {
        "id": "wICIZAqLAonV"
      },
      "source": [
        "**Ressource(s)**\n",
        "\n",
        "FAO - Wikipedia : https://fr.wikipedia.org/wiki/Organisation_des_Nations_unies_pour_l'alimentation_et_l'agriculture\n",
        "\n",
        "FAOSTAT : https://www.fao.org/faostat/fr/#home\n",
        "\n",
        "Les données FAO 2013 : https://github.com/remijul/dataset/tree/master/fao_2013"
      ]
    },
    {
      "cell_type": "markdown",
      "metadata": {
        "id": "Bk2Uuk0nBbJ6"
      },
      "source": [
        "## Partie extraction des données"
      ]
    },
    {
      "cell_type": "code",
      "execution_count": 1,
      "metadata": {
        "colab": {
          "base_uri": "https://localhost:8080/",
          "height": 745
        },
        "id": "CaGmP6DLd0Qs",
        "outputId": "8b8c7a7e-0977-4ec3-a142-b7061e394bf2"
      },
      "outputs": [
        {
          "data": {
            "text/html": [
              "<div>\n",
              "<style scoped>\n",
              "    .dataframe tbody tr th:only-of-type {\n",
              "        vertical-align: middle;\n",
              "    }\n",
              "\n",
              "    .dataframe tbody tr th {\n",
              "        vertical-align: top;\n",
              "    }\n",
              "\n",
              "    .dataframe thead th {\n",
              "        text-align: right;\n",
              "    }\n",
              "</style>\n",
              "<table border=\"1\" class=\"dataframe\">\n",
              "  <thead>\n",
              "    <tr style=\"text-align: right;\">\n",
              "      <th></th>\n",
              "      <th>Code Domaine</th>\n",
              "      <th>Domaine</th>\n",
              "      <th>Code Pays</th>\n",
              "      <th>Pays</th>\n",
              "      <th>Code Élément</th>\n",
              "      <th>Élément</th>\n",
              "      <th>Code Produit</th>\n",
              "      <th>Produit</th>\n",
              "      <th>Code Année</th>\n",
              "      <th>Année</th>\n",
              "      <th>Unité</th>\n",
              "      <th>Valeur</th>\n",
              "      <th>Symbole</th>\n",
              "      <th>Description du Symbole</th>\n",
              "    </tr>\n",
              "  </thead>\n",
              "  <tbody>\n",
              "    <tr>\n",
              "      <th>0</th>\n",
              "      <td>FBS</td>\n",
              "      <td>Bilans Alimentaires</td>\n",
              "      <td>2</td>\n",
              "      <td>Afghanistan</td>\n",
              "      <td>5511</td>\n",
              "      <td>Production</td>\n",
              "      <td>2731</td>\n",
              "      <td>Viande de Bovins</td>\n",
              "      <td>2013</td>\n",
              "      <td>2013</td>\n",
              "      <td>Milliers de tonnes</td>\n",
              "      <td>134.00</td>\n",
              "      <td>S</td>\n",
              "      <td>Données standardisées</td>\n",
              "    </tr>\n",
              "    <tr>\n",
              "      <th>1</th>\n",
              "      <td>FBS</td>\n",
              "      <td>Bilans Alimentaires</td>\n",
              "      <td>2</td>\n",
              "      <td>Afghanistan</td>\n",
              "      <td>5611</td>\n",
              "      <td>Importations - Quantité</td>\n",
              "      <td>2731</td>\n",
              "      <td>Viande de Bovins</td>\n",
              "      <td>2013</td>\n",
              "      <td>2013</td>\n",
              "      <td>Milliers de tonnes</td>\n",
              "      <td>6.00</td>\n",
              "      <td>S</td>\n",
              "      <td>Données standardisées</td>\n",
              "    </tr>\n",
              "    <tr>\n",
              "      <th>2</th>\n",
              "      <td>FBS</td>\n",
              "      <td>Bilans Alimentaires</td>\n",
              "      <td>2</td>\n",
              "      <td>Afghanistan</td>\n",
              "      <td>5301</td>\n",
              "      <td>Disponibilité intérieure</td>\n",
              "      <td>2731</td>\n",
              "      <td>Viande de Bovins</td>\n",
              "      <td>2013</td>\n",
              "      <td>2013</td>\n",
              "      <td>Milliers de tonnes</td>\n",
              "      <td>140.00</td>\n",
              "      <td>S</td>\n",
              "      <td>Données standardisées</td>\n",
              "    </tr>\n",
              "    <tr>\n",
              "      <th>3</th>\n",
              "      <td>FBS</td>\n",
              "      <td>Bilans Alimentaires</td>\n",
              "      <td>2</td>\n",
              "      <td>Afghanistan</td>\n",
              "      <td>5142</td>\n",
              "      <td>Nourriture</td>\n",
              "      <td>2731</td>\n",
              "      <td>Viande de Bovins</td>\n",
              "      <td>2013</td>\n",
              "      <td>2013</td>\n",
              "      <td>Milliers de tonnes</td>\n",
              "      <td>140.00</td>\n",
              "      <td>S</td>\n",
              "      <td>Données standardisées</td>\n",
              "    </tr>\n",
              "    <tr>\n",
              "      <th>4</th>\n",
              "      <td>FBS</td>\n",
              "      <td>Bilans Alimentaires</td>\n",
              "      <td>2</td>\n",
              "      <td>Afghanistan</td>\n",
              "      <td>645</td>\n",
              "      <td>Disponibilité alimentaire en quantité (kg/pers...</td>\n",
              "      <td>2731</td>\n",
              "      <td>Viande de Bovins</td>\n",
              "      <td>2013</td>\n",
              "      <td>2013</td>\n",
              "      <td>kg</td>\n",
              "      <td>4.59</td>\n",
              "      <td>Fc</td>\n",
              "      <td>Donnée calculée</td>\n",
              "    </tr>\n",
              "    <tr>\n",
              "      <th>...</th>\n",
              "      <td>...</td>\n",
              "      <td>...</td>\n",
              "      <td>...</td>\n",
              "      <td>...</td>\n",
              "      <td>...</td>\n",
              "      <td>...</td>\n",
              "      <td>...</td>\n",
              "      <td>...</td>\n",
              "      <td>...</td>\n",
              "      <td>...</td>\n",
              "      <td>...</td>\n",
              "      <td>...</td>\n",
              "      <td>...</td>\n",
              "      <td>...</td>\n",
              "    </tr>\n",
              "    <tr>\n",
              "      <th>37161</th>\n",
              "      <td>FBS</td>\n",
              "      <td>Bilans Alimentaires</td>\n",
              "      <td>351</td>\n",
              "      <td>Chine</td>\n",
              "      <td>5142</td>\n",
              "      <td>Nourriture</td>\n",
              "      <td>2775</td>\n",
              "      <td>Plantes Aquatiques</td>\n",
              "      <td>2013</td>\n",
              "      <td>2013</td>\n",
              "      <td>Milliers de tonnes</td>\n",
              "      <td>13086.00</td>\n",
              "      <td>A</td>\n",
              "      <td>Agrégat, peut inclure des données officielles,...</td>\n",
              "    </tr>\n",
              "    <tr>\n",
              "      <th>37162</th>\n",
              "      <td>FBS</td>\n",
              "      <td>Bilans Alimentaires</td>\n",
              "      <td>351</td>\n",
              "      <td>Chine</td>\n",
              "      <td>645</td>\n",
              "      <td>Disponibilité alimentaire en quantité (kg/pers...</td>\n",
              "      <td>2775</td>\n",
              "      <td>Plantes Aquatiques</td>\n",
              "      <td>2013</td>\n",
              "      <td>2013</td>\n",
              "      <td>kg</td>\n",
              "      <td>9.24</td>\n",
              "      <td>Fc</td>\n",
              "      <td>Donnée calculée</td>\n",
              "    </tr>\n",
              "    <tr>\n",
              "      <th>37163</th>\n",
              "      <td>FBS</td>\n",
              "      <td>Bilans Alimentaires</td>\n",
              "      <td>351</td>\n",
              "      <td>Chine</td>\n",
              "      <td>664</td>\n",
              "      <td>Disponibilité alimentaire (Kcal/personne/jour)</td>\n",
              "      <td>2775</td>\n",
              "      <td>Plantes Aquatiques</td>\n",
              "      <td>2013</td>\n",
              "      <td>2013</td>\n",
              "      <td>Kcal/personne/jour</td>\n",
              "      <td>9.00</td>\n",
              "      <td>Fc</td>\n",
              "      <td>Donnée calculée</td>\n",
              "    </tr>\n",
              "    <tr>\n",
              "      <th>37164</th>\n",
              "      <td>FBS</td>\n",
              "      <td>Bilans Alimentaires</td>\n",
              "      <td>351</td>\n",
              "      <td>Chine</td>\n",
              "      <td>674</td>\n",
              "      <td>Disponibilité de protéines en quantité (g/pers...</td>\n",
              "      <td>2775</td>\n",
              "      <td>Plantes Aquatiques</td>\n",
              "      <td>2013</td>\n",
              "      <td>2013</td>\n",
              "      <td>g/personne/jour</td>\n",
              "      <td>0.69</td>\n",
              "      <td>Fc</td>\n",
              "      <td>Donnée calculée</td>\n",
              "    </tr>\n",
              "    <tr>\n",
              "      <th>37165</th>\n",
              "      <td>FBS</td>\n",
              "      <td>Bilans Alimentaires</td>\n",
              "      <td>351</td>\n",
              "      <td>Chine</td>\n",
              "      <td>684</td>\n",
              "      <td>Disponibilité de matière grasse en quantité (g...</td>\n",
              "      <td>2775</td>\n",
              "      <td>Plantes Aquatiques</td>\n",
              "      <td>2013</td>\n",
              "      <td>2013</td>\n",
              "      <td>g/personne/jour</td>\n",
              "      <td>0.04</td>\n",
              "      <td>Fc</td>\n",
              "      <td>Donnée calculée</td>\n",
              "    </tr>\n",
              "  </tbody>\n",
              "</table>\n",
              "<p>37166 rows × 14 columns</p>\n",
              "</div>"
            ],
            "text/plain": [
              "      Code Domaine              Domaine  Code Pays         Pays  Code Élément  \\\n",
              "0              FBS  Bilans Alimentaires          2  Afghanistan          5511   \n",
              "1              FBS  Bilans Alimentaires          2  Afghanistan          5611   \n",
              "2              FBS  Bilans Alimentaires          2  Afghanistan          5301   \n",
              "3              FBS  Bilans Alimentaires          2  Afghanistan          5142   \n",
              "4              FBS  Bilans Alimentaires          2  Afghanistan           645   \n",
              "...            ...                  ...        ...          ...           ...   \n",
              "37161          FBS  Bilans Alimentaires        351        Chine          5142   \n",
              "37162          FBS  Bilans Alimentaires        351        Chine           645   \n",
              "37163          FBS  Bilans Alimentaires        351        Chine           664   \n",
              "37164          FBS  Bilans Alimentaires        351        Chine           674   \n",
              "37165          FBS  Bilans Alimentaires        351        Chine           684   \n",
              "\n",
              "                                                 Élément  Code Produit  \\\n",
              "0                                             Production          2731   \n",
              "1                                Importations - Quantité          2731   \n",
              "2                               Disponibilité intérieure          2731   \n",
              "3                                             Nourriture          2731   \n",
              "4      Disponibilité alimentaire en quantité (kg/pers...          2731   \n",
              "...                                                  ...           ...   \n",
              "37161                                         Nourriture          2775   \n",
              "37162  Disponibilité alimentaire en quantité (kg/pers...          2775   \n",
              "37163     Disponibilité alimentaire (Kcal/personne/jour)          2775   \n",
              "37164  Disponibilité de protéines en quantité (g/pers...          2775   \n",
              "37165  Disponibilité de matière grasse en quantité (g...          2775   \n",
              "\n",
              "                  Produit  Code Année  Année               Unité    Valeur  \\\n",
              "0        Viande de Bovins        2013   2013  Milliers de tonnes    134.00   \n",
              "1        Viande de Bovins        2013   2013  Milliers de tonnes      6.00   \n",
              "2        Viande de Bovins        2013   2013  Milliers de tonnes    140.00   \n",
              "3        Viande de Bovins        2013   2013  Milliers de tonnes    140.00   \n",
              "4        Viande de Bovins        2013   2013                  kg      4.59   \n",
              "...                   ...         ...    ...                 ...       ...   \n",
              "37161  Plantes Aquatiques        2013   2013  Milliers de tonnes  13086.00   \n",
              "37162  Plantes Aquatiques        2013   2013                  kg      9.24   \n",
              "37163  Plantes Aquatiques        2013   2013  Kcal/personne/jour      9.00   \n",
              "37164  Plantes Aquatiques        2013   2013     g/personne/jour      0.69   \n",
              "37165  Plantes Aquatiques        2013   2013     g/personne/jour      0.04   \n",
              "\n",
              "      Symbole                             Description du Symbole  \n",
              "0           S                              Données standardisées  \n",
              "1           S                              Données standardisées  \n",
              "2           S                              Données standardisées  \n",
              "3           S                              Données standardisées  \n",
              "4          Fc                                    Donnée calculée  \n",
              "...       ...                                                ...  \n",
              "37161       A  Agrégat, peut inclure des données officielles,...  \n",
              "37162      Fc                                    Donnée calculée  \n",
              "37163      Fc                                    Donnée calculée  \n",
              "37164      Fc                                    Donnée calculée  \n",
              "37165      Fc                                    Donnée calculée  \n",
              "\n",
              "[37166 rows x 14 columns]"
            ]
          },
          "execution_count": 1,
          "metadata": {},
          "output_type": "execute_result"
        }
      ],
      "source": [
        "import pandas as pd\n",
        "import numpy as np\n",
        "\n",
        "chemein_fichier = \"https://raw.githubusercontent.com/remijul/dataset/master/fao_2013/FAOSTAT_2013_animal.csv\"\n",
        "\n",
        "df = pd.read_csv(chemein_fichier, sep=',',on_bad_lines='skip')\n",
        "df"
      ]
    },
    {
      "cell_type": "code",
      "execution_count": 2,
      "metadata": {
        "colab": {
          "base_uri": "https://localhost:8080/",
          "height": 843
        },
        "id": "RuUCQCiXVblU",
        "outputId": "07eea495-765b-41e2-a624-47a9a1ba01cb"
      },
      "outputs": [
        {
          "data": {
            "text/html": [
              "<div>\n",
              "<style scoped>\n",
              "    .dataframe tbody tr th:only-of-type {\n",
              "        vertical-align: middle;\n",
              "    }\n",
              "\n",
              "    .dataframe tbody tr th {\n",
              "        vertical-align: top;\n",
              "    }\n",
              "\n",
              "    .dataframe thead th {\n",
              "        text-align: right;\n",
              "    }\n",
              "</style>\n",
              "<table border=\"1\" class=\"dataframe\">\n",
              "  <thead>\n",
              "    <tr style=\"text-align: right;\">\n",
              "      <th></th>\n",
              "      <th>Code Domaine</th>\n",
              "      <th>Domaine</th>\n",
              "      <th>Code Pays</th>\n",
              "      <th>Pays</th>\n",
              "      <th>Code Élément</th>\n",
              "      <th>Élément</th>\n",
              "      <th>Code Produit</th>\n",
              "      <th>Produit</th>\n",
              "      <th>Code Année</th>\n",
              "      <th>Année</th>\n",
              "      <th>Unité</th>\n",
              "      <th>Valeur</th>\n",
              "      <th>Symbole</th>\n",
              "      <th>Description du Symbole</th>\n",
              "    </tr>\n",
              "  </thead>\n",
              "  <tbody>\n",
              "    <tr>\n",
              "      <th>0</th>\n",
              "      <td>FBS</td>\n",
              "      <td>Bilans Alimentaires</td>\n",
              "      <td>2</td>\n",
              "      <td>Afghanistan</td>\n",
              "      <td>5511</td>\n",
              "      <td>Production</td>\n",
              "      <td>2731</td>\n",
              "      <td>Viande de Bovins</td>\n",
              "      <td>2013</td>\n",
              "      <td>2013</td>\n",
              "      <td>Milliers de tonnes</td>\n",
              "      <td>134.00</td>\n",
              "      <td>S</td>\n",
              "      <td>Données standardisées</td>\n",
              "    </tr>\n",
              "    <tr>\n",
              "      <th>1</th>\n",
              "      <td>FBS</td>\n",
              "      <td>Bilans Alimentaires</td>\n",
              "      <td>2</td>\n",
              "      <td>Afghanistan</td>\n",
              "      <td>5611</td>\n",
              "      <td>Importations - Quantité</td>\n",
              "      <td>2731</td>\n",
              "      <td>Viande de Bovins</td>\n",
              "      <td>2013</td>\n",
              "      <td>2013</td>\n",
              "      <td>Milliers de tonnes</td>\n",
              "      <td>6.00</td>\n",
              "      <td>S</td>\n",
              "      <td>Données standardisées</td>\n",
              "    </tr>\n",
              "    <tr>\n",
              "      <th>2</th>\n",
              "      <td>FBS</td>\n",
              "      <td>Bilans Alimentaires</td>\n",
              "      <td>2</td>\n",
              "      <td>Afghanistan</td>\n",
              "      <td>5301</td>\n",
              "      <td>Disponibilité intérieure</td>\n",
              "      <td>2731</td>\n",
              "      <td>Viande de Bovins</td>\n",
              "      <td>2013</td>\n",
              "      <td>2013</td>\n",
              "      <td>Milliers de tonnes</td>\n",
              "      <td>140.00</td>\n",
              "      <td>S</td>\n",
              "      <td>Données standardisées</td>\n",
              "    </tr>\n",
              "    <tr>\n",
              "      <th>3</th>\n",
              "      <td>FBS</td>\n",
              "      <td>Bilans Alimentaires</td>\n",
              "      <td>2</td>\n",
              "      <td>Afghanistan</td>\n",
              "      <td>5142</td>\n",
              "      <td>Nourriture</td>\n",
              "      <td>2731</td>\n",
              "      <td>Viande de Bovins</td>\n",
              "      <td>2013</td>\n",
              "      <td>2013</td>\n",
              "      <td>Milliers de tonnes</td>\n",
              "      <td>140.00</td>\n",
              "      <td>S</td>\n",
              "      <td>Données standardisées</td>\n",
              "    </tr>\n",
              "    <tr>\n",
              "      <th>4</th>\n",
              "      <td>FBS</td>\n",
              "      <td>Bilans Alimentaires</td>\n",
              "      <td>2</td>\n",
              "      <td>Afghanistan</td>\n",
              "      <td>645</td>\n",
              "      <td>Disponibilité alimentaire en quantité (kg/pers...</td>\n",
              "      <td>2731</td>\n",
              "      <td>Viande de Bovins</td>\n",
              "      <td>2013</td>\n",
              "      <td>2013</td>\n",
              "      <td>kg</td>\n",
              "      <td>4.59</td>\n",
              "      <td>Fc</td>\n",
              "      <td>Donnée calculée</td>\n",
              "    </tr>\n",
              "    <tr>\n",
              "      <th>...</th>\n",
              "      <td>...</td>\n",
              "      <td>...</td>\n",
              "      <td>...</td>\n",
              "      <td>...</td>\n",
              "      <td>...</td>\n",
              "      <td>...</td>\n",
              "      <td>...</td>\n",
              "      <td>...</td>\n",
              "      <td>...</td>\n",
              "      <td>...</td>\n",
              "      <td>...</td>\n",
              "      <td>...</td>\n",
              "      <td>...</td>\n",
              "      <td>...</td>\n",
              "    </tr>\n",
              "    <tr>\n",
              "      <th>37161</th>\n",
              "      <td>FBS</td>\n",
              "      <td>Bilans Alimentaires</td>\n",
              "      <td>351</td>\n",
              "      <td>Chine</td>\n",
              "      <td>5142</td>\n",
              "      <td>Nourriture</td>\n",
              "      <td>2775</td>\n",
              "      <td>Plantes Aquatiques</td>\n",
              "      <td>2013</td>\n",
              "      <td>2013</td>\n",
              "      <td>Milliers de tonnes</td>\n",
              "      <td>13086.00</td>\n",
              "      <td>A</td>\n",
              "      <td>Agrégat, peut inclure des données officielles,...</td>\n",
              "    </tr>\n",
              "    <tr>\n",
              "      <th>37162</th>\n",
              "      <td>FBS</td>\n",
              "      <td>Bilans Alimentaires</td>\n",
              "      <td>351</td>\n",
              "      <td>Chine</td>\n",
              "      <td>645</td>\n",
              "      <td>Disponibilité alimentaire en quantité (kg/pers...</td>\n",
              "      <td>2775</td>\n",
              "      <td>Plantes Aquatiques</td>\n",
              "      <td>2013</td>\n",
              "      <td>2013</td>\n",
              "      <td>kg</td>\n",
              "      <td>9.24</td>\n",
              "      <td>Fc</td>\n",
              "      <td>Donnée calculée</td>\n",
              "    </tr>\n",
              "    <tr>\n",
              "      <th>37163</th>\n",
              "      <td>FBS</td>\n",
              "      <td>Bilans Alimentaires</td>\n",
              "      <td>351</td>\n",
              "      <td>Chine</td>\n",
              "      <td>664</td>\n",
              "      <td>Disponibilité alimentaire (Kcal/personne/jour)</td>\n",
              "      <td>2775</td>\n",
              "      <td>Plantes Aquatiques</td>\n",
              "      <td>2013</td>\n",
              "      <td>2013</td>\n",
              "      <td>Kcal/personne/jour</td>\n",
              "      <td>9.00</td>\n",
              "      <td>Fc</td>\n",
              "      <td>Donnée calculée</td>\n",
              "    </tr>\n",
              "    <tr>\n",
              "      <th>37164</th>\n",
              "      <td>FBS</td>\n",
              "      <td>Bilans Alimentaires</td>\n",
              "      <td>351</td>\n",
              "      <td>Chine</td>\n",
              "      <td>674</td>\n",
              "      <td>Disponibilité de protéines en quantité (g/pers...</td>\n",
              "      <td>2775</td>\n",
              "      <td>Plantes Aquatiques</td>\n",
              "      <td>2013</td>\n",
              "      <td>2013</td>\n",
              "      <td>g/personne/jour</td>\n",
              "      <td>0.69</td>\n",
              "      <td>Fc</td>\n",
              "      <td>Donnée calculée</td>\n",
              "    </tr>\n",
              "    <tr>\n",
              "      <th>37165</th>\n",
              "      <td>FBS</td>\n",
              "      <td>Bilans Alimentaires</td>\n",
              "      <td>351</td>\n",
              "      <td>Chine</td>\n",
              "      <td>684</td>\n",
              "      <td>Disponibilité de matière grasse en quantité (g...</td>\n",
              "      <td>2775</td>\n",
              "      <td>Plantes Aquatiques</td>\n",
              "      <td>2013</td>\n",
              "      <td>2013</td>\n",
              "      <td>g/personne/jour</td>\n",
              "      <td>0.04</td>\n",
              "      <td>Fc</td>\n",
              "      <td>Donnée calculée</td>\n",
              "    </tr>\n",
              "  </tbody>\n",
              "</table>\n",
              "<p>37166 rows × 14 columns</p>\n",
              "</div>"
            ],
            "text/plain": [
              "      Code Domaine              Domaine  Code Pays         Pays  Code Élément  \\\n",
              "0              FBS  Bilans Alimentaires          2  Afghanistan          5511   \n",
              "1              FBS  Bilans Alimentaires          2  Afghanistan          5611   \n",
              "2              FBS  Bilans Alimentaires          2  Afghanistan          5301   \n",
              "3              FBS  Bilans Alimentaires          2  Afghanistan          5142   \n",
              "4              FBS  Bilans Alimentaires          2  Afghanistan           645   \n",
              "...            ...                  ...        ...          ...           ...   \n",
              "37161          FBS  Bilans Alimentaires        351        Chine          5142   \n",
              "37162          FBS  Bilans Alimentaires        351        Chine           645   \n",
              "37163          FBS  Bilans Alimentaires        351        Chine           664   \n",
              "37164          FBS  Bilans Alimentaires        351        Chine           674   \n",
              "37165          FBS  Bilans Alimentaires        351        Chine           684   \n",
              "\n",
              "                                                 Élément  Code Produit  \\\n",
              "0                                             Production          2731   \n",
              "1                                Importations - Quantité          2731   \n",
              "2                               Disponibilité intérieure          2731   \n",
              "3                                             Nourriture          2731   \n",
              "4      Disponibilité alimentaire en quantité (kg/pers...          2731   \n",
              "...                                                  ...           ...   \n",
              "37161                                         Nourriture          2775   \n",
              "37162  Disponibilité alimentaire en quantité (kg/pers...          2775   \n",
              "37163     Disponibilité alimentaire (Kcal/personne/jour)          2775   \n",
              "37164  Disponibilité de protéines en quantité (g/pers...          2775   \n",
              "37165  Disponibilité de matière grasse en quantité (g...          2775   \n",
              "\n",
              "                  Produit  Code Année  Année               Unité    Valeur  \\\n",
              "0        Viande de Bovins        2013   2013  Milliers de tonnes    134.00   \n",
              "1        Viande de Bovins        2013   2013  Milliers de tonnes      6.00   \n",
              "2        Viande de Bovins        2013   2013  Milliers de tonnes    140.00   \n",
              "3        Viande de Bovins        2013   2013  Milliers de tonnes    140.00   \n",
              "4        Viande de Bovins        2013   2013                  kg      4.59   \n",
              "...                   ...         ...    ...                 ...       ...   \n",
              "37161  Plantes Aquatiques        2013   2013  Milliers de tonnes  13086.00   \n",
              "37162  Plantes Aquatiques        2013   2013                  kg      9.24   \n",
              "37163  Plantes Aquatiques        2013   2013  Kcal/personne/jour      9.00   \n",
              "37164  Plantes Aquatiques        2013   2013     g/personne/jour      0.69   \n",
              "37165  Plantes Aquatiques        2013   2013     g/personne/jour      0.04   \n",
              "\n",
              "      Symbole                             Description du Symbole  \n",
              "0           S                              Données standardisées  \n",
              "1           S                              Données standardisées  \n",
              "2           S                              Données standardisées  \n",
              "3           S                              Données standardisées  \n",
              "4          Fc                                    Donnée calculée  \n",
              "...       ...                                                ...  \n",
              "37161       A  Agrégat, peut inclure des données officielles,...  \n",
              "37162      Fc                                    Donnée calculée  \n",
              "37163      Fc                                    Donnée calculée  \n",
              "37164      Fc                                    Donnée calculée  \n",
              "37165      Fc                                    Donnée calculée  \n",
              "\n",
              "[37166 rows x 14 columns]"
            ]
          },
          "execution_count": 2,
          "metadata": {},
          "output_type": "execute_result"
        }
      ],
      "source": [
        "import pandas as pd\n",
        "import numpy as np\n",
        "\n",
        "chemein_fichier = \"https://raw.githubusercontent.com/data-IA-2023/Groupe-3/4f55cd09493101a19266be06eb08fe1770ece8de/fao_2013/FAOSTAT_2013_animal.csv\"\n",
        "\n",
        "df = pd.read_csv(chemein_fichier, sep=',',on_bad_lines='skip')\n",
        "df"
      ]
    },
    {
      "cell_type": "code",
      "execution_count": 3,
      "metadata": {},
      "outputs": [],
      "source": [
        "\"\"\"\n",
        "0 : importation\n",
        "\"\"\"\n",
        "import pandas as pd\n",
        "import numpy as np\n",
        "import seaborn as sns"
      ]
    },
    {
      "cell_type": "code",
      "execution_count": 4,
      "metadata": {},
      "outputs": [
        {
          "data": {
            "text/html": [
              "<div>\n",
              "<style scoped>\n",
              "    .dataframe tbody tr th:only-of-type {\n",
              "        vertical-align: middle;\n",
              "    }\n",
              "\n",
              "    .dataframe tbody tr th {\n",
              "        vertical-align: top;\n",
              "    }\n",
              "\n",
              "    .dataframe thead th {\n",
              "        text-align: right;\n",
              "    }\n",
              "</style>\n",
              "<table border=\"1\" class=\"dataframe\">\n",
              "  <thead>\n",
              "    <tr style=\"text-align: right;\">\n",
              "      <th></th>\n",
              "      <th>Code Domaine</th>\n",
              "      <th>Domaine</th>\n",
              "      <th>Code zone (M49)</th>\n",
              "      <th>Zone</th>\n",
              "      <th>Code Élément</th>\n",
              "      <th>Élément</th>\n",
              "      <th>Code Produit</th>\n",
              "      <th>Produit</th>\n",
              "      <th>Code année</th>\n",
              "      <th>Année</th>\n",
              "      <th>Unité</th>\n",
              "      <th>Valeur</th>\n",
              "      <th>Symbole</th>\n",
              "      <th>Description du Symbole</th>\n",
              "      <th>Note</th>\n",
              "    </tr>\n",
              "  </thead>\n",
              "  <tbody>\n",
              "    <tr>\n",
              "      <th>0</th>\n",
              "      <td>FS</td>\n",
              "      <td>Données de la sécurité alimentaire</td>\n",
              "      <td>4</td>\n",
              "      <td>Afghanistan</td>\n",
              "      <td>6121</td>\n",
              "      <td>Valeur</td>\n",
              "      <td>21010</td>\n",
              "      <td>Suffisance des apports énergétiques alimentair...</td>\n",
              "      <td>20192021</td>\n",
              "      <td>2019-2021</td>\n",
              "      <td>%</td>\n",
              "      <td>104</td>\n",
              "      <td>E</td>\n",
              "      <td>Valeur estimée</td>\n",
              "      <td>NaN</td>\n",
              "    </tr>\n",
              "    <tr>\n",
              "      <th>1</th>\n",
              "      <td>FS</td>\n",
              "      <td>Données de la sécurité alimentaire</td>\n",
              "      <td>4</td>\n",
              "      <td>Afghanistan</td>\n",
              "      <td>6128</td>\n",
              "      <td>Valeur</td>\n",
              "      <td>22000</td>\n",
              "      <td>Disponibilité alimentaire par habitant utilisé...</td>\n",
              "      <td>20192021</td>\n",
              "      <td>2019-2021</td>\n",
              "      <td>Kcal/personne/jour</td>\n",
              "      <td>2239</td>\n",
              "      <td>E</td>\n",
              "      <td>Valeur estimée</td>\n",
              "      <td>NaN</td>\n",
              "    </tr>\n",
              "    <tr>\n",
              "      <th>2</th>\n",
              "      <td>FS</td>\n",
              "      <td>Données de la sécurité alimentaire</td>\n",
              "      <td>4</td>\n",
              "      <td>Afghanistan</td>\n",
              "      <td>6121</td>\n",
              "      <td>Valeur</td>\n",
              "      <td>21012</td>\n",
              "      <td>Part des céréales, des racines et des tubercul...</td>\n",
              "      <td>20192021</td>\n",
              "      <td>2019-2021</td>\n",
              "      <td>%</td>\n",
              "      <td>NaN</td>\n",
              "      <td>O</td>\n",
              "      <td>Valeur manquante</td>\n",
              "      <td>NaN</td>\n",
              "    </tr>\n",
              "    <tr>\n",
              "      <th>3</th>\n",
              "      <td>FS</td>\n",
              "      <td>Données de la sécurité alimentaire</td>\n",
              "      <td>4</td>\n",
              "      <td>Afghanistan</td>\n",
              "      <td>6123</td>\n",
              "      <td>Valeur</td>\n",
              "      <td>21013</td>\n",
              "      <td>Disponibilités protéiques moyennes (g/personne...</td>\n",
              "      <td>20192021</td>\n",
              "      <td>2019-2021</td>\n",
              "      <td>g/personne/jour</td>\n",
              "      <td>NaN</td>\n",
              "      <td>O</td>\n",
              "      <td>Valeur manquante</td>\n",
              "      <td>NaN</td>\n",
              "    </tr>\n",
              "    <tr>\n",
              "      <th>4</th>\n",
              "      <td>FS</td>\n",
              "      <td>Données de la sécurité alimentaire</td>\n",
              "      <td>4</td>\n",
              "      <td>Afghanistan</td>\n",
              "      <td>6123</td>\n",
              "      <td>Valeur</td>\n",
              "      <td>21014</td>\n",
              "      <td>Disponibilités protéines moyennes d’origine an...</td>\n",
              "      <td>20192021</td>\n",
              "      <td>2019-2021</td>\n",
              "      <td>g/personne/jour</td>\n",
              "      <td>NaN</td>\n",
              "      <td>O</td>\n",
              "      <td>Valeur manquante</td>\n",
              "      <td>NaN</td>\n",
              "    </tr>\n",
              "    <tr>\n",
              "      <th>...</th>\n",
              "      <td>...</td>\n",
              "      <td>...</td>\n",
              "      <td>...</td>\n",
              "      <td>...</td>\n",
              "      <td>...</td>\n",
              "      <td>...</td>\n",
              "      <td>...</td>\n",
              "      <td>...</td>\n",
              "      <td>...</td>\n",
              "      <td>...</td>\n",
              "      <td>...</td>\n",
              "      <td>...</td>\n",
              "      <td>...</td>\n",
              "      <td>...</td>\n",
              "      <td>...</td>\n",
              "    </tr>\n",
              "    <tr>\n",
              "      <th>12633</th>\n",
              "      <td>FS</td>\n",
              "      <td>Données de la sécurité alimentaire</td>\n",
              "      <td>716</td>\n",
              "      <td>Zimbabwe</td>\n",
              "      <td>6128</td>\n",
              "      <td>Valeur</td>\n",
              "      <td>21056</td>\n",
              "      <td>Besoins énergétiques alimentaires minimaux (kc...</td>\n",
              "      <td>2020</td>\n",
              "      <td>2020</td>\n",
              "      <td>Kcal/personne/jour</td>\n",
              "      <td>1752</td>\n",
              "      <td>E</td>\n",
              "      <td>Valeur estimée</td>\n",
              "      <td>NaN</td>\n",
              "    </tr>\n",
              "    <tr>\n",
              "      <th>12634</th>\n",
              "      <td>FS</td>\n",
              "      <td>Données de la sécurité alimentaire</td>\n",
              "      <td>716</td>\n",
              "      <td>Zimbabwe</td>\n",
              "      <td>6128</td>\n",
              "      <td>Valeur</td>\n",
              "      <td>21057</td>\n",
              "      <td>Besoins énergétiques alimentaires moyens (kcal...</td>\n",
              "      <td>2020</td>\n",
              "      <td>2020</td>\n",
              "      <td>Kcal/personne/jour</td>\n",
              "      <td>2240</td>\n",
              "      <td>E</td>\n",
              "      <td>Valeur estimée</td>\n",
              "      <td>NaN</td>\n",
              "    </tr>\n",
              "    <tr>\n",
              "      <th>12635</th>\n",
              "      <td>FS</td>\n",
              "      <td>Données de la sécurité alimentaire</td>\n",
              "      <td>716</td>\n",
              "      <td>Zimbabwe</td>\n",
              "      <td>6173</td>\n",
              "      <td>Valeur</td>\n",
              "      <td>21058</td>\n",
              "      <td>Coefficient de variation de la distribution de...</td>\n",
              "      <td>2020</td>\n",
              "      <td>2020</td>\n",
              "      <td>Nombre</td>\n",
              "      <td>0.31</td>\n",
              "      <td>E</td>\n",
              "      <td>Valeur estimée</td>\n",
              "      <td>NaN</td>\n",
              "    </tr>\n",
              "    <tr>\n",
              "      <th>12636</th>\n",
              "      <td>FS</td>\n",
              "      <td>Données de la sécurité alimentaire</td>\n",
              "      <td>716</td>\n",
              "      <td>Zimbabwe</td>\n",
              "      <td>6121</td>\n",
              "      <td>Valeur</td>\n",
              "      <td>21059</td>\n",
              "      <td>Incidence des pertes caloriques au niveau de l...</td>\n",
              "      <td>2020</td>\n",
              "      <td>2020</td>\n",
              "      <td>%</td>\n",
              "      <td>2.13</td>\n",
              "      <td>E</td>\n",
              "      <td>Valeur estimée</td>\n",
              "      <td>NaN</td>\n",
              "    </tr>\n",
              "    <tr>\n",
              "      <th>12637</th>\n",
              "      <td>FS</td>\n",
              "      <td>Données de la sécurité alimentaire</td>\n",
              "      <td>716</td>\n",
              "      <td>Zimbabwe</td>\n",
              "      <td>6123</td>\n",
              "      <td>Valeur</td>\n",
              "      <td>21061</td>\n",
              "      <td>Disponibilités moyennes de matière grasse (g/p...</td>\n",
              "      <td>20192021</td>\n",
              "      <td>2019-2021</td>\n",
              "      <td>g/personne/jour</td>\n",
              "      <td>NaN</td>\n",
              "      <td>O</td>\n",
              "      <td>Valeur manquante</td>\n",
              "      <td>NaN</td>\n",
              "    </tr>\n",
              "  </tbody>\n",
              "</table>\n",
              "<p>12638 rows × 15 columns</p>\n",
              "</div>"
            ],
            "text/plain": [
              "      Code Domaine                             Domaine  Code zone (M49)  \\\n",
              "0               FS  Données de la sécurité alimentaire                4   \n",
              "1               FS  Données de la sécurité alimentaire                4   \n",
              "2               FS  Données de la sécurité alimentaire                4   \n",
              "3               FS  Données de la sécurité alimentaire                4   \n",
              "4               FS  Données de la sécurité alimentaire                4   \n",
              "...            ...                                 ...              ...   \n",
              "12633           FS  Données de la sécurité alimentaire              716   \n",
              "12634           FS  Données de la sécurité alimentaire              716   \n",
              "12635           FS  Données de la sécurité alimentaire              716   \n",
              "12636           FS  Données de la sécurité alimentaire              716   \n",
              "12637           FS  Données de la sécurité alimentaire              716   \n",
              "\n",
              "              Zone  Code Élément Élément Code Produit  \\\n",
              "0      Afghanistan          6121  Valeur        21010   \n",
              "1      Afghanistan          6128  Valeur        22000   \n",
              "2      Afghanistan          6121  Valeur        21012   \n",
              "3      Afghanistan          6123  Valeur        21013   \n",
              "4      Afghanistan          6123  Valeur        21014   \n",
              "...            ...           ...     ...          ...   \n",
              "12633     Zimbabwe          6128  Valeur        21056   \n",
              "12634     Zimbabwe          6128  Valeur        21057   \n",
              "12635     Zimbabwe          6173  Valeur        21058   \n",
              "12636     Zimbabwe          6121  Valeur        21059   \n",
              "12637     Zimbabwe          6123  Valeur        21061   \n",
              "\n",
              "                                                 Produit  Code année  \\\n",
              "0      Suffisance des apports énergétiques alimentair...    20192021   \n",
              "1      Disponibilité alimentaire par habitant utilisé...    20192021   \n",
              "2      Part des céréales, des racines et des tubercul...    20192021   \n",
              "3      Disponibilités protéiques moyennes (g/personne...    20192021   \n",
              "4      Disponibilités protéines moyennes d’origine an...    20192021   \n",
              "...                                                  ...         ...   \n",
              "12633  Besoins énergétiques alimentaires minimaux (kc...        2020   \n",
              "12634  Besoins énergétiques alimentaires moyens (kcal...        2020   \n",
              "12635  Coefficient de variation de la distribution de...        2020   \n",
              "12636  Incidence des pertes caloriques au niveau de l...        2020   \n",
              "12637  Disponibilités moyennes de matière grasse (g/p...    20192021   \n",
              "\n",
              "           Année               Unité Valeur Symbole Description du Symbole  \\\n",
              "0      2019-2021                   %    104       E         Valeur estimée   \n",
              "1      2019-2021  Kcal/personne/jour   2239       E         Valeur estimée   \n",
              "2      2019-2021                   %    NaN       O       Valeur manquante   \n",
              "3      2019-2021     g/personne/jour    NaN       O       Valeur manquante   \n",
              "4      2019-2021     g/personne/jour    NaN       O       Valeur manquante   \n",
              "...          ...                 ...    ...     ...                    ...   \n",
              "12633       2020  Kcal/personne/jour   1752       E         Valeur estimée   \n",
              "12634       2020  Kcal/personne/jour   2240       E         Valeur estimée   \n",
              "12635       2020              Nombre   0.31       E         Valeur estimée   \n",
              "12636       2020                   %   2.13       E         Valeur estimée   \n",
              "12637  2019-2021     g/personne/jour    NaN       O       Valeur manquante   \n",
              "\n",
              "      Note  \n",
              "0      NaN  \n",
              "1      NaN  \n",
              "2      NaN  \n",
              "3      NaN  \n",
              "4      NaN  \n",
              "...    ...  \n",
              "12633  NaN  \n",
              "12634  NaN  \n",
              "12635  NaN  \n",
              "12636  NaN  \n",
              "12637  NaN  \n",
              "\n",
              "[12638 rows x 15 columns]"
            ]
          },
          "execution_count": 4,
          "metadata": {},
          "output_type": "execute_result"
        }
      ],
      "source": [
        "\"\"\"\n",
        "1.7 : creation du fichier \"Données de la sécurité alimentaire 2020\"\n",
        "\"\"\"\n",
        "\n",
        "chemein_fichier = \"https://raw.githubusercontent.com/data-IA-2023/Groupe-3/main/fao_2020/FAOSTAT_2020_Donn%C3%A9es%20de%20la%20s%C3%A9curit%C3%A9%20alimentaire.csv\"\n",
        "\n",
        "df_securite_alimentaire_2020 = pd.read_csv(chemein_fichier, sep=',', on_bad_lines='skip', encoding='utf-8')\n",
        "df_securite_alimentaire_2020"
      ]
    },
    {
      "cell_type": "markdown",
      "metadata": {
        "id": "wP4Y2HP5BjEn"
      },
      "source": [
        "## Partie netoyage des données"
      ]
    },
    {
      "cell_type": "code",
      "execution_count": 5,
      "metadata": {
        "id": "Pq_LrpqdByVc"
      },
      "outputs": [
        {
          "name": "stdout",
          "output_type": "stream",
          "text": [
            "<class 'pandas.core.frame.DataFrame'>\n",
            "RangeIndex: 12638 entries, 0 to 12637\n",
            "Data columns (total 15 columns):\n",
            " #   Column                  Non-Null Count  Dtype \n",
            "---  ------                  --------------  ----- \n",
            " 0   Code Domaine            12638 non-null  object\n",
            " 1   Domaine                 12638 non-null  object\n",
            " 2   Code zone (M49)         12638 non-null  int64 \n",
            " 3   Zone                    12638 non-null  object\n",
            " 4   Code Élément            12638 non-null  int64 \n",
            " 5   Élément                 12638 non-null  object\n",
            " 6   Code Produit            12638 non-null  object\n",
            " 7   Produit                 12638 non-null  object\n",
            " 8   Code année              12638 non-null  int64 \n",
            " 9   Année                   12638 non-null  object\n",
            " 10  Unité                   12638 non-null  object\n",
            " 11  Valeur                  7902 non-null   object\n",
            " 12  Symbole                 12439 non-null  object\n",
            " 13  Description du Symbole  12439 non-null  object\n",
            " 14  Note                    648 non-null    object\n",
            "dtypes: int64(3), object(12)\n",
            "memory usage: 1.4+ MB\n"
          ]
        }
      ],
      "source": [
        "\"\"\"\n",
        "2.7 : info sur le fichier \"Données de la sécurité alimentaire 2020\"\n",
        "\"\"\"\n",
        "df_securite_alimentaire_2020.info()"
      ]
    },
    {
      "cell_type": "code",
      "execution_count": 6,
      "metadata": {
        "id": "Ls8QWkncAwzo"
      },
      "outputs": [
        {
          "name": "stdout",
          "output_type": "stream",
          "text": [
            "<class 'pandas.core.frame.DataFrame'>\n",
            "RangeIndex: 12638 entries, 0 to 12637\n",
            "Data columns (total 15 columns):\n",
            " #   Column                  Non-Null Count  Dtype \n",
            "---  ------                  --------------  ----- \n",
            " 0   Code Domaine            12638 non-null  object\n",
            " 1   Domaine                 12638 non-null  object\n",
            " 2   Code zone (M49)         12638 non-null  int64 \n",
            " 3   Zone                    12638 non-null  object\n",
            " 4   Code Élément            12638 non-null  int64 \n",
            " 5   Élément                 12638 non-null  object\n",
            " 6   Code Produit            12638 non-null  object\n",
            " 7   Produit                 12638 non-null  object\n",
            " 8   Code année              12638 non-null  int64 \n",
            " 9   Année                   12638 non-null  object\n",
            " 10  Unité                   12638 non-null  object\n",
            " 11  Valeur                  7902 non-null   object\n",
            " 12  Symbole                 12439 non-null  object\n",
            " 13  Description du Symbole  12439 non-null  object\n",
            " 14  Note                    648 non-null    object\n",
            "dtypes: int64(3), object(12)\n",
            "memory usage: 1.4+ MB\n"
          ]
        }
      ],
      "source": [
        "\"\"\"\n",
        "3.7 : suprime doublon\n",
        "\"\"\"\n",
        "df_securite_alimentaire_2020.drop_duplicates(ignore_index=True)\n",
        "df_securite_alimentaire_2020.info()"
      ]
    },
    {
      "cell_type": "code",
      "execution_count": 7,
      "metadata": {},
      "outputs": [
        {
          "data": {
            "text/plain": [
              "Code Domaine                 1\n",
              "Domaine                      1\n",
              "Code zone (M49)            204\n",
              "Zone                       204\n",
              "Code Élément                12\n",
              "Élément                      3\n",
              "Code Produit                44\n",
              "Produit                     43\n",
              "Code année                   2\n",
              "Année                        2\n",
              "Unité                        8\n",
              "Valeur                    1820\n",
              "Symbole                      4\n",
              "Description du Symbole       4\n",
              "Note                         2\n",
              "dtype: int64"
            ]
          },
          "execution_count": 7,
          "metadata": {},
          "output_type": "execute_result"
        }
      ],
      "source": [
        "\"\"\"\n",
        "4.7 : exploration des données\n",
        "\"\"\"\n",
        "n = df_securite_alimentaire_2020.nunique(axis=0)\n",
        "n"
      ]
    },
    {
      "cell_type": "code",
      "execution_count": 8,
      "metadata": {},
      "outputs": [
        {
          "name": "stdout",
          "output_type": "stream",
          "text": [
            "<class 'pandas.core.frame.DataFrame'>\n",
            "RangeIndex: 12638 entries, 0 to 12637\n",
            "Data columns (total 13 columns):\n",
            " #   Column                  Non-Null Count  Dtype \n",
            "---  ------                  --------------  ----- \n",
            " 0   Code zone (M49)         12638 non-null  int64 \n",
            " 1   Zone                    12638 non-null  object\n",
            " 2   Code Élément            12638 non-null  int64 \n",
            " 3   Élément                 12638 non-null  object\n",
            " 4   Code Produit            12638 non-null  object\n",
            " 5   Produit                 12638 non-null  object\n",
            " 6   Code année              12638 non-null  int64 \n",
            " 7   Année                   12638 non-null  object\n",
            " 8   Unité                   12638 non-null  object\n",
            " 9   Valeur                  7902 non-null   object\n",
            " 10  Symbole                 12439 non-null  object\n",
            " 11  Description du Symbole  12439 non-null  object\n",
            " 12  Note                    648 non-null    object\n",
            "dtypes: int64(3), object(10)\n",
            "memory usage: 1.3+ MB\n"
          ]
        }
      ],
      "source": [
        "\"\"\"\n",
        "on remarque que Code Domaine et Domaine n'ont que 1 valeur, ce n'est pas des colonnes que l'on va garder.\n",
        "Code année et Année ont 2 valeurs, elles sont peut-être redondande. A voir, si oui, suprimé Code année\n",
        "Code zone (M49) et Zone ont 204 valeurs, elles sont peut-être redondande. A voir, si oui, suprimé Code zone\n",
        "Symbole et Description du Symbole ont 4 valeurs, elles sont peut-être redondande. A voir, si oui, \n",
        "suprimé Symbole et renommé Description du Symbole en Symbole\n",
        "\"\"\"\n",
        "df_securite_alimentaire_2020.drop(\"Code Domaine\", inplace=True, axis=1)\n",
        "df_securite_alimentaire_2020.drop(\"Domaine\", inplace=True, axis=1)\n",
        "df_securite_alimentaire_2020.info()"
      ]
    },
    {
      "cell_type": "code",
      "execution_count": 9,
      "metadata": {},
      "outputs": [
        {
          "data": {
            "text/plain": [
              "Code année\n",
              "20192021    9588\n",
              "2020        3050\n",
              "Name: count, dtype: int64"
            ]
          },
          "execution_count": 9,
          "metadata": {},
          "output_type": "execute_result"
        }
      ],
      "source": [
        "df_securite_alimentaire_2020['Code année'].value_counts()"
      ]
    },
    {
      "cell_type": "code",
      "execution_count": 10,
      "metadata": {},
      "outputs": [
        {
          "data": {
            "text/plain": [
              "Année\n",
              "2019-2021    9588\n",
              "2020         3050\n",
              "Name: count, dtype: int64"
            ]
          },
          "execution_count": 10,
          "metadata": {},
          "output_type": "execute_result"
        }
      ],
      "source": [
        "df_securite_alimentaire_2020['Année'].value_counts()"
      ]
    },
    {
      "cell_type": "code",
      "execution_count": 11,
      "metadata": {},
      "outputs": [
        {
          "name": "stdout",
          "output_type": "stream",
          "text": [
            "<class 'pandas.core.frame.DataFrame'>\n",
            "RangeIndex: 12638 entries, 0 to 12637\n",
            "Data columns (total 12 columns):\n",
            " #   Column                  Non-Null Count  Dtype \n",
            "---  ------                  --------------  ----- \n",
            " 0   Code zone (M49)         12638 non-null  int64 \n",
            " 1   Zone                    12638 non-null  object\n",
            " 2   Code Élément            12638 non-null  int64 \n",
            " 3   Élément                 12638 non-null  object\n",
            " 4   Code Produit            12638 non-null  object\n",
            " 5   Produit                 12638 non-null  object\n",
            " 6   Année                   12638 non-null  int64 \n",
            " 7   Unité                   12638 non-null  object\n",
            " 8   Valeur                  7902 non-null   object\n",
            " 9   Symbole                 12439 non-null  object\n",
            " 10  Description du Symbole  12439 non-null  object\n",
            " 11  Note                    648 non-null    object\n",
            "dtypes: int64(3), object(9)\n",
            "memory usage: 1.2+ MB\n"
          ]
        }
      ],
      "source": [
        "\"\"\"\n",
        "'Code année' et 'Année' sont bien redondant, on va supprimer 'Année', et renommer 'Code année' en 'Année'\n",
        "\"\"\"\n",
        "df_securite_alimentaire_2020.drop(\"Année\", inplace=True, axis=1)\n",
        "df_securite_alimentaire_2020.rename(columns={\"Code année\": \"Année\"}, inplace=True)\n",
        "df_securite_alimentaire_2020.info()"
      ]
    },
    {
      "cell_type": "code",
      "execution_count": 12,
      "metadata": {},
      "outputs": [
        {
          "data": {
            "text/plain": [
              "Symbole\n",
              "E    5629\n",
              "O    4537\n",
              "X    1625\n",
              "A     648\n",
              "Name: count, dtype: int64"
            ]
          },
          "execution_count": 12,
          "metadata": {},
          "output_type": "execute_result"
        }
      ],
      "source": [
        "df_securite_alimentaire_2020['Symbole'].value_counts()"
      ]
    },
    {
      "cell_type": "code",
      "execution_count": 13,
      "metadata": {},
      "outputs": [
        {
          "data": {
            "text/plain": [
              "Description du Symbole\n",
              "Valeur estimée                       5629\n",
              "Valeur manquante                     4537\n",
              "Ciffre de sources internationales    1625\n",
              "Chiffre officiel                      648\n",
              "Name: count, dtype: int64"
            ]
          },
          "execution_count": 13,
          "metadata": {},
          "output_type": "execute_result"
        }
      ],
      "source": [
        "df_securite_alimentaire_2020['Description du Symbole'].value_counts()"
      ]
    },
    {
      "cell_type": "code",
      "execution_count": 14,
      "metadata": {},
      "outputs": [
        {
          "data": {
            "text/plain": [
              "\"\\n'Symbole' et 'Description du Symbole' sont bien redondant mais pas completement, on va conserver les 2 colonnes\\n\""
            ]
          },
          "execution_count": 14,
          "metadata": {},
          "output_type": "execute_result"
        }
      ],
      "source": [
        "\"\"\"\n",
        "'Symbole' et 'Description du Symbole' sont bien redondant mais pas completement, on va conserver les 2 colonnes\n",
        "\"\"\""
      ]
    },
    {
      "cell_type": "code",
      "execution_count": 15,
      "metadata": {},
      "outputs": [
        {
          "data": {
            "text/plain": [
              "Code zone (M49)\n",
              "566    66\n",
              "270    66\n",
              "275    66\n",
              "646    65\n",
              "496    64\n",
              "       ..\n",
              "308    56\n",
              "583    56\n",
              "44     56\n",
              "212    56\n",
              "158    55\n",
              "Name: count, Length: 204, dtype: int64"
            ]
          },
          "execution_count": 15,
          "metadata": {},
          "output_type": "execute_result"
        }
      ],
      "source": [
        "df_securite_alimentaire_2020['Code zone (M49)'].value_counts()"
      ]
    },
    {
      "cell_type": "code",
      "execution_count": 16,
      "metadata": {},
      "outputs": [
        {
          "data": {
            "text/plain": [
              "Zone\n",
              "Nigéria                          66\n",
              "Gambie                           66\n",
              "Palestine                        66\n",
              "Rwanda                           65\n",
              "Mongolie                         64\n",
              "                                 ..\n",
              "Grenade                          56\n",
              "Micronésie (États fédérés de)    56\n",
              "Bahamas                          56\n",
              "Dominique                        56\n",
              "Chine, Taiwan Province de        55\n",
              "Name: count, Length: 204, dtype: int64"
            ]
          },
          "execution_count": 16,
          "metadata": {},
          "output_type": "execute_result"
        }
      ],
      "source": [
        "df_securite_alimentaire_2020['Zone'].value_counts()"
      ]
    },
    {
      "cell_type": "code",
      "execution_count": 17,
      "metadata": {},
      "outputs": [
        {
          "name": "stdout",
          "output_type": "stream",
          "text": [
            "<class 'pandas.core.frame.DataFrame'>\n",
            "RangeIndex: 12638 entries, 0 to 12637\n",
            "Data columns (total 11 columns):\n",
            " #   Column                  Non-Null Count  Dtype \n",
            "---  ------                  --------------  ----- \n",
            " 0   Zone                    12638 non-null  object\n",
            " 1   Code Élément            12638 non-null  int64 \n",
            " 2   Élément                 12638 non-null  object\n",
            " 3   Code Produit            12638 non-null  object\n",
            " 4   Produit                 12638 non-null  object\n",
            " 5   Année                   12638 non-null  int64 \n",
            " 6   Unité                   12638 non-null  object\n",
            " 7   Valeur                  7902 non-null   object\n",
            " 8   Symbole                 12439 non-null  object\n",
            " 9   Description du Symbole  12439 non-null  object\n",
            " 10  Note                    648 non-null    object\n",
            "dtypes: int64(2), object(9)\n",
            "memory usage: 1.1+ MB\n"
          ]
        }
      ],
      "source": [
        "\"\"\"\n",
        "'Code zone (M49)' et 'Zone' sont bien redondant, on va supprimer 'Code zone (M49)'\n",
        "\"\"\"\n",
        "df_securite_alimentaire_2020.drop(\"Code zone (M49)\", inplace=True, axis=1)\n",
        "df_securite_alimentaire_2020.info()"
      ]
    },
    {
      "cell_type": "markdown",
      "metadata": {
        "id": "WXU-1nrKBtDC"
      },
      "source": [
        "## Partie traitement des données"
      ]
    },
    {
      "cell_type": "markdown",
      "metadata": {
        "id": "1Lf3QTuICiKd"
      },
      "source": [
        "### 1 - Analyses descriptives et exploratoire des données"
      ]
    },
    {
      "cell_type": "markdown",
      "metadata": {
        "id": "5BJWz1boDY5t"
      },
      "source": [
        "Il s’agit ici de réaliser des analyses descriptives statistiques et graphiques sur les différentes variables des jeux de données :\n",
        "\n",
        "    • Analyses univariées\n",
        "    • Analyses bi-variées\n",
        "    • Analyses multi-variées\n",
        "\n",
        "Réaliser également des analyses exploratoires sur les différentes variables"
      ]
    },
    {
      "cell_type": "markdown",
      "metadata": {
        "id": "oela_0itDYJH"
      },
      "source": [
        "Il s’agit ici de réaliser des analyses descriptives statistiques et graphiques sur les différentes variables des jeux de données :\n",
        "    • Analyses univariées\n",
        "    • Analyses bi-variées\n",
        "    • Analyses multi-variées\n",
        "Réaliser également des analyses exploratoires sur les différentes variables"
      ]
    },
    {
      "cell_type": "code",
      "execution_count": 18,
      "metadata": {
        "id": "NniaH68-Zn3w"
      },
      "outputs": [
        {
          "data": {
            "text/plain": [
              "'\\n1 : ouverture du fichier \"Données de la sécurité alimentaire 2020\"\\n'"
            ]
          },
          "execution_count": 18,
          "metadata": {},
          "output_type": "execute_result"
        }
      ],
      "source": [
        "\"\"\"\n",
        "1 : ouverture du fichier \"Données de la sécurité alimentaire 2020\"\n",
        "\"\"\"\n",
        "\n"
      ]
    },
    {
      "cell_type": "markdown",
      "metadata": {
        "id": "1nt2-WIKCb1J"
      },
      "source": [
        "### 2 - Etude guidée n°1"
      ]
    },
    {
      "cell_type": "markdown",
      "metadata": {
        "id": "aaX0yzLvD6n9"
      },
      "source": [
        "Il s’agit ici de répondre à toutes les questions ci-dessous."
      ]
    },
    {
      "cell_type": "markdown",
      "metadata": {
        "id": "otDngoRdZ-OO"
      },
      "source": [
        "#### Question 1 : Nombre d'humains sur la planète\n",
        "Calculez le nombre total d’humains sur la planète.\n",
        "Critiquez votre résultat. En cas d’anomalie, analysez et effectuer les corrections nécessaires.\n",
        "Donnez le résultat de votre calcul pour l'année 2013."
      ]
    },
    {
      "cell_type": "code",
      "execution_count": null,
      "metadata": {
        "id": "F7mUOOxHZ_9_"
      },
      "outputs": [],
      "source": []
    },
    {
      "cell_type": "markdown",
      "metadata": {
        "id": "_hAXW1I3aA2G"
      },
      "source": [
        "#### Question 2 : Redondances\n",
        "Identifiez ces redondances, en donnant votre réponse sous forme de formule mathématique (pas besoin de coder ici).\n",
        "C'est une équation à 3 termes de type (a_1 + a2 + [...] = b_1 + b_2 + [...] = c_1 + c_2 + [...]) ) faisant intervenir chacune des 11 quantités données ci dessus.\n",
        "Illustrez cette équation avec l'exemple du blé en France."
      ]
    },
    {
      "cell_type": "code",
      "execution_count": null,
      "metadata": {
        "id": "Ey3iQvJ1aDRG"
      },
      "outputs": [],
      "source": []
    },
    {
      "cell_type": "markdown",
      "metadata": {
        "id": "5HCFKjr7aDxk"
      },
      "source": [
        "#### Question 3 : Disponibilité alimentaire (calories, protéines)\n",
        "Calculez (pour chaque pays et chaque produit) la disponibilité alimentaire en kcal puis en kg de protéines. Vous ferez cela à partir de ces informations :\n",
        "- Population de chaque pays\n",
        "- Disponibilité alimentaire donnée pour chaque produit et pour chaque pays en kcal/personne/jour, -\n",
        "- Disponibilité alimentaire en protéines donnée pour chaque produit et pour chaque pays en g/personne/jour.\n",
        "Pour cette étape vous avez besoin de constituer une seule et même table à partir des tables animaux et végétaux."
      ]
    },
    {
      "cell_type": "code",
      "execution_count": null,
      "metadata": {
        "id": "B4jG5kWJaKj5"
      },
      "outputs": [],
      "source": []
    },
    {
      "cell_type": "markdown",
      "metadata": {
        "id": "zu-LYhy7aLR9"
      },
      "source": [
        "#### Question 4 : Ratio énergie/poids\n",
        "A partir de ces dernières informations, et à partir du poids de la disponibilité alimentaire (pour chaque pays et chaque produit), calculez pour chaque produit le ratio \"énergie/poids\", que vous donnerez en kcal/kg. Vous pouvez vérifier la cohérence de votre calcul en comparant ce ratio aux données disponibles sur internet, par exemple en cherchant la valeur calorique d'un oeuf."
      ]
    },
    {
      "cell_type": "code",
      "execution_count": null,
      "metadata": {
        "id": "3akvxo_iaYrw"
      },
      "outputs": [],
      "source": []
    },
    {
      "cell_type": "markdown",
      "metadata": {
        "id": "sPhgBCDhaZC1"
      },
      "source": [
        "#### Question 5 : Aliments les plus caloriques et protéiques\n",
        "En considérant les aliments végétaux et animaux, citez 5 aliments parmi les 20 aliments les plus caloriques, en utilisant le ratio énergie/poids. Citez 5 aliments parmi les 20 aliments les plus riches en protéines."
      ]
    },
    {
      "cell_type": "code",
      "execution_count": null,
      "metadata": {
        "id": "0V9zjYedabKw"
      },
      "outputs": [],
      "source": []
    },
    {
      "cell_type": "markdown",
      "metadata": {
        "id": "H1lMRHTYabeR"
      },
      "source": [
        "#### Question 6 : Dispo. intérieure mondiale des végétaux\n",
        "Calculez, pour les produits végétaux uniquement, la disponibilité intérieure mondiale exprimée en kcal."
      ]
    },
    {
      "cell_type": "code",
      "execution_count": null,
      "metadata": {
        "id": "Wzif22s4aeuj"
      },
      "outputs": [],
      "source": []
    },
    {
      "cell_type": "markdown",
      "metadata": {
        "id": "ApEOgLexafF0"
      },
      "source": [
        "#### Question 7 : Potentiel alimentaire des végétaux\n",
        "Combien d'humains pourraient être nourris si toute la disponibilité intérieure mondiale de produits végétaux était utilisée pour de la nourriture ? Donnez les résultats en termes de calories, puis de protéines, et exprimez ensuite ces 2 résultats en pourcentage de la population mondiale."
      ]
    },
    {
      "cell_type": "code",
      "execution_count": null,
      "metadata": {
        "id": "ZtwIMbFuahrI"
      },
      "outputs": [],
      "source": []
    },
    {
      "cell_type": "markdown",
      "metadata": {
        "id": "GBWwrg-OaiB2"
      },
      "source": [
        "#### Question 8 : Potentiel alimentaire des végétaux (destinés aux animaux pertes)\n",
        "Combien d'humains pourraient être nourris si toute la disponibilité alimentaire en produits végétaux la nourriture végétale destinée aux animaux et les pertes de produits végétaux étaient utilisés pour de la nourriture ? Donnez les résultats en termes de calories, puis de protéines, et exprimez ensuite ces 2 résultats en pourcentage de la population mondiale."
      ]
    },
    {
      "cell_type": "code",
      "execution_count": null,
      "metadata": {
        "id": "iF5Im1vEaky4"
      },
      "outputs": [],
      "source": []
    },
    {
      "cell_type": "markdown",
      "metadata": {
        "id": "kL0p9FpIalN0"
      },
      "source": [
        "#### Question 9 : Potentiel alimentaire de la dispo. Mondiale\n",
        "Combien d'humains pourraient être nourris avec la disponibilité alimentaire mondiale ? Donnez les résultats en termes de calories, puis de protéines, et exprimez ensuite ces 2 résultats en pourcentage de la population mondiale."
      ]
    },
    {
      "cell_type": "code",
      "execution_count": null,
      "metadata": {
        "id": "TIibNjMbaoNO"
      },
      "outputs": [],
      "source": []
    },
    {
      "cell_type": "markdown",
      "metadata": {
        "id": "P8yMAZWqaolA"
      },
      "source": [
        "#### Question 10 : Proportion de la sous-nutrition mondiale\n",
        "A partir des données téléchargées qui concernent la sous-nutrition, répondez à cette question : Quelle proportion de la population mondiale est considérée comme étant en sous-nutrition ?"
      ]
    },
    {
      "cell_type": "code",
      "execution_count": null,
      "metadata": {
        "id": "BUHyqcKOarGi"
      },
      "outputs": [],
      "source": []
    },
    {
      "cell_type": "markdown",
      "metadata": {
        "id": "JOB7I9fDarj7"
      },
      "source": [
        "#### Question 11 : Céréales\n",
        "Établissez la liste des produits (ainsi que leur code) considéré comme des céréales selon la FAO. En ne prenant en compte que les céréales destinées à l'alimentation (humaine et animale), quelle proportion (en termes de poids) est destinée à l'alimentation animale ?"
      ]
    },
    {
      "cell_type": "code",
      "execution_count": null,
      "metadata": {
        "id": "OkJK7gp_au3k"
      },
      "outputs": [],
      "source": []
    },
    {
      "cell_type": "markdown",
      "metadata": {
        "id": "1s2qNH1savTW"
      },
      "source": [
        "#### Question 12 : Sous-nutrition\n",
        "Sélectionnez parmi les données des bilans alimentaires les informations relatives aux pays dans lesquels la FAO recense des personnes en sous-nutrition.\n",
        "Repérez les 15 produits les plus exportés par ce groupe de pays.\n",
        "Parmi les données des bilans alimentaires au niveau mondial, sélectionnez les 200 plus grandes importations de ces produits (1 importation = une quantité d'un produit donné importée par un pays donné).\n",
        "Groupez ces importations par produit, afin d'avoir une table contenant 1 ligne pour chacun des 15 produits. Ensuite, calculez pour chaque produit les 2 quantités suivantes :\n",
        "\n",
        "    • le ratio entre la quantité destinés aux \"Autres utilisations\" (Other uses) et la disponibilité intérieure.\n",
        "    • le ratio entre la quantité destinée à la nourriture animale et la quantité destinée à la nourriture (animale + humaine)\n",
        "    \n",
        "Donnez les 3 produits qui ont la plus grande valeur pour chacun des 2 ratios (vous aurez donc 6 produits à citer)"
      ]
    },
    {
      "cell_type": "code",
      "execution_count": null,
      "metadata": {
        "id": "cBVydeGyay3c"
      },
      "outputs": [],
      "source": []
    },
    {
      "cell_type": "markdown",
      "metadata": {
        "id": "Yl6GPYa4a6ON"
      },
      "source": [
        "#### Question 13 : USA\n",
        "Combien de tonnes de céréales pourraient être libérées si les USA diminuaient leur production de produits animaux de 10% ?"
      ]
    },
    {
      "cell_type": "code",
      "execution_count": null,
      "metadata": {
        "id": "S6Ywb72ha66u"
      },
      "outputs": [],
      "source": []
    },
    {
      "cell_type": "markdown",
      "metadata": {
        "id": "A8lVRTZcZtwL"
      },
      "source": [
        "#### Question 14 : Thaïlande\n",
        "En Thaïlande, quelle proportion de manioc est exportée ? Quelle est la proportion de personnes en sous-nutrition?"
      ]
    },
    {
      "cell_type": "code",
      "execution_count": null,
      "metadata": {
        "id": "W5ueGBdEZmHg"
      },
      "outputs": [],
      "source": []
    },
    {
      "cell_type": "markdown",
      "metadata": {
        "id": "FUW1pFjca11r"
      },
      "source": []
    },
    {
      "cell_type": "markdown",
      "metadata": {
        "id": "b3RaTavFDqOY"
      },
      "source": [
        "### 3 - Etude guidée n°2"
      ]
    },
    {
      "cell_type": "markdown",
      "metadata": {
        "id": "qlW56DtHD1lk"
      },
      "source": [
        "Il s’agit ici d’intégrer toutes les données dans une base de données relationnelle puis de répondre à toutes les questions ci-dessous.\n",
        "La base de données contiendra 4 tables : population, dispo_alim, equilibre_prod, sous_nutrition."
      ]
    },
    {
      "cell_type": "markdown",
      "metadata": {
        "id": "RHq8CB_CZHI5"
      },
      "source": [
        "#### Question 15 : Table population\n",
        "Définir une clé primaire pertinente pour la table population. Intégrer la table dans la base de données relationnelle."
      ]
    },
    {
      "cell_type": "code",
      "execution_count": null,
      "metadata": {
        "id": "1BJd-AIqZlZM"
      },
      "outputs": [],
      "source": []
    },
    {
      "cell_type": "markdown",
      "metadata": {
        "id": "gZFqs9R3ZgOu"
      },
      "source": [
        "#### Question 16 : Table dispo_alim\n",
        "La table appelée dispo_alim contient pour chaque pays, pour chaque produit, sur l'année 2013, les informations suivantes:\n",
        "- la nature du produit (deux valeurs possibles“animal” ou “végétal”)\n",
        "- disponibilité alimentaire en tonnes\n",
        "- disponibilité alimentaire en Kcal/personne/jour\n",
        "- disponibilité alimentaire de protéines en g/personne/jour\n",
        "- disponibilité alimentaire de matières grasses en g/personne/jour\n",
        "La table contient ces colonnes : pays, code_pays, année, produit, code_produit, origin, dispo_alim_tonnes, dispo_alim_kcal_p_j, dispo_prot, dispo_mat_gr .\n",
        "Définir une clé primaire pertinente pour la table dispo_alim. Intégrer la table dans la base de données relationnelle."
      ]
    },
    {
      "cell_type": "code",
      "execution_count": null,
      "metadata": {
        "id": "zaQT09kIZk2y"
      },
      "outputs": [],
      "source": []
    },
    {
      "cell_type": "markdown",
      "metadata": {
        "id": "v6zLu0GVZbxU"
      },
      "source": [
        "#### Question 17 : Table equilibre_prod\n",
        "La table appelée equilibre_prod contient pour chaque pays, pour chaque produit, et pour l'année disponible 2013, les quantités suivantes :\n",
        "- disponibilité intérieure\n",
        "- aliments pour animaux\n",
        "- semences\n",
        "- pertes\n",
        "- transformés\n",
        "- nourriture\n",
        "- autres utilisations\n",
        "Elle contient ces colonnes : pays, code_pays, année, produit, code_produit, dispo_int, alim_ani, semences, pertes, transfo, nourriture, autres_utilisations.\n",
        "Définir une clé primaire pertinente pour la table equilibre_prod. Intégrer la table dans la base de données relationnelle."
      ]
    },
    {
      "cell_type": "code",
      "execution_count": null,
      "metadata": {
        "id": "ugM0Q_l7ZjxR"
      },
      "outputs": [],
      "source": []
    },
    {
      "cell_type": "markdown",
      "metadata": {
        "id": "SKindtOJZYXY"
      },
      "source": [
        "#### Question 18 : Table sous_nutrition\n",
        "La table appelée sous_nutrition, contient le nombre de personnes en sous-alimentation pour chaque pays et pour chaque année. Elle contient 4 colonnes : pays, code_pays, année, nb_personnes.\n",
        "Définir une clé primaire pertinente pour la table sous_nutrition. Intégrer la table dans la base de données relationnelle."
      ]
    },
    {
      "cell_type": "code",
      "execution_count": null,
      "metadata": {
        "id": "HUcuhgklZVbX"
      },
      "outputs": [],
      "source": []
    },
    {
      "cell_type": "markdown",
      "metadata": {
        "id": "_lHWO4wTZWHY"
      },
      "source": [
        "#### Question 19 : Requêtes SQL\n",
        "Formuler les requêtes SQL pour répondre aux questions suivantes :\n",
        "    • Quels sont les 10 pays ayant le plus haut ratio disponibilité alimentaire/habitant en termes de protéines (en kg) par habitant, puis en termes de kcal par habitant ?\n",
        "    • Quels sont les 10 pays ayant le plus faible ratio disponibilité alimentaire/habitant en termes de protéines (en kg) par habitant ?\n",
        "    • Quelle est la quantité totale (en kg) de produits perdus par pays?\n",
        "    • Quels sont les 10 pays pour lesquels la proportion de personnes sous-alimentées est la plus forte ?\n",
        "    • Quels sont les 10 produits pour lesquels le ratio Autres utilisations/Disponibilité intérieure est le plus élevé ?"
      ]
    },
    {
      "cell_type": "code",
      "execution_count": null,
      "metadata": {
        "id": "61BOSvDUZips"
      },
      "outputs": [],
      "source": []
    },
    {
      "cell_type": "markdown",
      "metadata": {
        "id": "sYtYZ_uvZK9r"
      },
      "source": [
        "#### Question 20 : Autres utilisations des produits\n",
        "Pour quelques-uns des produits identifiés dans cette dernière requête SQL, supposez quelles sont ces \"autres utilisations\" possibles (recherchez sur internet !)."
      ]
    },
    {
      "cell_type": "code",
      "execution_count": null,
      "metadata": {
        "id": "LCJ3PxDhZjG-"
      },
      "outputs": [],
      "source": []
    },
    {
      "cell_type": "markdown",
      "metadata": {
        "id": "4oVN2zheD-A_"
      },
      "source": [
        "### 4 - Analyses complémentaire"
      ]
    },
    {
      "cell_type": "markdown",
      "metadata": {
        "id": "igoMHlNrEBYZ"
      },
      "source": [
        "Fort de votre expérience de Data Analyst, il s’agit maintenant de réaliser vos propres analyses et exploration."
      ]
    }
  ],
  "metadata": {
    "colab": {
      "provenance": [],
      "toc_visible": true
    },
    "kernelspec": {
      "display_name": "Python 3",
      "name": "python3"
    },
    "language_info": {
      "codemirror_mode": {
        "name": "ipython",
        "version": 3
      },
      "file_extension": ".py",
      "mimetype": "text/x-python",
      "name": "python",
      "nbconvert_exporter": "python",
      "pygments_lexer": "ipython3",
      "version": "3.10.13"
    }
  },
  "nbformat": 4,
  "nbformat_minor": 0
}
