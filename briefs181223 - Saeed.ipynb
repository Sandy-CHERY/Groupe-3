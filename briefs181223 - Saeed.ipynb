{
  "nbformat": 4,
  "nbformat_minor": 0,
  "metadata": {
    "colab": {
      "provenance": [],
      "toc_visible": true
    },
    "kernelspec": {
      "name": "python3",
      "display_name": "Python 3"
    },
    "language_info": {
      "name": "python"
    }
  },
  "cells": [
    {
      "cell_type": "markdown",
      "source": [
        "# Data Analyst au sein de la FAO"
      ],
      "metadata": {
        "id": "dDYnD_yh-skJ"
      }
    },
    {
      "cell_type": "markdown",
      "source": [
        "lien du brief : https://simplonline.co/briefs/688fc302-e4d4-4324-8904-f22316c31713\n",
        "\n"
      ],
      "metadata": {
        "id": "Bhgi21K2-nFa"
      }
    },
    {
      "cell_type": "markdown",
      "source": [
        "lien du dossier git : https://github.com/data-IA-2023/Groupe-3\n"
      ],
      "metadata": {
        "id": "31doXc7fFxKl"
      }
    },
    {
      "cell_type": "markdown",
      "source": [
        "Vous venez d'intégrer la FAO (Food and Agriculture Organization of the United Nations). BRAVO !!!!!!\n",
        "Vous allez mener votre première mission en analysant les données mondiales de production agricole, d'alimentation et de nutrition."
      ],
      "metadata": {
        "id": "8mrHC_I5-ykk"
      }
    },
    {
      "cell_type": "markdown",
      "source": [
        "**Livrables**\n",
        "\n",
        "* Un dépôt Github\n",
        "* Un notebook **fonctionnel, documenté et commenté**\n",
        "* Une présentation écrite et orale résumant vos travaux, votre analyse et vos recommandations"
      ],
      "metadata": {
        "id": "FUVcknHlAIC_"
      }
    },
    {
      "cell_type": "markdown",
      "source": [
        "**Contexte du projet**\n",
        "\n",
        "* Au sein du service Data Analytics and Prospective de la FAO, vous êtes en charge d'analyser les données produites par les Nations Unies.\n",
        "\n",
        "* Ces analyses conduisent à des rapports de synthèse à destination des décideurs.\n",
        "\n",
        "* Pour êtes également en charge de la partie Prospective, c'est à dire donner des tendances et des évolutions probables quant à la production agricole, à l'alimentation et la nutrition mondiales.\n"
      ],
      "metadata": {
        "id": "fcBxpeFXAkMg"
      }
    },
    {
      "cell_type": "markdown",
      "source": [
        "**Ressource(s)**\n",
        "\n",
        "FAO - Wikipedia : https://fr.wikipedia.org/wiki/Organisation_des_Nations_unies_pour_l'alimentation_et_l'agriculture\n",
        "\n",
        "FAOSTAT : https://www.fao.org/faostat/fr/#home\n",
        "\n",
        "Les données FAO 2013 : https://github.com/remijul/dataset/tree/master/fao_2013"
      ],
      "metadata": {
        "id": "wICIZAqLAonV"
      }
    },
    {
      "cell_type": "markdown",
      "source": [
        "## Partie extraction des données"
      ],
      "metadata": {
        "id": "Bk2Uuk0nBbJ6"
      }
    },
    {
      "cell_type": "code",
      "execution_count": null,
      "metadata": {
        "id": "CaGmP6DLd0Qs",
        "colab": {
          "base_uri": "https://localhost:8080/",
          "height": 745
        },
        "outputId": "8b8c7a7e-0977-4ec3-a142-b7061e394bf2"
      },
      "outputs": [
        {
          "output_type": "execute_result",
          "data": {
            "text/plain": [
              "      Code Domaine              Domaine  Code Pays         Pays  Code Élément  \\\n",
              "0              FBS  Bilans Alimentaires          2  Afghanistan          5511   \n",
              "1              FBS  Bilans Alimentaires          2  Afghanistan          5611   \n",
              "2              FBS  Bilans Alimentaires          2  Afghanistan          5301   \n",
              "3              FBS  Bilans Alimentaires          2  Afghanistan          5142   \n",
              "4              FBS  Bilans Alimentaires          2  Afghanistan           645   \n",
              "...            ...                  ...        ...          ...           ...   \n",
              "37161          FBS  Bilans Alimentaires        351        Chine          5142   \n",
              "37162          FBS  Bilans Alimentaires        351        Chine           645   \n",
              "37163          FBS  Bilans Alimentaires        351        Chine           664   \n",
              "37164          FBS  Bilans Alimentaires        351        Chine           674   \n",
              "37165          FBS  Bilans Alimentaires        351        Chine           684   \n",
              "\n",
              "                                                 Élément  Code Produit  \\\n",
              "0                                             Production          2731   \n",
              "1                                Importations - Quantité          2731   \n",
              "2                               Disponibilité intérieure          2731   \n",
              "3                                             Nourriture          2731   \n",
              "4      Disponibilité alimentaire en quantité (kg/pers...          2731   \n",
              "...                                                  ...           ...   \n",
              "37161                                         Nourriture          2775   \n",
              "37162  Disponibilité alimentaire en quantité (kg/pers...          2775   \n",
              "37163     Disponibilité alimentaire (Kcal/personne/jour)          2775   \n",
              "37164  Disponibilité de protéines en quantité (g/pers...          2775   \n",
              "37165  Disponibilité de matière grasse en quantité (g...          2775   \n",
              "\n",
              "                  Produit  Code Année  Année               Unité    Valeur  \\\n",
              "0        Viande de Bovins        2013   2013  Milliers de tonnes    134.00   \n",
              "1        Viande de Bovins        2013   2013  Milliers de tonnes      6.00   \n",
              "2        Viande de Bovins        2013   2013  Milliers de tonnes    140.00   \n",
              "3        Viande de Bovins        2013   2013  Milliers de tonnes    140.00   \n",
              "4        Viande de Bovins        2013   2013                  kg      4.59   \n",
              "...                   ...         ...    ...                 ...       ...   \n",
              "37161  Plantes Aquatiques        2013   2013  Milliers de tonnes  13086.00   \n",
              "37162  Plantes Aquatiques        2013   2013                  kg      9.24   \n",
              "37163  Plantes Aquatiques        2013   2013  Kcal/personne/jour      9.00   \n",
              "37164  Plantes Aquatiques        2013   2013     g/personne/jour      0.69   \n",
              "37165  Plantes Aquatiques        2013   2013     g/personne/jour      0.04   \n",
              "\n",
              "      Symbole                             Description du Symbole  \n",
              "0           S                              Données standardisées  \n",
              "1           S                              Données standardisées  \n",
              "2           S                              Données standardisées  \n",
              "3           S                              Données standardisées  \n",
              "4          Fc                                    Donnée calculée  \n",
              "...       ...                                                ...  \n",
              "37161       A  Agrégat, peut inclure des données officielles,...  \n",
              "37162      Fc                                    Donnée calculée  \n",
              "37163      Fc                                    Donnée calculée  \n",
              "37164      Fc                                    Donnée calculée  \n",
              "37165      Fc                                    Donnée calculée  \n",
              "\n",
              "[37166 rows x 14 columns]"
            ],
            "text/html": [
              "\n",
              "  <div id=\"df-54379f45-a43a-4fef-bcea-22b82f04e74a\" class=\"colab-df-container\">\n",
              "    <div>\n",
              "<style scoped>\n",
              "    .dataframe tbody tr th:only-of-type {\n",
              "        vertical-align: middle;\n",
              "    }\n",
              "\n",
              "    .dataframe tbody tr th {\n",
              "        vertical-align: top;\n",
              "    }\n",
              "\n",
              "    .dataframe thead th {\n",
              "        text-align: right;\n",
              "    }\n",
              "</style>\n",
              "<table border=\"1\" class=\"dataframe\">\n",
              "  <thead>\n",
              "    <tr style=\"text-align: right;\">\n",
              "      <th></th>\n",
              "      <th>Code Domaine</th>\n",
              "      <th>Domaine</th>\n",
              "      <th>Code Pays</th>\n",
              "      <th>Pays</th>\n",
              "      <th>Code Élément</th>\n",
              "      <th>Élément</th>\n",
              "      <th>Code Produit</th>\n",
              "      <th>Produit</th>\n",
              "      <th>Code Année</th>\n",
              "      <th>Année</th>\n",
              "      <th>Unité</th>\n",
              "      <th>Valeur</th>\n",
              "      <th>Symbole</th>\n",
              "      <th>Description du Symbole</th>\n",
              "    </tr>\n",
              "  </thead>\n",
              "  <tbody>\n",
              "    <tr>\n",
              "      <th>0</th>\n",
              "      <td>FBS</td>\n",
              "      <td>Bilans Alimentaires</td>\n",
              "      <td>2</td>\n",
              "      <td>Afghanistan</td>\n",
              "      <td>5511</td>\n",
              "      <td>Production</td>\n",
              "      <td>2731</td>\n",
              "      <td>Viande de Bovins</td>\n",
              "      <td>2013</td>\n",
              "      <td>2013</td>\n",
              "      <td>Milliers de tonnes</td>\n",
              "      <td>134.00</td>\n",
              "      <td>S</td>\n",
              "      <td>Données standardisées</td>\n",
              "    </tr>\n",
              "    <tr>\n",
              "      <th>1</th>\n",
              "      <td>FBS</td>\n",
              "      <td>Bilans Alimentaires</td>\n",
              "      <td>2</td>\n",
              "      <td>Afghanistan</td>\n",
              "      <td>5611</td>\n",
              "      <td>Importations - Quantité</td>\n",
              "      <td>2731</td>\n",
              "      <td>Viande de Bovins</td>\n",
              "      <td>2013</td>\n",
              "      <td>2013</td>\n",
              "      <td>Milliers de tonnes</td>\n",
              "      <td>6.00</td>\n",
              "      <td>S</td>\n",
              "      <td>Données standardisées</td>\n",
              "    </tr>\n",
              "    <tr>\n",
              "      <th>2</th>\n",
              "      <td>FBS</td>\n",
              "      <td>Bilans Alimentaires</td>\n",
              "      <td>2</td>\n",
              "      <td>Afghanistan</td>\n",
              "      <td>5301</td>\n",
              "      <td>Disponibilité intérieure</td>\n",
              "      <td>2731</td>\n",
              "      <td>Viande de Bovins</td>\n",
              "      <td>2013</td>\n",
              "      <td>2013</td>\n",
              "      <td>Milliers de tonnes</td>\n",
              "      <td>140.00</td>\n",
              "      <td>S</td>\n",
              "      <td>Données standardisées</td>\n",
              "    </tr>\n",
              "    <tr>\n",
              "      <th>3</th>\n",
              "      <td>FBS</td>\n",
              "      <td>Bilans Alimentaires</td>\n",
              "      <td>2</td>\n",
              "      <td>Afghanistan</td>\n",
              "      <td>5142</td>\n",
              "      <td>Nourriture</td>\n",
              "      <td>2731</td>\n",
              "      <td>Viande de Bovins</td>\n",
              "      <td>2013</td>\n",
              "      <td>2013</td>\n",
              "      <td>Milliers de tonnes</td>\n",
              "      <td>140.00</td>\n",
              "      <td>S</td>\n",
              "      <td>Données standardisées</td>\n",
              "    </tr>\n",
              "    <tr>\n",
              "      <th>4</th>\n",
              "      <td>FBS</td>\n",
              "      <td>Bilans Alimentaires</td>\n",
              "      <td>2</td>\n",
              "      <td>Afghanistan</td>\n",
              "      <td>645</td>\n",
              "      <td>Disponibilité alimentaire en quantité (kg/pers...</td>\n",
              "      <td>2731</td>\n",
              "      <td>Viande de Bovins</td>\n",
              "      <td>2013</td>\n",
              "      <td>2013</td>\n",
              "      <td>kg</td>\n",
              "      <td>4.59</td>\n",
              "      <td>Fc</td>\n",
              "      <td>Donnée calculée</td>\n",
              "    </tr>\n",
              "    <tr>\n",
              "      <th>...</th>\n",
              "      <td>...</td>\n",
              "      <td>...</td>\n",
              "      <td>...</td>\n",
              "      <td>...</td>\n",
              "      <td>...</td>\n",
              "      <td>...</td>\n",
              "      <td>...</td>\n",
              "      <td>...</td>\n",
              "      <td>...</td>\n",
              "      <td>...</td>\n",
              "      <td>...</td>\n",
              "      <td>...</td>\n",
              "      <td>...</td>\n",
              "      <td>...</td>\n",
              "    </tr>\n",
              "    <tr>\n",
              "      <th>37161</th>\n",
              "      <td>FBS</td>\n",
              "      <td>Bilans Alimentaires</td>\n",
              "      <td>351</td>\n",
              "      <td>Chine</td>\n",
              "      <td>5142</td>\n",
              "      <td>Nourriture</td>\n",
              "      <td>2775</td>\n",
              "      <td>Plantes Aquatiques</td>\n",
              "      <td>2013</td>\n",
              "      <td>2013</td>\n",
              "      <td>Milliers de tonnes</td>\n",
              "      <td>13086.00</td>\n",
              "      <td>A</td>\n",
              "      <td>Agrégat, peut inclure des données officielles,...</td>\n",
              "    </tr>\n",
              "    <tr>\n",
              "      <th>37162</th>\n",
              "      <td>FBS</td>\n",
              "      <td>Bilans Alimentaires</td>\n",
              "      <td>351</td>\n",
              "      <td>Chine</td>\n",
              "      <td>645</td>\n",
              "      <td>Disponibilité alimentaire en quantité (kg/pers...</td>\n",
              "      <td>2775</td>\n",
              "      <td>Plantes Aquatiques</td>\n",
              "      <td>2013</td>\n",
              "      <td>2013</td>\n",
              "      <td>kg</td>\n",
              "      <td>9.24</td>\n",
              "      <td>Fc</td>\n",
              "      <td>Donnée calculée</td>\n",
              "    </tr>\n",
              "    <tr>\n",
              "      <th>37163</th>\n",
              "      <td>FBS</td>\n",
              "      <td>Bilans Alimentaires</td>\n",
              "      <td>351</td>\n",
              "      <td>Chine</td>\n",
              "      <td>664</td>\n",
              "      <td>Disponibilité alimentaire (Kcal/personne/jour)</td>\n",
              "      <td>2775</td>\n",
              "      <td>Plantes Aquatiques</td>\n",
              "      <td>2013</td>\n",
              "      <td>2013</td>\n",
              "      <td>Kcal/personne/jour</td>\n",
              "      <td>9.00</td>\n",
              "      <td>Fc</td>\n",
              "      <td>Donnée calculée</td>\n",
              "    </tr>\n",
              "    <tr>\n",
              "      <th>37164</th>\n",
              "      <td>FBS</td>\n",
              "      <td>Bilans Alimentaires</td>\n",
              "      <td>351</td>\n",
              "      <td>Chine</td>\n",
              "      <td>674</td>\n",
              "      <td>Disponibilité de protéines en quantité (g/pers...</td>\n",
              "      <td>2775</td>\n",
              "      <td>Plantes Aquatiques</td>\n",
              "      <td>2013</td>\n",
              "      <td>2013</td>\n",
              "      <td>g/personne/jour</td>\n",
              "      <td>0.69</td>\n",
              "      <td>Fc</td>\n",
              "      <td>Donnée calculée</td>\n",
              "    </tr>\n",
              "    <tr>\n",
              "      <th>37165</th>\n",
              "      <td>FBS</td>\n",
              "      <td>Bilans Alimentaires</td>\n",
              "      <td>351</td>\n",
              "      <td>Chine</td>\n",
              "      <td>684</td>\n",
              "      <td>Disponibilité de matière grasse en quantité (g...</td>\n",
              "      <td>2775</td>\n",
              "      <td>Plantes Aquatiques</td>\n",
              "      <td>2013</td>\n",
              "      <td>2013</td>\n",
              "      <td>g/personne/jour</td>\n",
              "      <td>0.04</td>\n",
              "      <td>Fc</td>\n",
              "      <td>Donnée calculée</td>\n",
              "    </tr>\n",
              "  </tbody>\n",
              "</table>\n",
              "<p>37166 rows × 14 columns</p>\n",
              "</div>\n",
              "    <div class=\"colab-df-buttons\">\n",
              "\n",
              "  <div class=\"colab-df-container\">\n",
              "    <button class=\"colab-df-convert\" onclick=\"convertToInteractive('df-54379f45-a43a-4fef-bcea-22b82f04e74a')\"\n",
              "            title=\"Convert this dataframe to an interactive table.\"\n",
              "            style=\"display:none;\">\n",
              "\n",
              "  <svg xmlns=\"http://www.w3.org/2000/svg\" height=\"24px\" viewBox=\"0 -960 960 960\">\n",
              "    <path d=\"M120-120v-720h720v720H120Zm60-500h600v-160H180v160Zm220 220h160v-160H400v160Zm0 220h160v-160H400v160ZM180-400h160v-160H180v160Zm440 0h160v-160H620v160ZM180-180h160v-160H180v160Zm440 0h160v-160H620v160Z\"/>\n",
              "  </svg>\n",
              "    </button>\n",
              "\n",
              "  <style>\n",
              "    .colab-df-container {\n",
              "      display:flex;\n",
              "      gap: 12px;\n",
              "    }\n",
              "\n",
              "    .colab-df-convert {\n",
              "      background-color: #E8F0FE;\n",
              "      border: none;\n",
              "      border-radius: 50%;\n",
              "      cursor: pointer;\n",
              "      display: none;\n",
              "      fill: #1967D2;\n",
              "      height: 32px;\n",
              "      padding: 0 0 0 0;\n",
              "      width: 32px;\n",
              "    }\n",
              "\n",
              "    .colab-df-convert:hover {\n",
              "      background-color: #E2EBFA;\n",
              "      box-shadow: 0px 1px 2px rgba(60, 64, 67, 0.3), 0px 1px 3px 1px rgba(60, 64, 67, 0.15);\n",
              "      fill: #174EA6;\n",
              "    }\n",
              "\n",
              "    .colab-df-buttons div {\n",
              "      margin-bottom: 4px;\n",
              "    }\n",
              "\n",
              "    [theme=dark] .colab-df-convert {\n",
              "      background-color: #3B4455;\n",
              "      fill: #D2E3FC;\n",
              "    }\n",
              "\n",
              "    [theme=dark] .colab-df-convert:hover {\n",
              "      background-color: #434B5C;\n",
              "      box-shadow: 0px 1px 3px 1px rgba(0, 0, 0, 0.15);\n",
              "      filter: drop-shadow(0px 1px 2px rgba(0, 0, 0, 0.3));\n",
              "      fill: #FFFFFF;\n",
              "    }\n",
              "  </style>\n",
              "\n",
              "    <script>\n",
              "      const buttonEl =\n",
              "        document.querySelector('#df-54379f45-a43a-4fef-bcea-22b82f04e74a button.colab-df-convert');\n",
              "      buttonEl.style.display =\n",
              "        google.colab.kernel.accessAllowed ? 'block' : 'none';\n",
              "\n",
              "      async function convertToInteractive(key) {\n",
              "        const element = document.querySelector('#df-54379f45-a43a-4fef-bcea-22b82f04e74a');\n",
              "        const dataTable =\n",
              "          await google.colab.kernel.invokeFunction('convertToInteractive',\n",
              "                                                    [key], {});\n",
              "        if (!dataTable) return;\n",
              "\n",
              "        const docLinkHtml = 'Like what you see? Visit the ' +\n",
              "          '<a target=\"_blank\" href=https://colab.research.google.com/notebooks/data_table.ipynb>data table notebook</a>'\n",
              "          + ' to learn more about interactive tables.';\n",
              "        element.innerHTML = '';\n",
              "        dataTable['output_type'] = 'display_data';\n",
              "        await google.colab.output.renderOutput(dataTable, element);\n",
              "        const docLink = document.createElement('div');\n",
              "        docLink.innerHTML = docLinkHtml;\n",
              "        element.appendChild(docLink);\n",
              "      }\n",
              "    </script>\n",
              "  </div>\n",
              "\n",
              "\n",
              "<div id=\"df-51a83dfd-4ff2-452a-b2a5-e5a6590f65aa\">\n",
              "  <button class=\"colab-df-quickchart\" onclick=\"quickchart('df-51a83dfd-4ff2-452a-b2a5-e5a6590f65aa')\"\n",
              "            title=\"Suggest charts\"\n",
              "            style=\"display:none;\">\n",
              "\n",
              "<svg xmlns=\"http://www.w3.org/2000/svg\" height=\"24px\"viewBox=\"0 0 24 24\"\n",
              "     width=\"24px\">\n",
              "    <g>\n",
              "        <path d=\"M19 3H5c-1.1 0-2 .9-2 2v14c0 1.1.9 2 2 2h14c1.1 0 2-.9 2-2V5c0-1.1-.9-2-2-2zM9 17H7v-7h2v7zm4 0h-2V7h2v10zm4 0h-2v-4h2v4z\"/>\n",
              "    </g>\n",
              "</svg>\n",
              "  </button>\n",
              "\n",
              "<style>\n",
              "  .colab-df-quickchart {\n",
              "      --bg-color: #E8F0FE;\n",
              "      --fill-color: #1967D2;\n",
              "      --hover-bg-color: #E2EBFA;\n",
              "      --hover-fill-color: #174EA6;\n",
              "      --disabled-fill-color: #AAA;\n",
              "      --disabled-bg-color: #DDD;\n",
              "  }\n",
              "\n",
              "  [theme=dark] .colab-df-quickchart {\n",
              "      --bg-color: #3B4455;\n",
              "      --fill-color: #D2E3FC;\n",
              "      --hover-bg-color: #434B5C;\n",
              "      --hover-fill-color: #FFFFFF;\n",
              "      --disabled-bg-color: #3B4455;\n",
              "      --disabled-fill-color: #666;\n",
              "  }\n",
              "\n",
              "  .colab-df-quickchart {\n",
              "    background-color: var(--bg-color);\n",
              "    border: none;\n",
              "    border-radius: 50%;\n",
              "    cursor: pointer;\n",
              "    display: none;\n",
              "    fill: var(--fill-color);\n",
              "    height: 32px;\n",
              "    padding: 0;\n",
              "    width: 32px;\n",
              "  }\n",
              "\n",
              "  .colab-df-quickchart:hover {\n",
              "    background-color: var(--hover-bg-color);\n",
              "    box-shadow: 0 1px 2px rgba(60, 64, 67, 0.3), 0 1px 3px 1px rgba(60, 64, 67, 0.15);\n",
              "    fill: var(--button-hover-fill-color);\n",
              "  }\n",
              "\n",
              "  .colab-df-quickchart-complete:disabled,\n",
              "  .colab-df-quickchart-complete:disabled:hover {\n",
              "    background-color: var(--disabled-bg-color);\n",
              "    fill: var(--disabled-fill-color);\n",
              "    box-shadow: none;\n",
              "  }\n",
              "\n",
              "  .colab-df-spinner {\n",
              "    border: 2px solid var(--fill-color);\n",
              "    border-color: transparent;\n",
              "    border-bottom-color: var(--fill-color);\n",
              "    animation:\n",
              "      spin 1s steps(1) infinite;\n",
              "  }\n",
              "\n",
              "  @keyframes spin {\n",
              "    0% {\n",
              "      border-color: transparent;\n",
              "      border-bottom-color: var(--fill-color);\n",
              "      border-left-color: var(--fill-color);\n",
              "    }\n",
              "    20% {\n",
              "      border-color: transparent;\n",
              "      border-left-color: var(--fill-color);\n",
              "      border-top-color: var(--fill-color);\n",
              "    }\n",
              "    30% {\n",
              "      border-color: transparent;\n",
              "      border-left-color: var(--fill-color);\n",
              "      border-top-color: var(--fill-color);\n",
              "      border-right-color: var(--fill-color);\n",
              "    }\n",
              "    40% {\n",
              "      border-color: transparent;\n",
              "      border-right-color: var(--fill-color);\n",
              "      border-top-color: var(--fill-color);\n",
              "    }\n",
              "    60% {\n",
              "      border-color: transparent;\n",
              "      border-right-color: var(--fill-color);\n",
              "    }\n",
              "    80% {\n",
              "      border-color: transparent;\n",
              "      border-right-color: var(--fill-color);\n",
              "      border-bottom-color: var(--fill-color);\n",
              "    }\n",
              "    90% {\n",
              "      border-color: transparent;\n",
              "      border-bottom-color: var(--fill-color);\n",
              "    }\n",
              "  }\n",
              "</style>\n",
              "\n",
              "  <script>\n",
              "    async function quickchart(key) {\n",
              "      const quickchartButtonEl =\n",
              "        document.querySelector('#' + key + ' button');\n",
              "      quickchartButtonEl.disabled = true;  // To prevent multiple clicks.\n",
              "      quickchartButtonEl.classList.add('colab-df-spinner');\n",
              "      try {\n",
              "        const charts = await google.colab.kernel.invokeFunction(\n",
              "            'suggestCharts', [key], {});\n",
              "      } catch (error) {\n",
              "        console.error('Error during call to suggestCharts:', error);\n",
              "      }\n",
              "      quickchartButtonEl.classList.remove('colab-df-spinner');\n",
              "      quickchartButtonEl.classList.add('colab-df-quickchart-complete');\n",
              "    }\n",
              "    (() => {\n",
              "      let quickchartButtonEl =\n",
              "        document.querySelector('#df-51a83dfd-4ff2-452a-b2a5-e5a6590f65aa button');\n",
              "      quickchartButtonEl.style.display =\n",
              "        google.colab.kernel.accessAllowed ? 'block' : 'none';\n",
              "    })();\n",
              "  </script>\n",
              "</div>\n",
              "    </div>\n",
              "  </div>\n"
            ]
          },
          "metadata": {},
          "execution_count": 30
        }
      ],
      "source": [
        "import pandas as pd\n",
        "import numpy as np\n",
        "\n",
        "chemein_fichier = \"https://raw.githubusercontent.com/remijul/dataset/master/fao_2013/FAOSTAT_2013_animal.csv\"\n",
        "\n",
        "df = pd.read_csv(chemein_fichier, sep=',',on_bad_lines='skip')\n",
        "df"
      ]
    },
    {
      "cell_type": "code",
      "source": [
        "import pandas as pd\n",
        "import numpy as np\n",
        "\n",
        "chemein_fichier = \"https://raw.githubusercontent.com/data-IA-2023/Groupe-3/4f55cd09493101a19266be06eb08fe1770ece8de/fao_2013/FAOSTAT_2013_animal.csv\"\n",
        "\n",
        "df = pd.read_csv(chemein_fichier, sep=',',on_bad_lines='skip')\n",
        "df"
      ],
      "metadata": {
        "colab": {
          "base_uri": "https://localhost:8080/",
          "height": 843
        },
        "id": "RuUCQCiXVblU",
        "outputId": "07eea495-765b-41e2-a624-47a9a1ba01cb"
      },
      "execution_count": 15,
      "outputs": [
        {
          "output_type": "execute_result",
          "data": {
            "text/plain": [
              "      Code Domaine              Domaine  Code Pays         Pays  Code Élément  \\\n",
              "0              FBS  Bilans Alimentaires          2  Afghanistan          5511   \n",
              "1              FBS  Bilans Alimentaires          2  Afghanistan          5611   \n",
              "2              FBS  Bilans Alimentaires          2  Afghanistan          5301   \n",
              "3              FBS  Bilans Alimentaires          2  Afghanistan          5142   \n",
              "4              FBS  Bilans Alimentaires          2  Afghanistan           645   \n",
              "...            ...                  ...        ...          ...           ...   \n",
              "37161          FBS  Bilans Alimentaires        351        Chine          5142   \n",
              "37162          FBS  Bilans Alimentaires        351        Chine           645   \n",
              "37163          FBS  Bilans Alimentaires        351        Chine           664   \n",
              "37164          FBS  Bilans Alimentaires        351        Chine           674   \n",
              "37165          FBS  Bilans Alimentaires        351        Chine           684   \n",
              "\n",
              "                                                 Élément  Code Produit  \\\n",
              "0                                             Production          2731   \n",
              "1                                Importations - Quantité          2731   \n",
              "2                               Disponibilité intérieure          2731   \n",
              "3                                             Nourriture          2731   \n",
              "4      Disponibilité alimentaire en quantité (kg/pers...          2731   \n",
              "...                                                  ...           ...   \n",
              "37161                                         Nourriture          2775   \n",
              "37162  Disponibilité alimentaire en quantité (kg/pers...          2775   \n",
              "37163     Disponibilité alimentaire (Kcal/personne/jour)          2775   \n",
              "37164  Disponibilité de protéines en quantité (g/pers...          2775   \n",
              "37165  Disponibilité de matière grasse en quantité (g...          2775   \n",
              "\n",
              "                  Produit  Code Année  Année               Unité    Valeur  \\\n",
              "0        Viande de Bovins        2013   2013  Milliers de tonnes    134.00   \n",
              "1        Viande de Bovins        2013   2013  Milliers de tonnes      6.00   \n",
              "2        Viande de Bovins        2013   2013  Milliers de tonnes    140.00   \n",
              "3        Viande de Bovins        2013   2013  Milliers de tonnes    140.00   \n",
              "4        Viande de Bovins        2013   2013                  kg      4.59   \n",
              "...                   ...         ...    ...                 ...       ...   \n",
              "37161  Plantes Aquatiques        2013   2013  Milliers de tonnes  13086.00   \n",
              "37162  Plantes Aquatiques        2013   2013                  kg      9.24   \n",
              "37163  Plantes Aquatiques        2013   2013  Kcal/personne/jour      9.00   \n",
              "37164  Plantes Aquatiques        2013   2013     g/personne/jour      0.69   \n",
              "37165  Plantes Aquatiques        2013   2013     g/personne/jour      0.04   \n",
              "\n",
              "      Symbole                             Description du Symbole  \n",
              "0           S                              Données standardisées  \n",
              "1           S                              Données standardisées  \n",
              "2           S                              Données standardisées  \n",
              "3           S                              Données standardisées  \n",
              "4          Fc                                    Donnée calculée  \n",
              "...       ...                                                ...  \n",
              "37161       A  Agrégat, peut inclure des données officielles,...  \n",
              "37162      Fc                                    Donnée calculée  \n",
              "37163      Fc                                    Donnée calculée  \n",
              "37164      Fc                                    Donnée calculée  \n",
              "37165      Fc                                    Donnée calculée  \n",
              "\n",
              "[37166 rows x 14 columns]"
            ],
            "text/html": [
              "\n",
              "  <div id=\"df-3430f9f7-df5d-4508-8635-d935cf19acf6\" class=\"colab-df-container\">\n",
              "    <div>\n",
              "<style scoped>\n",
              "    .dataframe tbody tr th:only-of-type {\n",
              "        vertical-align: middle;\n",
              "    }\n",
              "\n",
              "    .dataframe tbody tr th {\n",
              "        vertical-align: top;\n",
              "    }\n",
              "\n",
              "    .dataframe thead th {\n",
              "        text-align: right;\n",
              "    }\n",
              "</style>\n",
              "<table border=\"1\" class=\"dataframe\">\n",
              "  <thead>\n",
              "    <tr style=\"text-align: right;\">\n",
              "      <th></th>\n",
              "      <th>Code Domaine</th>\n",
              "      <th>Domaine</th>\n",
              "      <th>Code Pays</th>\n",
              "      <th>Pays</th>\n",
              "      <th>Code Élément</th>\n",
              "      <th>Élément</th>\n",
              "      <th>Code Produit</th>\n",
              "      <th>Produit</th>\n",
              "      <th>Code Année</th>\n",
              "      <th>Année</th>\n",
              "      <th>Unité</th>\n",
              "      <th>Valeur</th>\n",
              "      <th>Symbole</th>\n",
              "      <th>Description du Symbole</th>\n",
              "    </tr>\n",
              "  </thead>\n",
              "  <tbody>\n",
              "    <tr>\n",
              "      <th>0</th>\n",
              "      <td>FBS</td>\n",
              "      <td>Bilans Alimentaires</td>\n",
              "      <td>2</td>\n",
              "      <td>Afghanistan</td>\n",
              "      <td>5511</td>\n",
              "      <td>Production</td>\n",
              "      <td>2731</td>\n",
              "      <td>Viande de Bovins</td>\n",
              "      <td>2013</td>\n",
              "      <td>2013</td>\n",
              "      <td>Milliers de tonnes</td>\n",
              "      <td>134.00</td>\n",
              "      <td>S</td>\n",
              "      <td>Données standardisées</td>\n",
              "    </tr>\n",
              "    <tr>\n",
              "      <th>1</th>\n",
              "      <td>FBS</td>\n",
              "      <td>Bilans Alimentaires</td>\n",
              "      <td>2</td>\n",
              "      <td>Afghanistan</td>\n",
              "      <td>5611</td>\n",
              "      <td>Importations - Quantité</td>\n",
              "      <td>2731</td>\n",
              "      <td>Viande de Bovins</td>\n",
              "      <td>2013</td>\n",
              "      <td>2013</td>\n",
              "      <td>Milliers de tonnes</td>\n",
              "      <td>6.00</td>\n",
              "      <td>S</td>\n",
              "      <td>Données standardisées</td>\n",
              "    </tr>\n",
              "    <tr>\n",
              "      <th>2</th>\n",
              "      <td>FBS</td>\n",
              "      <td>Bilans Alimentaires</td>\n",
              "      <td>2</td>\n",
              "      <td>Afghanistan</td>\n",
              "      <td>5301</td>\n",
              "      <td>Disponibilité intérieure</td>\n",
              "      <td>2731</td>\n",
              "      <td>Viande de Bovins</td>\n",
              "      <td>2013</td>\n",
              "      <td>2013</td>\n",
              "      <td>Milliers de tonnes</td>\n",
              "      <td>140.00</td>\n",
              "      <td>S</td>\n",
              "      <td>Données standardisées</td>\n",
              "    </tr>\n",
              "    <tr>\n",
              "      <th>3</th>\n",
              "      <td>FBS</td>\n",
              "      <td>Bilans Alimentaires</td>\n",
              "      <td>2</td>\n",
              "      <td>Afghanistan</td>\n",
              "      <td>5142</td>\n",
              "      <td>Nourriture</td>\n",
              "      <td>2731</td>\n",
              "      <td>Viande de Bovins</td>\n",
              "      <td>2013</td>\n",
              "      <td>2013</td>\n",
              "      <td>Milliers de tonnes</td>\n",
              "      <td>140.00</td>\n",
              "      <td>S</td>\n",
              "      <td>Données standardisées</td>\n",
              "    </tr>\n",
              "    <tr>\n",
              "      <th>4</th>\n",
              "      <td>FBS</td>\n",
              "      <td>Bilans Alimentaires</td>\n",
              "      <td>2</td>\n",
              "      <td>Afghanistan</td>\n",
              "      <td>645</td>\n",
              "      <td>Disponibilité alimentaire en quantité (kg/pers...</td>\n",
              "      <td>2731</td>\n",
              "      <td>Viande de Bovins</td>\n",
              "      <td>2013</td>\n",
              "      <td>2013</td>\n",
              "      <td>kg</td>\n",
              "      <td>4.59</td>\n",
              "      <td>Fc</td>\n",
              "      <td>Donnée calculée</td>\n",
              "    </tr>\n",
              "    <tr>\n",
              "      <th>...</th>\n",
              "      <td>...</td>\n",
              "      <td>...</td>\n",
              "      <td>...</td>\n",
              "      <td>...</td>\n",
              "      <td>...</td>\n",
              "      <td>...</td>\n",
              "      <td>...</td>\n",
              "      <td>...</td>\n",
              "      <td>...</td>\n",
              "      <td>...</td>\n",
              "      <td>...</td>\n",
              "      <td>...</td>\n",
              "      <td>...</td>\n",
              "      <td>...</td>\n",
              "    </tr>\n",
              "    <tr>\n",
              "      <th>37161</th>\n",
              "      <td>FBS</td>\n",
              "      <td>Bilans Alimentaires</td>\n",
              "      <td>351</td>\n",
              "      <td>Chine</td>\n",
              "      <td>5142</td>\n",
              "      <td>Nourriture</td>\n",
              "      <td>2775</td>\n",
              "      <td>Plantes Aquatiques</td>\n",
              "      <td>2013</td>\n",
              "      <td>2013</td>\n",
              "      <td>Milliers de tonnes</td>\n",
              "      <td>13086.00</td>\n",
              "      <td>A</td>\n",
              "      <td>Agrégat, peut inclure des données officielles,...</td>\n",
              "    </tr>\n",
              "    <tr>\n",
              "      <th>37162</th>\n",
              "      <td>FBS</td>\n",
              "      <td>Bilans Alimentaires</td>\n",
              "      <td>351</td>\n",
              "      <td>Chine</td>\n",
              "      <td>645</td>\n",
              "      <td>Disponibilité alimentaire en quantité (kg/pers...</td>\n",
              "      <td>2775</td>\n",
              "      <td>Plantes Aquatiques</td>\n",
              "      <td>2013</td>\n",
              "      <td>2013</td>\n",
              "      <td>kg</td>\n",
              "      <td>9.24</td>\n",
              "      <td>Fc</td>\n",
              "      <td>Donnée calculée</td>\n",
              "    </tr>\n",
              "    <tr>\n",
              "      <th>37163</th>\n",
              "      <td>FBS</td>\n",
              "      <td>Bilans Alimentaires</td>\n",
              "      <td>351</td>\n",
              "      <td>Chine</td>\n",
              "      <td>664</td>\n",
              "      <td>Disponibilité alimentaire (Kcal/personne/jour)</td>\n",
              "      <td>2775</td>\n",
              "      <td>Plantes Aquatiques</td>\n",
              "      <td>2013</td>\n",
              "      <td>2013</td>\n",
              "      <td>Kcal/personne/jour</td>\n",
              "      <td>9.00</td>\n",
              "      <td>Fc</td>\n",
              "      <td>Donnée calculée</td>\n",
              "    </tr>\n",
              "    <tr>\n",
              "      <th>37164</th>\n",
              "      <td>FBS</td>\n",
              "      <td>Bilans Alimentaires</td>\n",
              "      <td>351</td>\n",
              "      <td>Chine</td>\n",
              "      <td>674</td>\n",
              "      <td>Disponibilité de protéines en quantité (g/pers...</td>\n",
              "      <td>2775</td>\n",
              "      <td>Plantes Aquatiques</td>\n",
              "      <td>2013</td>\n",
              "      <td>2013</td>\n",
              "      <td>g/personne/jour</td>\n",
              "      <td>0.69</td>\n",
              "      <td>Fc</td>\n",
              "      <td>Donnée calculée</td>\n",
              "    </tr>\n",
              "    <tr>\n",
              "      <th>37165</th>\n",
              "      <td>FBS</td>\n",
              "      <td>Bilans Alimentaires</td>\n",
              "      <td>351</td>\n",
              "      <td>Chine</td>\n",
              "      <td>684</td>\n",
              "      <td>Disponibilité de matière grasse en quantité (g...</td>\n",
              "      <td>2775</td>\n",
              "      <td>Plantes Aquatiques</td>\n",
              "      <td>2013</td>\n",
              "      <td>2013</td>\n",
              "      <td>g/personne/jour</td>\n",
              "      <td>0.04</td>\n",
              "      <td>Fc</td>\n",
              "      <td>Donnée calculée</td>\n",
              "    </tr>\n",
              "  </tbody>\n",
              "</table>\n",
              "<p>37166 rows × 14 columns</p>\n",
              "</div>\n",
              "    <div class=\"colab-df-buttons\">\n",
              "\n",
              "  <div class=\"colab-df-container\">\n",
              "    <button class=\"colab-df-convert\" onclick=\"convertToInteractive('df-3430f9f7-df5d-4508-8635-d935cf19acf6')\"\n",
              "            title=\"Convert this dataframe to an interactive table.\"\n",
              "            style=\"display:none;\">\n",
              "\n",
              "  <svg xmlns=\"http://www.w3.org/2000/svg\" height=\"24px\" viewBox=\"0 -960 960 960\">\n",
              "    <path d=\"M120-120v-720h720v720H120Zm60-500h600v-160H180v160Zm220 220h160v-160H400v160Zm0 220h160v-160H400v160ZM180-400h160v-160H180v160Zm440 0h160v-160H620v160ZM180-180h160v-160H180v160Zm440 0h160v-160H620v160Z\"/>\n",
              "  </svg>\n",
              "    </button>\n",
              "\n",
              "  <style>\n",
              "    .colab-df-container {\n",
              "      display:flex;\n",
              "      gap: 12px;\n",
              "    }\n",
              "\n",
              "    .colab-df-convert {\n",
              "      background-color: #E8F0FE;\n",
              "      border: none;\n",
              "      border-radius: 50%;\n",
              "      cursor: pointer;\n",
              "      display: none;\n",
              "      fill: #1967D2;\n",
              "      height: 32px;\n",
              "      padding: 0 0 0 0;\n",
              "      width: 32px;\n",
              "    }\n",
              "\n",
              "    .colab-df-convert:hover {\n",
              "      background-color: #E2EBFA;\n",
              "      box-shadow: 0px 1px 2px rgba(60, 64, 67, 0.3), 0px 1px 3px 1px rgba(60, 64, 67, 0.15);\n",
              "      fill: #174EA6;\n",
              "    }\n",
              "\n",
              "    .colab-df-buttons div {\n",
              "      margin-bottom: 4px;\n",
              "    }\n",
              "\n",
              "    [theme=dark] .colab-df-convert {\n",
              "      background-color: #3B4455;\n",
              "      fill: #D2E3FC;\n",
              "    }\n",
              "\n",
              "    [theme=dark] .colab-df-convert:hover {\n",
              "      background-color: #434B5C;\n",
              "      box-shadow: 0px 1px 3px 1px rgba(0, 0, 0, 0.15);\n",
              "      filter: drop-shadow(0px 1px 2px rgba(0, 0, 0, 0.3));\n",
              "      fill: #FFFFFF;\n",
              "    }\n",
              "  </style>\n",
              "\n",
              "    <script>\n",
              "      const buttonEl =\n",
              "        document.querySelector('#df-3430f9f7-df5d-4508-8635-d935cf19acf6 button.colab-df-convert');\n",
              "      buttonEl.style.display =\n",
              "        google.colab.kernel.accessAllowed ? 'block' : 'none';\n",
              "\n",
              "      async function convertToInteractive(key) {\n",
              "        const element = document.querySelector('#df-3430f9f7-df5d-4508-8635-d935cf19acf6');\n",
              "        const dataTable =\n",
              "          await google.colab.kernel.invokeFunction('convertToInteractive',\n",
              "                                                    [key], {});\n",
              "        if (!dataTable) return;\n",
              "\n",
              "        const docLinkHtml = 'Like what you see? Visit the ' +\n",
              "          '<a target=\"_blank\" href=https://colab.research.google.com/notebooks/data_table.ipynb>data table notebook</a>'\n",
              "          + ' to learn more about interactive tables.';\n",
              "        element.innerHTML = '';\n",
              "        dataTable['output_type'] = 'display_data';\n",
              "        await google.colab.output.renderOutput(dataTable, element);\n",
              "        const docLink = document.createElement('div');\n",
              "        docLink.innerHTML = docLinkHtml;\n",
              "        element.appendChild(docLink);\n",
              "      }\n",
              "    </script>\n",
              "  </div>\n",
              "\n",
              "\n",
              "<div id=\"df-aed03b30-f4bb-4c1d-a320-fe1b215ac02d\">\n",
              "  <button class=\"colab-df-quickchart\" onclick=\"quickchart('df-aed03b30-f4bb-4c1d-a320-fe1b215ac02d')\"\n",
              "            title=\"Suggest charts\"\n",
              "            style=\"display:none;\">\n",
              "\n",
              "<svg xmlns=\"http://www.w3.org/2000/svg\" height=\"24px\"viewBox=\"0 0 24 24\"\n",
              "     width=\"24px\">\n",
              "    <g>\n",
              "        <path d=\"M19 3H5c-1.1 0-2 .9-2 2v14c0 1.1.9 2 2 2h14c1.1 0 2-.9 2-2V5c0-1.1-.9-2-2-2zM9 17H7v-7h2v7zm4 0h-2V7h2v10zm4 0h-2v-4h2v4z\"/>\n",
              "    </g>\n",
              "</svg>\n",
              "  </button>\n",
              "\n",
              "<style>\n",
              "  .colab-df-quickchart {\n",
              "      --bg-color: #E8F0FE;\n",
              "      --fill-color: #1967D2;\n",
              "      --hover-bg-color: #E2EBFA;\n",
              "      --hover-fill-color: #174EA6;\n",
              "      --disabled-fill-color: #AAA;\n",
              "      --disabled-bg-color: #DDD;\n",
              "  }\n",
              "\n",
              "  [theme=dark] .colab-df-quickchart {\n",
              "      --bg-color: #3B4455;\n",
              "      --fill-color: #D2E3FC;\n",
              "      --hover-bg-color: #434B5C;\n",
              "      --hover-fill-color: #FFFFFF;\n",
              "      --disabled-bg-color: #3B4455;\n",
              "      --disabled-fill-color: #666;\n",
              "  }\n",
              "\n",
              "  .colab-df-quickchart {\n",
              "    background-color: var(--bg-color);\n",
              "    border: none;\n",
              "    border-radius: 50%;\n",
              "    cursor: pointer;\n",
              "    display: none;\n",
              "    fill: var(--fill-color);\n",
              "    height: 32px;\n",
              "    padding: 0;\n",
              "    width: 32px;\n",
              "  }\n",
              "\n",
              "  .colab-df-quickchart:hover {\n",
              "    background-color: var(--hover-bg-color);\n",
              "    box-shadow: 0 1px 2px rgba(60, 64, 67, 0.3), 0 1px 3px 1px rgba(60, 64, 67, 0.15);\n",
              "    fill: var(--button-hover-fill-color);\n",
              "  }\n",
              "\n",
              "  .colab-df-quickchart-complete:disabled,\n",
              "  .colab-df-quickchart-complete:disabled:hover {\n",
              "    background-color: var(--disabled-bg-color);\n",
              "    fill: var(--disabled-fill-color);\n",
              "    box-shadow: none;\n",
              "  }\n",
              "\n",
              "  .colab-df-spinner {\n",
              "    border: 2px solid var(--fill-color);\n",
              "    border-color: transparent;\n",
              "    border-bottom-color: var(--fill-color);\n",
              "    animation:\n",
              "      spin 1s steps(1) infinite;\n",
              "  }\n",
              "\n",
              "  @keyframes spin {\n",
              "    0% {\n",
              "      border-color: transparent;\n",
              "      border-bottom-color: var(--fill-color);\n",
              "      border-left-color: var(--fill-color);\n",
              "    }\n",
              "    20% {\n",
              "      border-color: transparent;\n",
              "      border-left-color: var(--fill-color);\n",
              "      border-top-color: var(--fill-color);\n",
              "    }\n",
              "    30% {\n",
              "      border-color: transparent;\n",
              "      border-left-color: var(--fill-color);\n",
              "      border-top-color: var(--fill-color);\n",
              "      border-right-color: var(--fill-color);\n",
              "    }\n",
              "    40% {\n",
              "      border-color: transparent;\n",
              "      border-right-color: var(--fill-color);\n",
              "      border-top-color: var(--fill-color);\n",
              "    }\n",
              "    60% {\n",
              "      border-color: transparent;\n",
              "      border-right-color: var(--fill-color);\n",
              "    }\n",
              "    80% {\n",
              "      border-color: transparent;\n",
              "      border-right-color: var(--fill-color);\n",
              "      border-bottom-color: var(--fill-color);\n",
              "    }\n",
              "    90% {\n",
              "      border-color: transparent;\n",
              "      border-bottom-color: var(--fill-color);\n",
              "    }\n",
              "  }\n",
              "</style>\n",
              "\n",
              "  <script>\n",
              "    async function quickchart(key) {\n",
              "      const quickchartButtonEl =\n",
              "        document.querySelector('#' + key + ' button');\n",
              "      quickchartButtonEl.disabled = true;  // To prevent multiple clicks.\n",
              "      quickchartButtonEl.classList.add('colab-df-spinner');\n",
              "      try {\n",
              "        const charts = await google.colab.kernel.invokeFunction(\n",
              "            'suggestCharts', [key], {});\n",
              "      } catch (error) {\n",
              "        console.error('Error during call to suggestCharts:', error);\n",
              "      }\n",
              "      quickchartButtonEl.classList.remove('colab-df-spinner');\n",
              "      quickchartButtonEl.classList.add('colab-df-quickchart-complete');\n",
              "    }\n",
              "    (() => {\n",
              "      let quickchartButtonEl =\n",
              "        document.querySelector('#df-aed03b30-f4bb-4c1d-a320-fe1b215ac02d button');\n",
              "      quickchartButtonEl.style.display =\n",
              "        google.colab.kernel.accessAllowed ? 'block' : 'none';\n",
              "    })();\n",
              "  </script>\n",
              "</div>\n",
              "    </div>\n",
              "  </div>\n"
            ]
          },
          "metadata": {},
          "execution_count": 15
        }
      ]
    },
    {
      "cell_type": "markdown",
      "source": [
        "## Partie netoyage des données"
      ],
      "metadata": {
        "id": "wP4Y2HP5BjEn"
      }
    },
    {
      "cell_type": "code",
      "source": [],
      "metadata": {
        "id": "Pq_LrpqdByVc"
      },
      "execution_count": null,
      "outputs": []
    },
    {
      "cell_type": "code",
      "source": [],
      "metadata": {
        "id": "Ls8QWkncAwzo"
      },
      "execution_count": null,
      "outputs": []
    },
    {
      "cell_type": "markdown",
      "source": [
        "## Partie traitement des données"
      ],
      "metadata": {
        "id": "WXU-1nrKBtDC"
      }
    },
    {
      "cell_type": "markdown",
      "source": [
        "### 1 - Analyses descriptives et exploratoire des données"
      ],
      "metadata": {
        "id": "1Lf3QTuICiKd"
      }
    },
    {
      "cell_type": "markdown",
      "source": [
        "Il s’agit ici de réaliser des analyses descriptives statistiques et graphiques sur les différentes variables des jeux de données :\n",
        "\n",
        "    • Analyses univariées\n",
        "    • Analyses bi-variées\n",
        "    • Analyses multi-variées\n",
        "\n",
        "Réaliser également des analyses exploratoires sur les différentes variables"
      ],
      "metadata": {
        "id": "5BJWz1boDY5t"
      }
    },
    {
      "cell_type": "markdown",
      "source": [
        "Il s’agit ici de réaliser des analyses descriptives statistiques et graphiques sur les différentes variables des jeux de données :\n",
        "    • Analyses univariées\n",
        "    • Analyses bi-variées\n",
        "    • Analyses multi-variées\n",
        "Réaliser également des analyses exploratoires sur les différentes variables"
      ],
      "metadata": {
        "id": "oela_0itDYJH"
      }
    },
    {
      "cell_type": "code",
      "source": [],
      "metadata": {
        "id": "NniaH68-Zn3w"
      },
      "execution_count": null,
      "outputs": []
    },
    {
      "cell_type": "markdown",
      "source": [
        "### 2 - Etude guidée n°1"
      ],
      "metadata": {
        "id": "1nt2-WIKCb1J"
      }
    },
    {
      "cell_type": "markdown",
      "source": [
        "Il s’agit ici de répondre à toutes les questions ci-dessous."
      ],
      "metadata": {
        "id": "aaX0yzLvD6n9"
      }
    },
    {
      "cell_type": "markdown",
      "source": [
        "#### Question 1 : Nombre d'humains sur la planète\n",
        "Calculez le nombre total d’humains sur la planète.\n",
        "Critiquez votre résultat. En cas d’anomalie, analysez et effectuer les corrections nécessaires.\n",
        "Donnez le résultat de votre calcul pour l'année 2013."
      ],
      "metadata": {
        "id": "otDngoRdZ-OO"
      }
    },
    {
      "cell_type": "code",
      "source": [],
      "metadata": {
        "id": "F7mUOOxHZ_9_"
      },
      "execution_count": null,
      "outputs": []
    },
    {
      "cell_type": "markdown",
      "source": [
        "#### Question 2 : Redondances\n",
        "Identifiez ces redondances, en donnant votre réponse sous forme de formule mathématique (pas besoin de coder ici).\n",
        "C'est une équation à 3 termes de type (a_1 + a2 + [...] = b_1 + b_2 + [...] = c_1 + c_2 + [...]) ) faisant intervenir chacune des 11 quantités données ci dessus.\n",
        "Illustrez cette équation avec l'exemple du blé en France."
      ],
      "metadata": {
        "id": "_hAXW1I3aA2G"
      }
    },
    {
      "cell_type": "code",
      "source": [],
      "metadata": {
        "id": "Ey3iQvJ1aDRG"
      },
      "execution_count": null,
      "outputs": []
    },
    {
      "cell_type": "markdown",
      "source": [
        "#### Question 3 : Disponibilité alimentaire (calories, protéines)\n",
        "Calculez (pour chaque pays et chaque produit) la disponibilité alimentaire en kcal puis en kg de protéines. Vous ferez cela à partir de ces informations :\n",
        "- Population de chaque pays\n",
        "- Disponibilité alimentaire donnée pour chaque produit et pour chaque pays en kcal/personne/jour, -\n",
        "- Disponibilité alimentaire en protéines donnée pour chaque produit et pour chaque pays en g/personne/jour.\n",
        "Pour cette étape vous avez besoin de constituer une seule et même table à partir des tables animaux et végétaux."
      ],
      "metadata": {
        "id": "5HCFKjr7aDxk"
      }
    },
    {
      "cell_type": "code",
      "source": [],
      "metadata": {
        "id": "B4jG5kWJaKj5"
      },
      "execution_count": null,
      "outputs": []
    },
    {
      "cell_type": "markdown",
      "source": [
        "#### Question 4 : Ratio énergie/poids\n",
        "A partir de ces dernières informations, et à partir du poids de la disponibilité alimentaire (pour chaque pays et chaque produit), calculez pour chaque produit le ratio \"énergie/poids\", que vous donnerez en kcal/kg. Vous pouvez vérifier la cohérence de votre calcul en comparant ce ratio aux données disponibles sur internet, par exemple en cherchant la valeur calorique d'un oeuf."
      ],
      "metadata": {
        "id": "zu-LYhy7aLR9"
      }
    },
    {
      "cell_type": "code",
      "source": [],
      "metadata": {
        "id": "3akvxo_iaYrw"
      },
      "execution_count": null,
      "outputs": []
    },
    {
      "cell_type": "markdown",
      "source": [
        "#### Question 5 : Aliments les plus caloriques et protéiques\n",
        "En considérant les aliments végétaux et animaux, citez 5 aliments parmi les 20 aliments les plus caloriques, en utilisant le ratio énergie/poids. Citez 5 aliments parmi les 20 aliments les plus riches en protéines."
      ],
      "metadata": {
        "id": "sPhgBCDhaZC1"
      }
    },
    {
      "cell_type": "code",
      "source": [],
      "metadata": {
        "id": "0V9zjYedabKw"
      },
      "execution_count": null,
      "outputs": []
    },
    {
      "cell_type": "markdown",
      "source": [
        "#### Question 6 : Dispo. intérieure mondiale des végétaux\n",
        "Calculez, pour les produits végétaux uniquement, la disponibilité intérieure mondiale exprimée en kcal."
      ],
      "metadata": {
        "id": "H1lMRHTYabeR"
      }
    },
    {
      "cell_type": "code",
      "source": [],
      "metadata": {
        "id": "Wzif22s4aeuj"
      },
      "execution_count": null,
      "outputs": []
    },
    {
      "cell_type": "markdown",
      "source": [
        "#### Question 7 : Potentiel alimentaire des végétaux\n",
        "Combien d'humains pourraient être nourris si toute la disponibilité intérieure mondiale de produits végétaux était utilisée pour de la nourriture ? Donnez les résultats en termes de calories, puis de protéines, et exprimez ensuite ces 2 résultats en pourcentage de la population mondiale."
      ],
      "metadata": {
        "id": "ApEOgLexafF0"
      }
    },
    {
      "cell_type": "code",
      "source": [],
      "metadata": {
        "id": "ZtwIMbFuahrI"
      },
      "execution_count": null,
      "outputs": []
    },
    {
      "cell_type": "markdown",
      "source": [
        "#### Question 8 : Potentiel alimentaire des végétaux (destinés aux animaux pertes)\n",
        "Combien d'humains pourraient être nourris si toute la disponibilité alimentaire en produits végétaux la nourriture végétale destinée aux animaux et les pertes de produits végétaux étaient utilisés pour de la nourriture ? Donnez les résultats en termes de calories, puis de protéines, et exprimez ensuite ces 2 résultats en pourcentage de la population mondiale."
      ],
      "metadata": {
        "id": "GBWwrg-OaiB2"
      }
    },
    {
      "cell_type": "code",
      "source": [],
      "metadata": {
        "id": "iF5Im1vEaky4"
      },
      "execution_count": null,
      "outputs": []
    },
    {
      "cell_type": "markdown",
      "source": [
        "#### Question 9 : Potentiel alimentaire de la dispo. Mondiale\n",
        "Combien d'humains pourraient être nourris avec la disponibilité alimentaire mondiale ? Donnez les résultats en termes de calories, puis de protéines, et exprimez ensuite ces 2 résultats en pourcentage de la population mondiale."
      ],
      "metadata": {
        "id": "kL0p9FpIalN0"
      }
    },
    {
      "cell_type": "code",
      "source": [],
      "metadata": {
        "id": "TIibNjMbaoNO"
      },
      "execution_count": null,
      "outputs": []
    },
    {
      "cell_type": "markdown",
      "source": [
        "#### Question 10 : Proportion de la sous-nutrition mondiale\n",
        "A partir des données téléchargées qui concernent la sous-nutrition, répondez à cette question : Quelle proportion de la population mondiale est considérée comme étant en sous-nutrition ?"
      ],
      "metadata": {
        "id": "P8yMAZWqaolA"
      }
    },
    {
      "cell_type": "code",
      "source": [],
      "metadata": {
        "id": "BUHyqcKOarGi"
      },
      "execution_count": null,
      "outputs": []
    },
    {
      "cell_type": "markdown",
      "source": [
        "#### Question 11 : Céréales\n",
        "Établissez la liste des produits (ainsi que leur code) considéré comme des céréales selon la FAO. En ne prenant en compte que les céréales destinées à l'alimentation (humaine et animale), quelle proportion (en termes de poids) est destinée à l'alimentation animale ?"
      ],
      "metadata": {
        "id": "JOB7I9fDarj7"
      }
    },
    {
      "cell_type": "code",
      "source": [],
      "metadata": {
        "id": "OkJK7gp_au3k"
      },
      "execution_count": null,
      "outputs": []
    },
    {
      "cell_type": "markdown",
      "source": [
        "#### Question 12 : Sous-nutrition\n",
        "Sélectionnez parmi les données des bilans alimentaires les informations relatives aux pays dans lesquels la FAO recense des personnes en sous-nutrition.\n",
        "Repérez les 15 produits les plus exportés par ce groupe de pays.\n",
        "Parmi les données des bilans alimentaires au niveau mondial, sélectionnez les 200 plus grandes importations de ces produits (1 importation = une quantité d'un produit donné importée par un pays donné).\n",
        "Groupez ces importations par produit, afin d'avoir une table contenant 1 ligne pour chacun des 15 produits. Ensuite, calculez pour chaque produit les 2 quantités suivantes :\n",
        "\n",
        "    • le ratio entre la quantité destinés aux \"Autres utilisations\" (Other uses) et la disponibilité intérieure.\n",
        "    • le ratio entre la quantité destinée à la nourriture animale et la quantité destinée à la nourriture (animale + humaine)\n",
        "    \n",
        "Donnez les 3 produits qui ont la plus grande valeur pour chacun des 2 ratios (vous aurez donc 6 produits à citer)"
      ],
      "metadata": {
        "id": "1s2qNH1savTW"
      }
    },
    {
      "cell_type": "code",
      "source": [],
      "metadata": {
        "id": "cBVydeGyay3c"
      },
      "execution_count": null,
      "outputs": []
    },
    {
      "cell_type": "markdown",
      "source": [
        "#### Question 13 : USA\n",
        "Combien de tonnes de céréales pourraient être libérées si les USA diminuaient leur production de produits animaux de 10% ?"
      ],
      "metadata": {
        "id": "Yl6GPYa4a6ON"
      }
    },
    {
      "cell_type": "code",
      "source": [],
      "metadata": {
        "id": "S6Ywb72ha66u"
      },
      "execution_count": null,
      "outputs": []
    },
    {
      "cell_type": "markdown",
      "source": [
        "#### Question 14 : Thaïlande\n",
        "En Thaïlande, quelle proportion de manioc est exportée ? Quelle est la proportion de personnes en sous-nutrition?"
      ],
      "metadata": {
        "id": "A8lVRTZcZtwL"
      }
    },
    {
      "cell_type": "code",
      "source": [],
      "metadata": {
        "id": "W5ueGBdEZmHg"
      },
      "execution_count": null,
      "outputs": []
    },
    {
      "cell_type": "markdown",
      "source": [],
      "metadata": {
        "id": "FUW1pFjca11r"
      }
    },
    {
      "cell_type": "markdown",
      "source": [
        "### 3 - Etude guidée n°2"
      ],
      "metadata": {
        "id": "b3RaTavFDqOY"
      }
    },
    {
      "cell_type": "markdown",
      "source": [
        "Il s’agit ici d’intégrer toutes les données dans une base de données relationnelle puis de répondre à toutes les questions ci-dessous.\n",
        "La base de données contiendra 4 tables : population, dispo_alim, equilibre_prod, sous_nutrition."
      ],
      "metadata": {
        "id": "qlW56DtHD1lk"
      }
    },
    {
      "cell_type": "markdown",
      "source": [
        "#### Question 15 : Table population\n",
        "Définir une clé primaire pertinente pour la table population. Intégrer la table dans la base de données relationnelle."
      ],
      "metadata": {
        "id": "RHq8CB_CZHI5"
      }
    },
    {
      "cell_type": "code",
      "source": [],
      "metadata": {
        "id": "1BJd-AIqZlZM"
      },
      "execution_count": null,
      "outputs": []
    },
    {
      "cell_type": "markdown",
      "source": [
        "#### Question 16 : Table dispo_alim\n",
        "La table appelée dispo_alim contient pour chaque pays, pour chaque produit, sur l'année 2013, les informations suivantes:\n",
        "- la nature du produit (deux valeurs possibles“animal” ou “végétal”)\n",
        "- disponibilité alimentaire en tonnes\n",
        "- disponibilité alimentaire en Kcal/personne/jour\n",
        "- disponibilité alimentaire de protéines en g/personne/jour\n",
        "- disponibilité alimentaire de matières grasses en g/personne/jour\n",
        "La table contient ces colonnes : pays, code_pays, année, produit, code_produit, origin, dispo_alim_tonnes, dispo_alim_kcal_p_j, dispo_prot, dispo_mat_gr .\n",
        "Définir une clé primaire pertinente pour la table dispo_alim. Intégrer la table dans la base de données relationnelle."
      ],
      "metadata": {
        "id": "gZFqs9R3ZgOu"
      }
    },
    {
      "cell_type": "code",
      "source": [],
      "metadata": {
        "id": "zaQT09kIZk2y"
      },
      "execution_count": null,
      "outputs": []
    },
    {
      "cell_type": "markdown",
      "source": [
        "#### Question 17 : Table equilibre_prod\n",
        "La table appelée equilibre_prod contient pour chaque pays, pour chaque produit, et pour l'année disponible 2013, les quantités suivantes :\n",
        "- disponibilité intérieure\n",
        "- aliments pour animaux\n",
        "- semences\n",
        "- pertes\n",
        "- transformés\n",
        "- nourriture\n",
        "- autres utilisations\n",
        "Elle contient ces colonnes : pays, code_pays, année, produit, code_produit, dispo_int, alim_ani, semences, pertes, transfo, nourriture, autres_utilisations.\n",
        "Définir une clé primaire pertinente pour la table equilibre_prod. Intégrer la table dans la base de données relationnelle."
      ],
      "metadata": {
        "id": "v6zLu0GVZbxU"
      }
    },
    {
      "cell_type": "code",
      "source": [],
      "metadata": {
        "id": "ugM0Q_l7ZjxR"
      },
      "execution_count": null,
      "outputs": []
    },
    {
      "cell_type": "markdown",
      "source": [
        "#### Question 18 : Table sous_nutrition\n",
        "La table appelée sous_nutrition, contient le nombre de personnes en sous-alimentation pour chaque pays et pour chaque année. Elle contient 4 colonnes : pays, code_pays, année, nb_personnes.\n",
        "Définir une clé primaire pertinente pour la table sous_nutrition. Intégrer la table dans la base de données relationnelle."
      ],
      "metadata": {
        "id": "SKindtOJZYXY"
      }
    },
    {
      "cell_type": "code",
      "source": [],
      "metadata": {
        "id": "HUcuhgklZVbX"
      },
      "execution_count": null,
      "outputs": []
    },
    {
      "cell_type": "markdown",
      "source": [
        "#### Question 19 : Requêtes SQL\n",
        "Formuler les requêtes SQL pour répondre aux questions suivantes :\n",
        "    • Quels sont les 10 pays ayant le plus haut ratio disponibilité alimentaire/habitant en termes de protéines (en kg) par habitant, puis en termes de kcal par habitant ?\n",
        "    • Quels sont les 10 pays ayant le plus faible ratio disponibilité alimentaire/habitant en termes de protéines (en kg) par habitant ?\n",
        "    • Quelle est la quantité totale (en kg) de produits perdus par pays?\n",
        "    • Quels sont les 10 pays pour lesquels la proportion de personnes sous-alimentées est la plus forte ?\n",
        "    • Quels sont les 10 produits pour lesquels le ratio Autres utilisations/Disponibilité intérieure est le plus élevé ?"
      ],
      "metadata": {
        "id": "_lHWO4wTZWHY"
      }
    },
    {
      "cell_type": "code",
      "source": [],
      "metadata": {
        "id": "61BOSvDUZips"
      },
      "execution_count": null,
      "outputs": []
    },
    {
      "cell_type": "markdown",
      "source": [
        "#### Question 20 : Autres utilisations des produits\n",
        "Pour quelques-uns des produits identifiés dans cette dernière requête SQL, supposez quelles sont ces \"autres utilisations\" possibles (recherchez sur internet !)."
      ],
      "metadata": {
        "id": "sYtYZ_uvZK9r"
      }
    },
    {
      "cell_type": "code",
      "source": [],
      "metadata": {
        "id": "LCJ3PxDhZjG-"
      },
      "execution_count": null,
      "outputs": []
    },
    {
      "cell_type": "markdown",
      "source": [
        "### 4 - Analyses complémentaire"
      ],
      "metadata": {
        "id": "4oVN2zheD-A_"
      }
    },
    {
      "cell_type": "markdown",
      "source": [
        "Fort de votre expérience de Data Analyst, il s’agit maintenant de réaliser vos propres analyses et exploration."
      ],
      "metadata": {
        "id": "igoMHlNrEBYZ"
      }
    }
  ]
}
