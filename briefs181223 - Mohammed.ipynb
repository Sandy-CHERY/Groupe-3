{
  "cells": [
    {
      "cell_type": "markdown",
      "metadata": {
        "id": "dDYnD_yh-skJ"
      },
      "source": [
        "# Data Analyst au sein de la FAO"
      ]
    },
    {
      "cell_type": "markdown",
      "metadata": {
        "id": "Bhgi21K2-nFa"
      },
      "source": [
        "lien du brief : https://simplonline.co/briefs/688fc302-e4d4-4324-8904-f22316c31713\n",
        "\n"
      ]
    },
    {
      "cell_type": "markdown",
      "metadata": {
        "id": "31doXc7fFxKl"
      },
      "source": [
        "lien du dossier git : https://github.com/data-IA-2023/Groupe-3\n"
      ]
    },
    {
      "cell_type": "markdown",
      "metadata": {
        "id": "8mrHC_I5-ykk"
      },
      "source": [
        "Vous venez d'intégrer la FAO (Food and Agriculture Organization of the United Nations). BRAVO !!!!!!\n",
        "Vous allez mener votre première mission en analysant les données mondiales de production agricole, d'alimentation et de nutrition."
      ]
    },
    {
      "cell_type": "markdown",
      "metadata": {
        "id": "FUVcknHlAIC_"
      },
      "source": [
        "**Livrables**\n",
        "\n",
        "* Un dépôt Github\n",
        "* Un notebook **fonctionnel, documenté et commenté**\n",
        "* Une présentation écrite et orale résumant vos travaux, votre analyse et vos recommandations"
      ]
    },
    {
      "cell_type": "markdown",
      "metadata": {
        "id": "fcBxpeFXAkMg"
      },
      "source": [
        "**Contexte du projet**\n",
        "\n",
        "* Au sein du service Data Analytics and Prospective de la FAO, vous êtes en charge d'analyser les données produites par les Nations Unies.\n",
        "\n",
        "* Ces analyses conduisent à des rapports de synthèse à destination des décideurs.\n",
        "\n",
        "* Pour êtes également en charge de la partie Prospective, c'est à dire donner des tendances et des évolutions probables quant à la production agricole, à l'alimentation et la nutrition mondiales.\n"
      ]
    },
    {
      "cell_type": "markdown",
      "metadata": {
        "id": "wICIZAqLAonV"
      },
      "source": [
        "**Ressource(s)**\n",
        "\n",
        "FAO - Wikipedia : https://fr.wikipedia.org/wiki/Organisation_des_Nations_unies_pour_l'alimentation_et_l'agriculture\n",
        "\n",
        "FAOSTAT : https://www.fao.org/faostat/fr/#home\n",
        "\n",
        "Les données FAO 2013 : https://github.com/remijul/dataset/tree/master/fao_2013"
      ]
    },
    {
      "cell_type": "markdown",
      "metadata": {
        "id": "Bk2Uuk0nBbJ6"
      },
      "source": [
        "## Partie extraction des données"
      ]
    },
    {
      "cell_type": "code",
      "execution_count": 1,
      "metadata": {},
      "outputs": [
        {
          "name": "stdout",
          "output_type": "stream",
          "text": [
            "<class 'pandas.core.frame.DataFrame'>\n",
            "RangeIndex: 104871 entries, 0 to 104870\n",
            "Data columns (total 14 columns):\n",
            " #   Column                  Non-Null Count   Dtype  \n",
            "---  ------                  --------------   -----  \n",
            " 0   Code Domaine            104871 non-null  object \n",
            " 1   Domaine                 104871 non-null  object \n",
            " 2   Code Pays               104871 non-null  int64  \n",
            " 3   Pays                    104871 non-null  object \n",
            " 4   Code Élément            104871 non-null  int64  \n",
            " 5   Élément                 104871 non-null  object \n",
            " 6   Code Produit            104871 non-null  int64  \n",
            " 7   Produit                 104871 non-null  object \n",
            " 8   Code Année              104871 non-null  int64  \n",
            " 9   Année                   104871 non-null  int64  \n",
            " 10  Unité                   104871 non-null  object \n",
            " 11  Valeur                  104871 non-null  float64\n",
            " 12  Symbole                 104871 non-null  object \n",
            " 13  Description du Symbole  104871 non-null  object \n",
            "dtypes: float64(1), int64(5), object(8)\n",
            "memory usage: 11.2+ MB\n"
          ]
        }
      ],
      "source": [
        "import pandas as pd\n",
        "import numpy as np\n",
        "\n",
        "chemein_BD_vegetal = \"fao_2013/FAOSTAT_2013_vegetal.csv\"\n",
        "\n",
        "BD_vegetal = pd.read_csv(chemein_BD_vegetal, sep=',',on_bad_lines='skip')\n",
        "\n",
        "BD_vegetal.info()"
      ]
    },
    {
      "cell_type": "code",
      "execution_count": 13,
      "metadata": {
        "colab": {
          "base_uri": "https://localhost:8080/",
          "height": 843
        },
        "id": "RuUCQCiXVblU",
        "outputId": "07eea495-765b-41e2-a624-47a9a1ba01cb"
      },
      "outputs": [
        {
          "name": "stdout",
          "output_type": "stream",
          "text": [
            "<class 'pandas.core.frame.DataFrame'>\n",
            "RangeIndex: 41752 entries, 0 to 41751\n",
            "Data columns (total 14 columns):\n",
            " #   Column                  Non-Null Count  Dtype  \n",
            "---  ------                  --------------  -----  \n",
            " 0   Code Domaine            41752 non-null  object \n",
            " 1   Domaine                 41752 non-null  object \n",
            " 2   Code zone (M49)         41752 non-null  int64  \n",
            " 3   Zone                    41752 non-null  object \n",
            " 4   Code Élément            41752 non-null  int64  \n",
            " 5   Élément                 41752 non-null  object \n",
            " 6   Code Produit (CPC)      41752 non-null  object \n",
            " 7   Produit                 41752 non-null  object \n",
            " 8   Code année              41752 non-null  int64  \n",
            " 9   Année                   41752 non-null  int64  \n",
            " 10  Unité                   41752 non-null  object \n",
            " 11  Valeur                  40679 non-null  float64\n",
            " 12  Symbole                 41752 non-null  object \n",
            " 13  Description du Symbole  41752 non-null  object \n",
            "dtypes: float64(1), int64(4), object(9)\n",
            "memory usage: 4.5+ MB\n"
          ]
        },
        {
          "data": {
            "text/html": [
              "<div>\n",
              "<style scoped>\n",
              "    .dataframe tbody tr th:only-of-type {\n",
              "        vertical-align: middle;\n",
              "    }\n",
              "\n",
              "    .dataframe tbody tr th {\n",
              "        vertical-align: top;\n",
              "    }\n",
              "\n",
              "    .dataframe thead th {\n",
              "        text-align: right;\n",
              "    }\n",
              "</style>\n",
              "<table border=\"1\" class=\"dataframe\">\n",
              "  <thead>\n",
              "    <tr style=\"text-align: right;\">\n",
              "      <th></th>\n",
              "      <th>Code zone (M49)</th>\n",
              "      <th>Code Élément</th>\n",
              "      <th>Code année</th>\n",
              "      <th>Année</th>\n",
              "      <th>Valeur</th>\n",
              "    </tr>\n",
              "  </thead>\n",
              "  <tbody>\n",
              "    <tr>\n",
              "      <th>count</th>\n",
              "      <td>41752.000000</td>\n",
              "      <td>41752.000000</td>\n",
              "      <td>41752.0</td>\n",
              "      <td>41752.0</td>\n",
              "      <td>4.067900e+04</td>\n",
              "    </tr>\n",
              "    <tr>\n",
              "      <th>mean</th>\n",
              "      <td>427.034753</td>\n",
              "      <td>5403.256084</td>\n",
              "      <td>2020.0</td>\n",
              "      <td>2020.0</td>\n",
              "      <td>9.725984e+05</td>\n",
              "    </tr>\n",
              "    <tr>\n",
              "      <th>std</th>\n",
              "      <td>254.441180</td>\n",
              "      <td>100.909329</td>\n",
              "      <td>0.0</td>\n",
              "      <td>0.0</td>\n",
              "      <td>1.283739e+07</td>\n",
              "    </tr>\n",
              "    <tr>\n",
              "      <th>min</th>\n",
              "      <td>4.000000</td>\n",
              "      <td>5111.000000</td>\n",
              "      <td>2020.0</td>\n",
              "      <td>2020.0</td>\n",
              "      <td>0.000000e+00</td>\n",
              "    </tr>\n",
              "    <tr>\n",
              "      <th>25%</th>\n",
              "      <td>203.000000</td>\n",
              "      <td>5312.000000</td>\n",
              "      <td>2020.0</td>\n",
              "      <td>2020.0</td>\n",
              "      <td>1.314500e+03</td>\n",
              "    </tr>\n",
              "    <tr>\n",
              "      <th>50%</th>\n",
              "      <td>414.000000</td>\n",
              "      <td>5419.000000</td>\n",
              "      <td>2020.0</td>\n",
              "      <td>2020.0</td>\n",
              "      <td>1.625000e+04</td>\n",
              "    </tr>\n",
              "    <tr>\n",
              "      <th>75%</th>\n",
              "      <td>643.000000</td>\n",
              "      <td>5510.000000</td>\n",
              "      <td>2020.0</td>\n",
              "      <td>2020.0</td>\n",
              "      <td>1.149180e+05</td>\n",
              "    </tr>\n",
              "    <tr>\n",
              "      <th>max</th>\n",
              "      <td>894.000000</td>\n",
              "      <td>5513.000000</td>\n",
              "      <td>2020.0</td>\n",
              "      <td>2020.0</td>\n",
              "      <td>7.571169e+08</td>\n",
              "    </tr>\n",
              "  </tbody>\n",
              "</table>\n",
              "</div>"
            ],
            "text/plain": [
              "       Code zone (M49)  Code Élément  Code année    Année        Valeur\n",
              "count     41752.000000  41752.000000     41752.0  41752.0  4.067900e+04\n",
              "mean        427.034753   5403.256084      2020.0   2020.0  9.725984e+05\n",
              "std         254.441180    100.909329         0.0      0.0  1.283739e+07\n",
              "min           4.000000   5111.000000      2020.0   2020.0  0.000000e+00\n",
              "25%         203.000000   5312.000000      2020.0   2020.0  1.314500e+03\n",
              "50%         414.000000   5419.000000      2020.0   2020.0  1.625000e+04\n",
              "75%         643.000000   5510.000000      2020.0   2020.0  1.149180e+05\n",
              "max         894.000000   5513.000000      2020.0   2020.0  7.571169e+08"
            ]
          },
          "execution_count": 13,
          "metadata": {},
          "output_type": "execute_result"
        }
      ],
      "source": [
        "chemein_BD_culture = \"fao_2020/FAOSTAT_2020_Cultures et produits animaux.csv\"\n",
        "\n",
        "BD_culture = pd.read_csv(chemein_BD_culture, sep=',',on_bad_lines='skip')\n",
        "\n",
        "BD_culture.info()\n",
        "BD_culture.describe()\n",
        "\n"
      ]
    },
    {
      "cell_type": "code",
      "execution_count": 12,
      "metadata": {},
      "outputs": [
        {
          "data": {
            "text/html": [
              "<div>\n",
              "<style scoped>\n",
              "    .dataframe tbody tr th:only-of-type {\n",
              "        vertical-align: middle;\n",
              "    }\n",
              "\n",
              "    .dataframe tbody tr th {\n",
              "        vertical-align: top;\n",
              "    }\n",
              "\n",
              "    .dataframe thead th {\n",
              "        text-align: right;\n",
              "    }\n",
              "</style>\n",
              "<table border=\"1\" class=\"dataframe\">\n",
              "  <thead>\n",
              "    <tr style=\"text-align: right;\">\n",
              "      <th></th>\n",
              "      <th>Code Domaine</th>\n",
              "      <th>Domaine</th>\n",
              "      <th>Code zone (M49)</th>\n",
              "      <th>Zone</th>\n",
              "      <th>Code Élément</th>\n",
              "      <th>Élément</th>\n",
              "      <th>Code Produit (CPC)</th>\n",
              "      <th>Produit</th>\n",
              "      <th>Code année</th>\n",
              "      <th>Année</th>\n",
              "      <th>Unité</th>\n",
              "      <th>Valeur</th>\n",
              "      <th>Symbole</th>\n",
              "      <th>Description du Symbole</th>\n",
              "    </tr>\n",
              "  </thead>\n",
              "  <tbody>\n",
              "    <tr>\n",
              "      <th>377</th>\n",
              "      <td>QCL</td>\n",
              "      <td>Cultures et produits animaux</td>\n",
              "      <td>710</td>\n",
              "      <td>Afrique du Sud</td>\n",
              "      <td>5312</td>\n",
              "      <td>Superficie récoltée</td>\n",
              "      <td>01254</td>\n",
              "      <td>Poireaux et autres légumes alliacés</td>\n",
              "      <td>2020</td>\n",
              "      <td>2020</td>\n",
              "      <td>ha</td>\n",
              "      <td>NaN</td>\n",
              "      <td>M</td>\n",
              "      <td>Valeur manquante (les données ne peuvent exist...</td>\n",
              "    </tr>\n",
              "    <tr>\n",
              "      <th>378</th>\n",
              "      <td>QCL</td>\n",
              "      <td>Cultures et produits animaux</td>\n",
              "      <td>710</td>\n",
              "      <td>Afrique du Sud</td>\n",
              "      <td>5510</td>\n",
              "      <td>Production</td>\n",
              "      <td>01254</td>\n",
              "      <td>Poireaux et autres légumes alliacés</td>\n",
              "      <td>2020</td>\n",
              "      <td>2020</td>\n",
              "      <td>tonnes</td>\n",
              "      <td>NaN</td>\n",
              "      <td>M</td>\n",
              "      <td>Valeur manquante (les données ne peuvent exist...</td>\n",
              "    </tr>\n",
              "    <tr>\n",
              "      <th>487</th>\n",
              "      <td>QCL</td>\n",
              "      <td>Cultures et produits animaux</td>\n",
              "      <td>8</td>\n",
              "      <td>Albanie</td>\n",
              "      <td>5312</td>\n",
              "      <td>Superficie récoltée</td>\n",
              "      <td>01349.20</td>\n",
              "      <td>Autre fruit à noyau n.a.c.</td>\n",
              "      <td>2020</td>\n",
              "      <td>2020</td>\n",
              "      <td>ha</td>\n",
              "      <td>NaN</td>\n",
              "      <td>M</td>\n",
              "      <td>Valeur manquante (les données ne peuvent exist...</td>\n",
              "    </tr>\n",
              "    <tr>\n",
              "      <th>488</th>\n",
              "      <td>QCL</td>\n",
              "      <td>Cultures et produits animaux</td>\n",
              "      <td>8</td>\n",
              "      <td>Albanie</td>\n",
              "      <td>5510</td>\n",
              "      <td>Production</td>\n",
              "      <td>01349.20</td>\n",
              "      <td>Autre fruit à noyau n.a.c.</td>\n",
              "      <td>2020</td>\n",
              "      <td>2020</td>\n",
              "      <td>tonnes</td>\n",
              "      <td>NaN</td>\n",
              "      <td>M</td>\n",
              "      <td>Valeur manquante (les données ne peuvent exist...</td>\n",
              "    </tr>\n",
              "    <tr>\n",
              "      <th>513</th>\n",
              "      <td>QCL</td>\n",
              "      <td>Cultures et produits animaux</td>\n",
              "      <td>8</td>\n",
              "      <td>Albanie</td>\n",
              "      <td>5112</td>\n",
              "      <td>Réserves</td>\n",
              "      <td>02154</td>\n",
              "      <td>Canards</td>\n",
              "      <td>2020</td>\n",
              "      <td>2020</td>\n",
              "      <td>1000 têtes</td>\n",
              "      <td>NaN</td>\n",
              "      <td>M</td>\n",
              "      <td>Valeur manquante (les données ne peuvent exist...</td>\n",
              "    </tr>\n",
              "    <tr>\n",
              "      <th>...</th>\n",
              "      <td>...</td>\n",
              "      <td>...</td>\n",
              "      <td>...</td>\n",
              "      <td>...</td>\n",
              "      <td>...</td>\n",
              "      <td>...</td>\n",
              "      <td>...</td>\n",
              "      <td>...</td>\n",
              "      <td>...</td>\n",
              "      <td>...</td>\n",
              "      <td>...</td>\n",
              "      <td>...</td>\n",
              "      <td>...</td>\n",
              "      <td>...</td>\n",
              "    </tr>\n",
              "    <tr>\n",
              "      <th>41421</th>\n",
              "      <td>QCL</td>\n",
              "      <td>Cultures et produits animaux</td>\n",
              "      <td>894</td>\n",
              "      <td>Zambie</td>\n",
              "      <td>5510</td>\n",
              "      <td>Production</td>\n",
              "      <td>01342.01</td>\n",
              "      <td>Poires</td>\n",
              "      <td>2020</td>\n",
              "      <td>2020</td>\n",
              "      <td>tonnes</td>\n",
              "      <td>NaN</td>\n",
              "      <td>M</td>\n",
              "      <td>Valeur manquante (les données ne peuvent exist...</td>\n",
              "    </tr>\n",
              "    <tr>\n",
              "      <th>41422</th>\n",
              "      <td>QCL</td>\n",
              "      <td>Cultures et produits animaux</td>\n",
              "      <td>894</td>\n",
              "      <td>Zambie</td>\n",
              "      <td>5312</td>\n",
              "      <td>Superficie récoltée</td>\n",
              "      <td>01242</td>\n",
              "      <td>Pois frais</td>\n",
              "      <td>2020</td>\n",
              "      <td>2020</td>\n",
              "      <td>ha</td>\n",
              "      <td>NaN</td>\n",
              "      <td>M</td>\n",
              "      <td>Valeur manquante (les données ne peuvent exist...</td>\n",
              "    </tr>\n",
              "    <tr>\n",
              "      <th>41423</th>\n",
              "      <td>QCL</td>\n",
              "      <td>Cultures et produits animaux</td>\n",
              "      <td>894</td>\n",
              "      <td>Zambie</td>\n",
              "      <td>5510</td>\n",
              "      <td>Production</td>\n",
              "      <td>01242</td>\n",
              "      <td>Pois frais</td>\n",
              "      <td>2020</td>\n",
              "      <td>2020</td>\n",
              "      <td>tonnes</td>\n",
              "      <td>NaN</td>\n",
              "      <td>M</td>\n",
              "      <td>Valeur manquante (les données ne peuvent exist...</td>\n",
              "    </tr>\n",
              "    <tr>\n",
              "      <th>41677</th>\n",
              "      <td>QCL</td>\n",
              "      <td>Cultures et produits animaux</td>\n",
              "      <td>716</td>\n",
              "      <td>Zimbabwe</td>\n",
              "      <td>5312</td>\n",
              "      <td>Superficie récoltée</td>\n",
              "      <td>01706</td>\n",
              "      <td>Pois à vache secs</td>\n",
              "      <td>2020</td>\n",
              "      <td>2020</td>\n",
              "      <td>ha</td>\n",
              "      <td>NaN</td>\n",
              "      <td>M</td>\n",
              "      <td>Valeur manquante (les données ne peuvent exist...</td>\n",
              "    </tr>\n",
              "    <tr>\n",
              "      <th>41678</th>\n",
              "      <td>QCL</td>\n",
              "      <td>Cultures et produits animaux</td>\n",
              "      <td>716</td>\n",
              "      <td>Zimbabwe</td>\n",
              "      <td>5510</td>\n",
              "      <td>Production</td>\n",
              "      <td>01706</td>\n",
              "      <td>Pois à vache secs</td>\n",
              "      <td>2020</td>\n",
              "      <td>2020</td>\n",
              "      <td>tonnes</td>\n",
              "      <td>NaN</td>\n",
              "      <td>M</td>\n",
              "      <td>Valeur manquante (les données ne peuvent exist...</td>\n",
              "    </tr>\n",
              "  </tbody>\n",
              "</table>\n",
              "<p>1073 rows × 14 columns</p>\n",
              "</div>"
            ],
            "text/plain": [
              "      Code Domaine                       Domaine  Code zone (M49)  \\\n",
              "377            QCL  Cultures et produits animaux              710   \n",
              "378            QCL  Cultures et produits animaux              710   \n",
              "487            QCL  Cultures et produits animaux                8   \n",
              "488            QCL  Cultures et produits animaux                8   \n",
              "513            QCL  Cultures et produits animaux                8   \n",
              "...            ...                           ...              ...   \n",
              "41421          QCL  Cultures et produits animaux              894   \n",
              "41422          QCL  Cultures et produits animaux              894   \n",
              "41423          QCL  Cultures et produits animaux              894   \n",
              "41677          QCL  Cultures et produits animaux              716   \n",
              "41678          QCL  Cultures et produits animaux              716   \n",
              "\n",
              "                 Zone  Code Élément              Élément Code Produit (CPC)  \\\n",
              "377    Afrique du Sud          5312  Superficie récoltée              01254   \n",
              "378    Afrique du Sud          5510           Production              01254   \n",
              "487           Albanie          5312  Superficie récoltée           01349.20   \n",
              "488           Albanie          5510           Production           01349.20   \n",
              "513           Albanie          5112             Réserves              02154   \n",
              "...               ...           ...                  ...                ...   \n",
              "41421          Zambie          5510           Production           01342.01   \n",
              "41422          Zambie          5312  Superficie récoltée              01242   \n",
              "41423          Zambie          5510           Production              01242   \n",
              "41677        Zimbabwe          5312  Superficie récoltée              01706   \n",
              "41678        Zimbabwe          5510           Production              01706   \n",
              "\n",
              "                                   Produit  Code année  Année       Unité  \\\n",
              "377    Poireaux et autres légumes alliacés        2020   2020          ha   \n",
              "378    Poireaux et autres légumes alliacés        2020   2020      tonnes   \n",
              "487             Autre fruit à noyau n.a.c.        2020   2020          ha   \n",
              "488             Autre fruit à noyau n.a.c.        2020   2020      tonnes   \n",
              "513                                Canards        2020   2020  1000 têtes   \n",
              "...                                    ...         ...    ...         ...   \n",
              "41421                               Poires        2020   2020      tonnes   \n",
              "41422                           Pois frais        2020   2020          ha   \n",
              "41423                           Pois frais        2020   2020      tonnes   \n",
              "41677                    Pois à vache secs        2020   2020          ha   \n",
              "41678                    Pois à vache secs        2020   2020      tonnes   \n",
              "\n",
              "       Valeur Symbole                             Description du Symbole  \n",
              "377       NaN       M  Valeur manquante (les données ne peuvent exist...  \n",
              "378       NaN       M  Valeur manquante (les données ne peuvent exist...  \n",
              "487       NaN       M  Valeur manquante (les données ne peuvent exist...  \n",
              "488       NaN       M  Valeur manquante (les données ne peuvent exist...  \n",
              "513       NaN       M  Valeur manquante (les données ne peuvent exist...  \n",
              "...       ...     ...                                                ...  \n",
              "41421     NaN       M  Valeur manquante (les données ne peuvent exist...  \n",
              "41422     NaN       M  Valeur manquante (les données ne peuvent exist...  \n",
              "41423     NaN       M  Valeur manquante (les données ne peuvent exist...  \n",
              "41677     NaN       M  Valeur manquante (les données ne peuvent exist...  \n",
              "41678     NaN       M  Valeur manquante (les données ne peuvent exist...  \n",
              "\n",
              "[1073 rows x 14 columns]"
            ]
          },
          "execution_count": 12,
          "metadata": {},
          "output_type": "execute_result"
        }
      ],
      "source": [
        "BD_culture[BD_culture['Valeur'].isnull()]\n",
        "#BD_culture.info()\n"
      ]
    },
    {
      "cell_type": "markdown",
      "metadata": {
        "id": "wP4Y2HP5BjEn"
      },
      "source": [
        "## Partie netoyage des données"
      ]
    },
    {
      "cell_type": "code",
      "execution_count": null,
      "metadata": {
        "id": "Pq_LrpqdByVc"
      },
      "outputs": [],
      "source": []
    },
    {
      "cell_type": "code",
      "execution_count": null,
      "metadata": {
        "id": "Ls8QWkncAwzo"
      },
      "outputs": [],
      "source": []
    },
    {
      "cell_type": "markdown",
      "metadata": {
        "id": "WXU-1nrKBtDC"
      },
      "source": [
        "## Partie traitement des données"
      ]
    },
    {
      "cell_type": "markdown",
      "metadata": {
        "id": "1Lf3QTuICiKd"
      },
      "source": [
        "### 1 - Analyses descriptives et exploratoire des données"
      ]
    },
    {
      "cell_type": "markdown",
      "metadata": {
        "id": "5BJWz1boDY5t"
      },
      "source": [
        "Il s’agit ici de réaliser des analyses descriptives statistiques et graphiques sur les différentes variables des jeux de données :\n",
        "\n",
        "    • Analyses univariées\n",
        "    • Analyses bi-variées\n",
        "    • Analyses multi-variées\n",
        "\n",
        "Réaliser également des analyses exploratoires sur les différentes variables"
      ]
    },
    {
      "cell_type": "markdown",
      "metadata": {
        "id": "oela_0itDYJH"
      },
      "source": [
        "Il s’agit ici de réaliser des analyses descriptives statistiques et graphiques sur les différentes variables des jeux de données :\n",
        "    • Analyses univariées\n",
        "    • Analyses bi-variées\n",
        "    • Analyses multi-variées\n",
        "Réaliser également des analyses exploratoires sur les différentes variables"
      ]
    },
    {
      "cell_type": "code",
      "execution_count": null,
      "metadata": {
        "id": "NniaH68-Zn3w"
      },
      "outputs": [],
      "source": []
    },
    {
      "cell_type": "markdown",
      "metadata": {
        "id": "1nt2-WIKCb1J"
      },
      "source": [
        "### 2 - Etude guidée n°1"
      ]
    },
    {
      "cell_type": "markdown",
      "metadata": {
        "id": "aaX0yzLvD6n9"
      },
      "source": [
        "Il s’agit ici de répondre à toutes les questions ci-dessous."
      ]
    },
    {
      "cell_type": "markdown",
      "metadata": {
        "id": "otDngoRdZ-OO"
      },
      "source": [
        "#### Question 1 : Nombre d'humains sur la planète\n",
        "Calculez le nombre total d’humains sur la planète.\n",
        "Critiquez votre résultat. En cas d’anomalie, analysez et effectuer les corrections nécessaires.\n",
        "Donnez le résultat de votre calcul pour l'année 2013."
      ]
    },
    {
      "cell_type": "code",
      "execution_count": null,
      "metadata": {
        "id": "F7mUOOxHZ_9_"
      },
      "outputs": [],
      "source": []
    },
    {
      "cell_type": "markdown",
      "metadata": {
        "id": "_hAXW1I3aA2G"
      },
      "source": [
        "#### Question 2 : Redondances\n",
        "Identifiez ces redondances, en donnant votre réponse sous forme de formule mathématique (pas besoin de coder ici).\n",
        "C'est une équation à 3 termes de type (a_1 + a2 + [...] = b_1 + b_2 + [...] = c_1 + c_2 + [...]) ) faisant intervenir chacune des 11 quantités données ci dessus.\n",
        "Illustrez cette équation avec l'exemple du blé en France."
      ]
    },
    {
      "cell_type": "code",
      "execution_count": null,
      "metadata": {
        "id": "Ey3iQvJ1aDRG"
      },
      "outputs": [],
      "source": []
    },
    {
      "cell_type": "markdown",
      "metadata": {
        "id": "5HCFKjr7aDxk"
      },
      "source": [
        "#### Question 3 : Disponibilité alimentaire (calories, protéines)\n",
        "Calculez (pour chaque pays et chaque produit) la disponibilité alimentaire en kcal puis en kg de protéines. Vous ferez cela à partir de ces informations :\n",
        "- Population de chaque pays\n",
        "- Disponibilité alimentaire donnée pour chaque produit et pour chaque pays en kcal/personne/jour, -\n",
        "- Disponibilité alimentaire en protéines donnée pour chaque produit et pour chaque pays en g/personne/jour.\n",
        "Pour cette étape vous avez besoin de constituer une seule et même table à partir des tables animaux et végétaux."
      ]
    },
    {
      "cell_type": "code",
      "execution_count": null,
      "metadata": {
        "id": "B4jG5kWJaKj5"
      },
      "outputs": [],
      "source": []
    },
    {
      "cell_type": "markdown",
      "metadata": {
        "id": "zu-LYhy7aLR9"
      },
      "source": [
        "#### Question 4 : Ratio énergie/poids\n",
        "A partir de ces dernières informations, et à partir du poids de la disponibilité alimentaire (pour chaque pays et chaque produit), calculez pour chaque produit le ratio \"énergie/poids\", que vous donnerez en kcal/kg. Vous pouvez vérifier la cohérence de votre calcul en comparant ce ratio aux données disponibles sur internet, par exemple en cherchant la valeur calorique d'un oeuf."
      ]
    },
    {
      "cell_type": "code",
      "execution_count": null,
      "metadata": {
        "id": "3akvxo_iaYrw"
      },
      "outputs": [],
      "source": []
    },
    {
      "cell_type": "markdown",
      "metadata": {
        "id": "sPhgBCDhaZC1"
      },
      "source": [
        "#### Question 5 : Aliments les plus caloriques et protéiques\n",
        "En considérant les aliments végétaux et animaux, citez 5 aliments parmi les 20 aliments les plus caloriques, en utilisant le ratio énergie/poids. Citez 5 aliments parmi les 20 aliments les plus riches en protéines."
      ]
    },
    {
      "cell_type": "code",
      "execution_count": null,
      "metadata": {
        "id": "0V9zjYedabKw"
      },
      "outputs": [],
      "source": []
    },
    {
      "cell_type": "markdown",
      "metadata": {
        "id": "H1lMRHTYabeR"
      },
      "source": [
        "#### Question 6 : Dispo. intérieure mondiale des végétaux\n",
        "Calculez, pour les produits végétaux uniquement, la disponibilité intérieure mondiale exprimée en kcal."
      ]
    },
    {
      "cell_type": "code",
      "execution_count": null,
      "metadata": {
        "id": "Wzif22s4aeuj"
      },
      "outputs": [],
      "source": []
    },
    {
      "cell_type": "markdown",
      "metadata": {
        "id": "ApEOgLexafF0"
      },
      "source": [
        "#### Question 7 : Potentiel alimentaire des végétaux\n",
        "Combien d'humains pourraient être nourris si toute la disponibilité intérieure mondiale de produits végétaux était utilisée pour de la nourriture ? Donnez les résultats en termes de calories, puis de protéines, et exprimez ensuite ces 2 résultats en pourcentage de la population mondiale."
      ]
    },
    {
      "cell_type": "code",
      "execution_count": null,
      "metadata": {
        "id": "ZtwIMbFuahrI"
      },
      "outputs": [],
      "source": []
    },
    {
      "cell_type": "markdown",
      "metadata": {
        "id": "GBWwrg-OaiB2"
      },
      "source": [
        "#### Question 8 : Potentiel alimentaire des végétaux (destinés aux animaux pertes)\n",
        "Combien d'humains pourraient être nourris si toute la disponibilité alimentaire en produits végétaux la nourriture végétale destinée aux animaux et les pertes de produits végétaux étaient utilisés pour de la nourriture ? Donnez les résultats en termes de calories, puis de protéines, et exprimez ensuite ces 2 résultats en pourcentage de la population mondiale."
      ]
    },
    {
      "cell_type": "code",
      "execution_count": null,
      "metadata": {
        "id": "iF5Im1vEaky4"
      },
      "outputs": [],
      "source": []
    },
    {
      "cell_type": "markdown",
      "metadata": {
        "id": "kL0p9FpIalN0"
      },
      "source": [
        "#### Question 9 : Potentiel alimentaire de la dispo. Mondiale\n",
        "Combien d'humains pourraient être nourris avec la disponibilité alimentaire mondiale ? Donnez les résultats en termes de calories, puis de protéines, et exprimez ensuite ces 2 résultats en pourcentage de la population mondiale."
      ]
    },
    {
      "cell_type": "code",
      "execution_count": null,
      "metadata": {
        "id": "TIibNjMbaoNO"
      },
      "outputs": [],
      "source": []
    },
    {
      "cell_type": "markdown",
      "metadata": {
        "id": "P8yMAZWqaolA"
      },
      "source": [
        "#### Question 10 : Proportion de la sous-nutrition mondiale\n",
        "A partir des données téléchargées qui concernent la sous-nutrition, répondez à cette question : Quelle proportion de la population mondiale est considérée comme étant en sous-nutrition ?"
      ]
    },
    {
      "cell_type": "code",
      "execution_count": null,
      "metadata": {
        "id": "BUHyqcKOarGi"
      },
      "outputs": [],
      "source": []
    },
    {
      "cell_type": "markdown",
      "metadata": {
        "id": "JOB7I9fDarj7"
      },
      "source": [
        "#### Question 11 : Céréales\n",
        "Établissez la liste des produits (ainsi que leur code) considéré comme des céréales selon la FAO. En ne prenant en compte que les céréales destinées à l'alimentation (humaine et animale), quelle proportion (en termes de poids) est destinée à l'alimentation animale ?"
      ]
    },
    {
      "cell_type": "code",
      "execution_count": null,
      "metadata": {
        "id": "OkJK7gp_au3k"
      },
      "outputs": [],
      "source": []
    },
    {
      "cell_type": "markdown",
      "metadata": {
        "id": "1s2qNH1savTW"
      },
      "source": [
        "#### Question 12 : Sous-nutrition\n",
        "Sélectionnez parmi les données des bilans alimentaires les informations relatives aux pays dans lesquels la FAO recense des personnes en sous-nutrition.\n",
        "Repérez les 15 produits les plus exportés par ce groupe de pays.\n",
        "Parmi les données des bilans alimentaires au niveau mondial, sélectionnez les 200 plus grandes importations de ces produits (1 importation = une quantité d'un produit donné importée par un pays donné).\n",
        "Groupez ces importations par produit, afin d'avoir une table contenant 1 ligne pour chacun des 15 produits. Ensuite, calculez pour chaque produit les 2 quantités suivantes :\n",
        "\n",
        "    • le ratio entre la quantité destinés aux \"Autres utilisations\" (Other uses) et la disponibilité intérieure.\n",
        "    • le ratio entre la quantité destinée à la nourriture animale et la quantité destinée à la nourriture (animale + humaine)\n",
        "    \n",
        "Donnez les 3 produits qui ont la plus grande valeur pour chacun des 2 ratios (vous aurez donc 6 produits à citer)"
      ]
    },
    {
      "cell_type": "code",
      "execution_count": null,
      "metadata": {
        "id": "cBVydeGyay3c"
      },
      "outputs": [],
      "source": []
    },
    {
      "cell_type": "markdown",
      "metadata": {
        "id": "Yl6GPYa4a6ON"
      },
      "source": [
        "#### Question 13 : USA\n",
        "Combien de tonnes de céréales pourraient être libérées si les USA diminuaient leur production de produits animaux de 10% ?"
      ]
    },
    {
      "cell_type": "code",
      "execution_count": null,
      "metadata": {
        "id": "S6Ywb72ha66u"
      },
      "outputs": [],
      "source": []
    },
    {
      "cell_type": "markdown",
      "metadata": {
        "id": "A8lVRTZcZtwL"
      },
      "source": [
        "#### Question 14 : Thaïlande\n",
        "En Thaïlande, quelle proportion de manioc est exportée ? Quelle est la proportion de personnes en sous-nutrition?"
      ]
    },
    {
      "cell_type": "code",
      "execution_count": null,
      "metadata": {
        "id": "W5ueGBdEZmHg"
      },
      "outputs": [],
      "source": []
    },
    {
      "cell_type": "markdown",
      "metadata": {
        "id": "FUW1pFjca11r"
      },
      "source": []
    },
    {
      "cell_type": "markdown",
      "metadata": {
        "id": "b3RaTavFDqOY"
      },
      "source": [
        "### 3 - Etude guidée n°2"
      ]
    },
    {
      "cell_type": "markdown",
      "metadata": {
        "id": "qlW56DtHD1lk"
      },
      "source": [
        "Il s’agit ici d’intégrer toutes les données dans une base de données relationnelle puis de répondre à toutes les questions ci-dessous.\n",
        "La base de données contiendra 4 tables : population, dispo_alim, equilibre_prod, sous_nutrition."
      ]
    },
    {
      "cell_type": "markdown",
      "metadata": {
        "id": "RHq8CB_CZHI5"
      },
      "source": [
        "#### Question 15 : Table population\n",
        "Définir une clé primaire pertinente pour la table population. Intégrer la table dans la base de données relationnelle."
      ]
    },
    {
      "cell_type": "code",
      "execution_count": null,
      "metadata": {
        "id": "1BJd-AIqZlZM"
      },
      "outputs": [],
      "source": []
    },
    {
      "cell_type": "markdown",
      "metadata": {
        "id": "gZFqs9R3ZgOu"
      },
      "source": [
        "#### Question 16 : Table dispo_alim\n",
        "La table appelée dispo_alim contient pour chaque pays, pour chaque produit, sur l'année 2013, les informations suivantes:\n",
        "- la nature du produit (deux valeurs possibles“animal” ou “végétal”)\n",
        "- disponibilité alimentaire en tonnes\n",
        "- disponibilité alimentaire en Kcal/personne/jour\n",
        "- disponibilité alimentaire de protéines en g/personne/jour\n",
        "- disponibilité alimentaire de matières grasses en g/personne/jour\n",
        "La table contient ces colonnes : pays, code_pays, année, produit, code_produit, origin, dispo_alim_tonnes, dispo_alim_kcal_p_j, dispo_prot, dispo_mat_gr .\n",
        "Définir une clé primaire pertinente pour la table dispo_alim. Intégrer la table dans la base de données relationnelle."
      ]
    },
    {
      "cell_type": "code",
      "execution_count": null,
      "metadata": {
        "id": "zaQT09kIZk2y"
      },
      "outputs": [],
      "source": []
    },
    {
      "cell_type": "markdown",
      "metadata": {
        "id": "v6zLu0GVZbxU"
      },
      "source": [
        "#### Question 17 : Table equilibre_prod\n",
        "La table appelée equilibre_prod contient pour chaque pays, pour chaque produit, et pour l'année disponible 2013, les quantités suivantes :\n",
        "- disponibilité intérieure\n",
        "- aliments pour animaux\n",
        "- semences\n",
        "- pertes\n",
        "- transformés\n",
        "- nourriture\n",
        "- autres utilisations\n",
        "Elle contient ces colonnes : pays, code_pays, année, produit, code_produit, dispo_int, alim_ani, semences, pertes, transfo, nourriture, autres_utilisations.\n",
        "Définir une clé primaire pertinente pour la table equilibre_prod. Intégrer la table dans la base de données relationnelle."
      ]
    },
    {
      "cell_type": "code",
      "execution_count": null,
      "metadata": {
        "id": "ugM0Q_l7ZjxR"
      },
      "outputs": [],
      "source": []
    },
    {
      "cell_type": "markdown",
      "metadata": {
        "id": "SKindtOJZYXY"
      },
      "source": [
        "#### Question 18 : Table sous_nutrition\n",
        "La table appelée sous_nutrition, contient le nombre de personnes en sous-alimentation pour chaque pays et pour chaque année. Elle contient 4 colonnes : pays, code_pays, année, nb_personnes.\n",
        "Définir une clé primaire pertinente pour la table sous_nutrition. Intégrer la table dans la base de données relationnelle."
      ]
    },
    {
      "cell_type": "code",
      "execution_count": null,
      "metadata": {
        "id": "HUcuhgklZVbX"
      },
      "outputs": [],
      "source": []
    },
    {
      "cell_type": "markdown",
      "metadata": {
        "id": "_lHWO4wTZWHY"
      },
      "source": [
        "#### Question 19 : Requêtes SQL\n",
        "Formuler les requêtes SQL pour répondre aux questions suivantes :\n",
        "    • Quels sont les 10 pays ayant le plus haut ratio disponibilité alimentaire/habitant en termes de protéines (en kg) par habitant, puis en termes de kcal par habitant ?\n",
        "    • Quels sont les 10 pays ayant le plus faible ratio disponibilité alimentaire/habitant en termes de protéines (en kg) par habitant ?\n",
        "    • Quelle est la quantité totale (en kg) de produits perdus par pays?\n",
        "    • Quels sont les 10 pays pour lesquels la proportion de personnes sous-alimentées est la plus forte ?\n",
        "    • Quels sont les 10 produits pour lesquels le ratio Autres utilisations/Disponibilité intérieure est le plus élevé ?"
      ]
    },
    {
      "cell_type": "code",
      "execution_count": null,
      "metadata": {
        "id": "61BOSvDUZips"
      },
      "outputs": [],
      "source": []
    },
    {
      "cell_type": "markdown",
      "metadata": {
        "id": "sYtYZ_uvZK9r"
      },
      "source": [
        "#### Question 20 : Autres utilisations des produits\n",
        "Pour quelques-uns des produits identifiés dans cette dernière requête SQL, supposez quelles sont ces \"autres utilisations\" possibles (recherchez sur internet !)."
      ]
    },
    {
      "cell_type": "code",
      "execution_count": null,
      "metadata": {
        "id": "LCJ3PxDhZjG-"
      },
      "outputs": [],
      "source": []
    },
    {
      "cell_type": "markdown",
      "metadata": {
        "id": "4oVN2zheD-A_"
      },
      "source": [
        "### 4 - Analyses complémentaire"
      ]
    },
    {
      "cell_type": "markdown",
      "metadata": {
        "id": "igoMHlNrEBYZ"
      },
      "source": [
        "Fort de votre expérience de Data Analyst, il s’agit maintenant de réaliser vos propres analyses et exploration."
      ]
    }
  ],
  "metadata": {
    "colab": {
      "provenance": [],
      "toc_visible": true
    },
    "kernelspec": {
      "display_name": "Python 3",
      "name": "python3"
    },
    "language_info": {
      "codemirror_mode": {
        "name": "ipython",
        "version": 3
      },
      "file_extension": ".py",
      "mimetype": "text/x-python",
      "name": "python",
      "nbconvert_exporter": "python",
      "pygments_lexer": "ipython3",
      "version": "3.10.13"
    }
  },
  "nbformat": 4,
  "nbformat_minor": 0
}
