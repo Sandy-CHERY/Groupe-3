{
  "cells": [
    {
      "cell_type": "markdown",
      "metadata": {
        "id": "dDYnD_yh-skJ"
      },
      "source": [
        "# Data Analyst au sein de la FAO"
      ]
    },
    {
      "cell_type": "markdown",
      "metadata": {
        "id": "Bhgi21K2-nFa"
      },
      "source": [
        "lien du brief : https://simplonline.co/briefs/688fc302-e4d4-4324-8904-f22316c31713\n",
        "\n"
      ]
    },
    {
      "cell_type": "markdown",
      "metadata": {
        "id": "31doXc7fFxKl"
      },
      "source": [
        "lien du dossier git : https://github.com/data-IA-2023/Groupe-3\n"
      ]
    },
    {
      "cell_type": "markdown",
      "metadata": {
        "id": "8mrHC_I5-ykk"
      },
      "source": [
        "Vous venez d'intégrer la FAO (Food and Agriculture Organization of the United Nations). BRAVO !!!!!!\n",
        "Vous allez mener votre première mission en analysant les données mondiales de production agricole, d'alimentation et de nutrition."
      ]
    },
    {
      "cell_type": "markdown",
      "metadata": {
        "id": "FUVcknHlAIC_"
      },
      "source": [
        "**Livrables**\n",
        "\n",
        "* Un dépôt Github\n",
        "* Un notebook **fonctionnel, documenté et commenté**\n",
        "* Une présentation écrite et orale résumant vos travaux, votre analyse et vos recommandations"
      ]
    },
    {
      "cell_type": "markdown",
      "metadata": {
        "id": "fcBxpeFXAkMg"
      },
      "source": [
        "**Contexte du projet**\n",
        "\n",
        "* Au sein du service Data Analytics and Prospective de la FAO, vous êtes en charge d'analyser les données produites par les Nations Unies.\n",
        "\n",
        "* Ces analyses conduisent à des rapports de synthèse à destination des décideurs.\n",
        "\n",
        "* Pour êtes également en charge de la partie Prospective, c'est à dire donner des tendances et des évolutions probables quant à la production agricole, à l'alimentation et la nutrition mondiales.\n"
      ]
    },
    {
      "cell_type": "markdown",
      "metadata": {
        "id": "wICIZAqLAonV"
      },
      "source": [
        "**Ressource(s)**\n",
        "\n",
        "FAO - Wikipedia : https://fr.wikipedia.org/wiki/Organisation_des_Nations_unies_pour_l'alimentation_et_l'agriculture\n",
        "\n",
        "FAOSTAT : https://www.fao.org/faostat/fr/#home\n",
        "\n",
        "Les données FAO 2013 : https://github.com/remijul/dataset/tree/master/fao_2013"
      ]
    },
    {
      "cell_type": "markdown",
      "metadata": {
        "id": "Bk2Uuk0nBbJ6"
      },
      "source": [
        "## Partie extraction des données"
      ]
    },
    {
      "cell_type": "code",
      "execution_count": 5,
      "metadata": {
        "colab": {
          "base_uri": "https://localhost:8080/",
          "height": 745
        },
        "id": "CaGmP6DLd0Qs",
        "outputId": "8b8c7a7e-0977-4ec3-a142-b7061e394bf2"
      },
      "outputs": [
        {
          "data": {
            "text/html": [
              "<div>\n",
              "<style scoped>\n",
              "    .dataframe tbody tr th:only-of-type {\n",
              "        vertical-align: middle;\n",
              "    }\n",
              "\n",
              "    .dataframe tbody tr th {\n",
              "        vertical-align: top;\n",
              "    }\n",
              "\n",
              "    .dataframe thead th {\n",
              "        text-align: right;\n",
              "    }\n",
              "</style>\n",
              "<table border=\"1\" class=\"dataframe\">\n",
              "  <thead>\n",
              "    <tr style=\"text-align: right;\">\n",
              "      <th></th>\n",
              "      <th>Code Domaine</th>\n",
              "      <th>Domaine</th>\n",
              "      <th>Code Pays</th>\n",
              "      <th>Pays</th>\n",
              "      <th>Code Élément</th>\n",
              "      <th>Élément</th>\n",
              "      <th>Code Produit</th>\n",
              "      <th>Produit</th>\n",
              "      <th>Code Année</th>\n",
              "      <th>Année</th>\n",
              "      <th>Unité</th>\n",
              "      <th>Valeur</th>\n",
              "      <th>Symbole</th>\n",
              "      <th>Description du Symbole</th>\n",
              "    </tr>\n",
              "  </thead>\n",
              "  <tbody>\n",
              "    <tr>\n",
              "      <th>0</th>\n",
              "      <td>FBS</td>\n",
              "      <td>Bilans Alimentaires</td>\n",
              "      <td>2</td>\n",
              "      <td>Afghanistan</td>\n",
              "      <td>5511</td>\n",
              "      <td>Production</td>\n",
              "      <td>2731</td>\n",
              "      <td>Viande de Bovins</td>\n",
              "      <td>2013</td>\n",
              "      <td>2013</td>\n",
              "      <td>Milliers de tonnes</td>\n",
              "      <td>134.00</td>\n",
              "      <td>S</td>\n",
              "      <td>Données standardisées</td>\n",
              "    </tr>\n",
              "    <tr>\n",
              "      <th>1</th>\n",
              "      <td>FBS</td>\n",
              "      <td>Bilans Alimentaires</td>\n",
              "      <td>2</td>\n",
              "      <td>Afghanistan</td>\n",
              "      <td>5611</td>\n",
              "      <td>Importations - Quantité</td>\n",
              "      <td>2731</td>\n",
              "      <td>Viande de Bovins</td>\n",
              "      <td>2013</td>\n",
              "      <td>2013</td>\n",
              "      <td>Milliers de tonnes</td>\n",
              "      <td>6.00</td>\n",
              "      <td>S</td>\n",
              "      <td>Données standardisées</td>\n",
              "    </tr>\n",
              "    <tr>\n",
              "      <th>2</th>\n",
              "      <td>FBS</td>\n",
              "      <td>Bilans Alimentaires</td>\n",
              "      <td>2</td>\n",
              "      <td>Afghanistan</td>\n",
              "      <td>5301</td>\n",
              "      <td>Disponibilité intérieure</td>\n",
              "      <td>2731</td>\n",
              "      <td>Viande de Bovins</td>\n",
              "      <td>2013</td>\n",
              "      <td>2013</td>\n",
              "      <td>Milliers de tonnes</td>\n",
              "      <td>140.00</td>\n",
              "      <td>S</td>\n",
              "      <td>Données standardisées</td>\n",
              "    </tr>\n",
              "    <tr>\n",
              "      <th>3</th>\n",
              "      <td>FBS</td>\n",
              "      <td>Bilans Alimentaires</td>\n",
              "      <td>2</td>\n",
              "      <td>Afghanistan</td>\n",
              "      <td>5142</td>\n",
              "      <td>Nourriture</td>\n",
              "      <td>2731</td>\n",
              "      <td>Viande de Bovins</td>\n",
              "      <td>2013</td>\n",
              "      <td>2013</td>\n",
              "      <td>Milliers de tonnes</td>\n",
              "      <td>140.00</td>\n",
              "      <td>S</td>\n",
              "      <td>Données standardisées</td>\n",
              "    </tr>\n",
              "    <tr>\n",
              "      <th>4</th>\n",
              "      <td>FBS</td>\n",
              "      <td>Bilans Alimentaires</td>\n",
              "      <td>2</td>\n",
              "      <td>Afghanistan</td>\n",
              "      <td>645</td>\n",
              "      <td>Disponibilité alimentaire en quantité (kg/pers...</td>\n",
              "      <td>2731</td>\n",
              "      <td>Viande de Bovins</td>\n",
              "      <td>2013</td>\n",
              "      <td>2013</td>\n",
              "      <td>kg</td>\n",
              "      <td>4.59</td>\n",
              "      <td>Fc</td>\n",
              "      <td>Donnée calculée</td>\n",
              "    </tr>\n",
              "    <tr>\n",
              "      <th>...</th>\n",
              "      <td>...</td>\n",
              "      <td>...</td>\n",
              "      <td>...</td>\n",
              "      <td>...</td>\n",
              "      <td>...</td>\n",
              "      <td>...</td>\n",
              "      <td>...</td>\n",
              "      <td>...</td>\n",
              "      <td>...</td>\n",
              "      <td>...</td>\n",
              "      <td>...</td>\n",
              "      <td>...</td>\n",
              "      <td>...</td>\n",
              "      <td>...</td>\n",
              "    </tr>\n",
              "    <tr>\n",
              "      <th>37161</th>\n",
              "      <td>FBS</td>\n",
              "      <td>Bilans Alimentaires</td>\n",
              "      <td>351</td>\n",
              "      <td>Chine</td>\n",
              "      <td>5142</td>\n",
              "      <td>Nourriture</td>\n",
              "      <td>2775</td>\n",
              "      <td>Plantes Aquatiques</td>\n",
              "      <td>2013</td>\n",
              "      <td>2013</td>\n",
              "      <td>Milliers de tonnes</td>\n",
              "      <td>13086.00</td>\n",
              "      <td>A</td>\n",
              "      <td>Agrégat, peut inclure des données officielles,...</td>\n",
              "    </tr>\n",
              "    <tr>\n",
              "      <th>37162</th>\n",
              "      <td>FBS</td>\n",
              "      <td>Bilans Alimentaires</td>\n",
              "      <td>351</td>\n",
              "      <td>Chine</td>\n",
              "      <td>645</td>\n",
              "      <td>Disponibilité alimentaire en quantité (kg/pers...</td>\n",
              "      <td>2775</td>\n",
              "      <td>Plantes Aquatiques</td>\n",
              "      <td>2013</td>\n",
              "      <td>2013</td>\n",
              "      <td>kg</td>\n",
              "      <td>9.24</td>\n",
              "      <td>Fc</td>\n",
              "      <td>Donnée calculée</td>\n",
              "    </tr>\n",
              "    <tr>\n",
              "      <th>37163</th>\n",
              "      <td>FBS</td>\n",
              "      <td>Bilans Alimentaires</td>\n",
              "      <td>351</td>\n",
              "      <td>Chine</td>\n",
              "      <td>664</td>\n",
              "      <td>Disponibilité alimentaire (Kcal/personne/jour)</td>\n",
              "      <td>2775</td>\n",
              "      <td>Plantes Aquatiques</td>\n",
              "      <td>2013</td>\n",
              "      <td>2013</td>\n",
              "      <td>Kcal/personne/jour</td>\n",
              "      <td>9.00</td>\n",
              "      <td>Fc</td>\n",
              "      <td>Donnée calculée</td>\n",
              "    </tr>\n",
              "    <tr>\n",
              "      <th>37164</th>\n",
              "      <td>FBS</td>\n",
              "      <td>Bilans Alimentaires</td>\n",
              "      <td>351</td>\n",
              "      <td>Chine</td>\n",
              "      <td>674</td>\n",
              "      <td>Disponibilité de protéines en quantité (g/pers...</td>\n",
              "      <td>2775</td>\n",
              "      <td>Plantes Aquatiques</td>\n",
              "      <td>2013</td>\n",
              "      <td>2013</td>\n",
              "      <td>g/personne/jour</td>\n",
              "      <td>0.69</td>\n",
              "      <td>Fc</td>\n",
              "      <td>Donnée calculée</td>\n",
              "    </tr>\n",
              "    <tr>\n",
              "      <th>37165</th>\n",
              "      <td>FBS</td>\n",
              "      <td>Bilans Alimentaires</td>\n",
              "      <td>351</td>\n",
              "      <td>Chine</td>\n",
              "      <td>684</td>\n",
              "      <td>Disponibilité de matière grasse en quantité (g...</td>\n",
              "      <td>2775</td>\n",
              "      <td>Plantes Aquatiques</td>\n",
              "      <td>2013</td>\n",
              "      <td>2013</td>\n",
              "      <td>g/personne/jour</td>\n",
              "      <td>0.04</td>\n",
              "      <td>Fc</td>\n",
              "      <td>Donnée calculée</td>\n",
              "    </tr>\n",
              "  </tbody>\n",
              "</table>\n",
              "<p>37166 rows × 14 columns</p>\n",
              "</div>"
            ],
            "text/plain": [
              "      Code Domaine              Domaine  Code Pays         Pays  Code Élément  \\\n",
              "0              FBS  Bilans Alimentaires          2  Afghanistan          5511   \n",
              "1              FBS  Bilans Alimentaires          2  Afghanistan          5611   \n",
              "2              FBS  Bilans Alimentaires          2  Afghanistan          5301   \n",
              "3              FBS  Bilans Alimentaires          2  Afghanistan          5142   \n",
              "4              FBS  Bilans Alimentaires          2  Afghanistan           645   \n",
              "...            ...                  ...        ...          ...           ...   \n",
              "37161          FBS  Bilans Alimentaires        351        Chine          5142   \n",
              "37162          FBS  Bilans Alimentaires        351        Chine           645   \n",
              "37163          FBS  Bilans Alimentaires        351        Chine           664   \n",
              "37164          FBS  Bilans Alimentaires        351        Chine           674   \n",
              "37165          FBS  Bilans Alimentaires        351        Chine           684   \n",
              "\n",
              "                                                 Élément  Code Produit  \\\n",
              "0                                             Production          2731   \n",
              "1                                Importations - Quantité          2731   \n",
              "2                               Disponibilité intérieure          2731   \n",
              "3                                             Nourriture          2731   \n",
              "4      Disponibilité alimentaire en quantité (kg/pers...          2731   \n",
              "...                                                  ...           ...   \n",
              "37161                                         Nourriture          2775   \n",
              "37162  Disponibilité alimentaire en quantité (kg/pers...          2775   \n",
              "37163     Disponibilité alimentaire (Kcal/personne/jour)          2775   \n",
              "37164  Disponibilité de protéines en quantité (g/pers...          2775   \n",
              "37165  Disponibilité de matière grasse en quantité (g...          2775   \n",
              "\n",
              "                  Produit  Code Année  Année               Unité    Valeur  \\\n",
              "0        Viande de Bovins        2013   2013  Milliers de tonnes    134.00   \n",
              "1        Viande de Bovins        2013   2013  Milliers de tonnes      6.00   \n",
              "2        Viande de Bovins        2013   2013  Milliers de tonnes    140.00   \n",
              "3        Viande de Bovins        2013   2013  Milliers de tonnes    140.00   \n",
              "4        Viande de Bovins        2013   2013                  kg      4.59   \n",
              "...                   ...         ...    ...                 ...       ...   \n",
              "37161  Plantes Aquatiques        2013   2013  Milliers de tonnes  13086.00   \n",
              "37162  Plantes Aquatiques        2013   2013                  kg      9.24   \n",
              "37163  Plantes Aquatiques        2013   2013  Kcal/personne/jour      9.00   \n",
              "37164  Plantes Aquatiques        2013   2013     g/personne/jour      0.69   \n",
              "37165  Plantes Aquatiques        2013   2013     g/personne/jour      0.04   \n",
              "\n",
              "      Symbole                             Description du Symbole  \n",
              "0           S                              Données standardisées  \n",
              "1           S                              Données standardisées  \n",
              "2           S                              Données standardisées  \n",
              "3           S                              Données standardisées  \n",
              "4          Fc                                    Donnée calculée  \n",
              "...       ...                                                ...  \n",
              "37161       A  Agrégat, peut inclure des données officielles,...  \n",
              "37162      Fc                                    Donnée calculée  \n",
              "37163      Fc                                    Donnée calculée  \n",
              "37164      Fc                                    Donnée calculée  \n",
              "37165      Fc                                    Donnée calculée  \n",
              "\n",
              "[37166 rows x 14 columns]"
            ]
          },
          "execution_count": 5,
          "metadata": {},
          "output_type": "execute_result"
        }
      ],
      "source": [
        "import pandas as pd\n",
        "import numpy as np\n",
        "\n",
        "chemein_fichier = \"https://raw.githubusercontent.com/remijul/dataset/master/fao_2013/FAOSTAT_2013_animal.csv\"\n",
        "\n",
        "df = pd.read_csv(chemein_fichier, sep=',',on_bad_lines='skip')\n",
        "df"
      ]
    },
    {
      "cell_type": "code",
      "execution_count": 1,
      "metadata": {
        "colab": {
          "base_uri": "https://localhost:8080/",
          "height": 843
        },
        "id": "RuUCQCiXVblU",
        "outputId": "07eea495-765b-41e2-a624-47a9a1ba01cb"
      },
      "outputs": [
        {
          "data": {
            "text/html": [
              "<div>\n",
              "<style scoped>\n",
              "    .dataframe tbody tr th:only-of-type {\n",
              "        vertical-align: middle;\n",
              "    }\n",
              "\n",
              "    .dataframe tbody tr th {\n",
              "        vertical-align: top;\n",
              "    }\n",
              "\n",
              "    .dataframe thead th {\n",
              "        text-align: right;\n",
              "    }\n",
              "</style>\n",
              "<table border=\"1\" class=\"dataframe\">\n",
              "  <thead>\n",
              "    <tr style=\"text-align: right;\">\n",
              "      <th></th>\n",
              "      <th>Code Domaine</th>\n",
              "      <th>Domaine</th>\n",
              "      <th>Code Pays</th>\n",
              "      <th>Pays</th>\n",
              "      <th>Code Élément</th>\n",
              "      <th>Élément</th>\n",
              "      <th>Code Produit</th>\n",
              "      <th>Produit</th>\n",
              "      <th>Code Année</th>\n",
              "      <th>Année</th>\n",
              "      <th>Unité</th>\n",
              "      <th>Valeur</th>\n",
              "      <th>Symbole</th>\n",
              "      <th>Description du Symbole</th>\n",
              "    </tr>\n",
              "  </thead>\n",
              "  <tbody>\n",
              "    <tr>\n",
              "      <th>0</th>\n",
              "      <td>FBS</td>\n",
              "      <td>Bilans Alimentaires</td>\n",
              "      <td>2</td>\n",
              "      <td>Afghanistan</td>\n",
              "      <td>5511</td>\n",
              "      <td>Production</td>\n",
              "      <td>2731</td>\n",
              "      <td>Viande de Bovins</td>\n",
              "      <td>2013</td>\n",
              "      <td>2013</td>\n",
              "      <td>Milliers de tonnes</td>\n",
              "      <td>134.00</td>\n",
              "      <td>S</td>\n",
              "      <td>Données standardisées</td>\n",
              "    </tr>\n",
              "    <tr>\n",
              "      <th>1</th>\n",
              "      <td>FBS</td>\n",
              "      <td>Bilans Alimentaires</td>\n",
              "      <td>2</td>\n",
              "      <td>Afghanistan</td>\n",
              "      <td>5611</td>\n",
              "      <td>Importations - Quantité</td>\n",
              "      <td>2731</td>\n",
              "      <td>Viande de Bovins</td>\n",
              "      <td>2013</td>\n",
              "      <td>2013</td>\n",
              "      <td>Milliers de tonnes</td>\n",
              "      <td>6.00</td>\n",
              "      <td>S</td>\n",
              "      <td>Données standardisées</td>\n",
              "    </tr>\n",
              "    <tr>\n",
              "      <th>2</th>\n",
              "      <td>FBS</td>\n",
              "      <td>Bilans Alimentaires</td>\n",
              "      <td>2</td>\n",
              "      <td>Afghanistan</td>\n",
              "      <td>5301</td>\n",
              "      <td>Disponibilité intérieure</td>\n",
              "      <td>2731</td>\n",
              "      <td>Viande de Bovins</td>\n",
              "      <td>2013</td>\n",
              "      <td>2013</td>\n",
              "      <td>Milliers de tonnes</td>\n",
              "      <td>140.00</td>\n",
              "      <td>S</td>\n",
              "      <td>Données standardisées</td>\n",
              "    </tr>\n",
              "    <tr>\n",
              "      <th>3</th>\n",
              "      <td>FBS</td>\n",
              "      <td>Bilans Alimentaires</td>\n",
              "      <td>2</td>\n",
              "      <td>Afghanistan</td>\n",
              "      <td>5142</td>\n",
              "      <td>Nourriture</td>\n",
              "      <td>2731</td>\n",
              "      <td>Viande de Bovins</td>\n",
              "      <td>2013</td>\n",
              "      <td>2013</td>\n",
              "      <td>Milliers de tonnes</td>\n",
              "      <td>140.00</td>\n",
              "      <td>S</td>\n",
              "      <td>Données standardisées</td>\n",
              "    </tr>\n",
              "    <tr>\n",
              "      <th>4</th>\n",
              "      <td>FBS</td>\n",
              "      <td>Bilans Alimentaires</td>\n",
              "      <td>2</td>\n",
              "      <td>Afghanistan</td>\n",
              "      <td>645</td>\n",
              "      <td>Disponibilité alimentaire en quantité (kg/pers...</td>\n",
              "      <td>2731</td>\n",
              "      <td>Viande de Bovins</td>\n",
              "      <td>2013</td>\n",
              "      <td>2013</td>\n",
              "      <td>kg</td>\n",
              "      <td>4.59</td>\n",
              "      <td>Fc</td>\n",
              "      <td>Donnée calculée</td>\n",
              "    </tr>\n",
              "    <tr>\n",
              "      <th>...</th>\n",
              "      <td>...</td>\n",
              "      <td>...</td>\n",
              "      <td>...</td>\n",
              "      <td>...</td>\n",
              "      <td>...</td>\n",
              "      <td>...</td>\n",
              "      <td>...</td>\n",
              "      <td>...</td>\n",
              "      <td>...</td>\n",
              "      <td>...</td>\n",
              "      <td>...</td>\n",
              "      <td>...</td>\n",
              "      <td>...</td>\n",
              "      <td>...</td>\n",
              "    </tr>\n",
              "    <tr>\n",
              "      <th>37161</th>\n",
              "      <td>FBS</td>\n",
              "      <td>Bilans Alimentaires</td>\n",
              "      <td>351</td>\n",
              "      <td>Chine</td>\n",
              "      <td>5142</td>\n",
              "      <td>Nourriture</td>\n",
              "      <td>2775</td>\n",
              "      <td>Plantes Aquatiques</td>\n",
              "      <td>2013</td>\n",
              "      <td>2013</td>\n",
              "      <td>Milliers de tonnes</td>\n",
              "      <td>13086.00</td>\n",
              "      <td>A</td>\n",
              "      <td>Agrégat, peut inclure des données officielles,...</td>\n",
              "    </tr>\n",
              "    <tr>\n",
              "      <th>37162</th>\n",
              "      <td>FBS</td>\n",
              "      <td>Bilans Alimentaires</td>\n",
              "      <td>351</td>\n",
              "      <td>Chine</td>\n",
              "      <td>645</td>\n",
              "      <td>Disponibilité alimentaire en quantité (kg/pers...</td>\n",
              "      <td>2775</td>\n",
              "      <td>Plantes Aquatiques</td>\n",
              "      <td>2013</td>\n",
              "      <td>2013</td>\n",
              "      <td>kg</td>\n",
              "      <td>9.24</td>\n",
              "      <td>Fc</td>\n",
              "      <td>Donnée calculée</td>\n",
              "    </tr>\n",
              "    <tr>\n",
              "      <th>37163</th>\n",
              "      <td>FBS</td>\n",
              "      <td>Bilans Alimentaires</td>\n",
              "      <td>351</td>\n",
              "      <td>Chine</td>\n",
              "      <td>664</td>\n",
              "      <td>Disponibilité alimentaire (Kcal/personne/jour)</td>\n",
              "      <td>2775</td>\n",
              "      <td>Plantes Aquatiques</td>\n",
              "      <td>2013</td>\n",
              "      <td>2013</td>\n",
              "      <td>Kcal/personne/jour</td>\n",
              "      <td>9.00</td>\n",
              "      <td>Fc</td>\n",
              "      <td>Donnée calculée</td>\n",
              "    </tr>\n",
              "    <tr>\n",
              "      <th>37164</th>\n",
              "      <td>FBS</td>\n",
              "      <td>Bilans Alimentaires</td>\n",
              "      <td>351</td>\n",
              "      <td>Chine</td>\n",
              "      <td>674</td>\n",
              "      <td>Disponibilité de protéines en quantité (g/pers...</td>\n",
              "      <td>2775</td>\n",
              "      <td>Plantes Aquatiques</td>\n",
              "      <td>2013</td>\n",
              "      <td>2013</td>\n",
              "      <td>g/personne/jour</td>\n",
              "      <td>0.69</td>\n",
              "      <td>Fc</td>\n",
              "      <td>Donnée calculée</td>\n",
              "    </tr>\n",
              "    <tr>\n",
              "      <th>37165</th>\n",
              "      <td>FBS</td>\n",
              "      <td>Bilans Alimentaires</td>\n",
              "      <td>351</td>\n",
              "      <td>Chine</td>\n",
              "      <td>684</td>\n",
              "      <td>Disponibilité de matière grasse en quantité (g...</td>\n",
              "      <td>2775</td>\n",
              "      <td>Plantes Aquatiques</td>\n",
              "      <td>2013</td>\n",
              "      <td>2013</td>\n",
              "      <td>g/personne/jour</td>\n",
              "      <td>0.04</td>\n",
              "      <td>Fc</td>\n",
              "      <td>Donnée calculée</td>\n",
              "    </tr>\n",
              "  </tbody>\n",
              "</table>\n",
              "<p>37166 rows × 14 columns</p>\n",
              "</div>"
            ],
            "text/plain": [
              "      Code Domaine              Domaine  Code Pays         Pays  Code Élément  \\\n",
              "0              FBS  Bilans Alimentaires          2  Afghanistan          5511   \n",
              "1              FBS  Bilans Alimentaires          2  Afghanistan          5611   \n",
              "2              FBS  Bilans Alimentaires          2  Afghanistan          5301   \n",
              "3              FBS  Bilans Alimentaires          2  Afghanistan          5142   \n",
              "4              FBS  Bilans Alimentaires          2  Afghanistan           645   \n",
              "...            ...                  ...        ...          ...           ...   \n",
              "37161          FBS  Bilans Alimentaires        351        Chine          5142   \n",
              "37162          FBS  Bilans Alimentaires        351        Chine           645   \n",
              "37163          FBS  Bilans Alimentaires        351        Chine           664   \n",
              "37164          FBS  Bilans Alimentaires        351        Chine           674   \n",
              "37165          FBS  Bilans Alimentaires        351        Chine           684   \n",
              "\n",
              "                                                 Élément  Code Produit  \\\n",
              "0                                             Production          2731   \n",
              "1                                Importations - Quantité          2731   \n",
              "2                               Disponibilité intérieure          2731   \n",
              "3                                             Nourriture          2731   \n",
              "4      Disponibilité alimentaire en quantité (kg/pers...          2731   \n",
              "...                                                  ...           ...   \n",
              "37161                                         Nourriture          2775   \n",
              "37162  Disponibilité alimentaire en quantité (kg/pers...          2775   \n",
              "37163     Disponibilité alimentaire (Kcal/personne/jour)          2775   \n",
              "37164  Disponibilité de protéines en quantité (g/pers...          2775   \n",
              "37165  Disponibilité de matière grasse en quantité (g...          2775   \n",
              "\n",
              "                  Produit  Code Année  Année               Unité    Valeur  \\\n",
              "0        Viande de Bovins        2013   2013  Milliers de tonnes    134.00   \n",
              "1        Viande de Bovins        2013   2013  Milliers de tonnes      6.00   \n",
              "2        Viande de Bovins        2013   2013  Milliers de tonnes    140.00   \n",
              "3        Viande de Bovins        2013   2013  Milliers de tonnes    140.00   \n",
              "4        Viande de Bovins        2013   2013                  kg      4.59   \n",
              "...                   ...         ...    ...                 ...       ...   \n",
              "37161  Plantes Aquatiques        2013   2013  Milliers de tonnes  13086.00   \n",
              "37162  Plantes Aquatiques        2013   2013                  kg      9.24   \n",
              "37163  Plantes Aquatiques        2013   2013  Kcal/personne/jour      9.00   \n",
              "37164  Plantes Aquatiques        2013   2013     g/personne/jour      0.69   \n",
              "37165  Plantes Aquatiques        2013   2013     g/personne/jour      0.04   \n",
              "\n",
              "      Symbole                             Description du Symbole  \n",
              "0           S                              Données standardisées  \n",
              "1           S                              Données standardisées  \n",
              "2           S                              Données standardisées  \n",
              "3           S                              Données standardisées  \n",
              "4          Fc                                    Donnée calculée  \n",
              "...       ...                                                ...  \n",
              "37161       A  Agrégat, peut inclure des données officielles,...  \n",
              "37162      Fc                                    Donnée calculée  \n",
              "37163      Fc                                    Donnée calculée  \n",
              "37164      Fc                                    Donnée calculée  \n",
              "37165      Fc                                    Donnée calculée  \n",
              "\n",
              "[37166 rows x 14 columns]"
            ]
          },
          "execution_count": 1,
          "metadata": {},
          "output_type": "execute_result"
        }
      ],
      "source": [
        "import pandas as pd\n",
        "import numpy as np\n",
        "\n",
        "chemein_fichier = \"https://raw.githubusercontent.com/data-IA-2023/Groupe-3/4f55cd09493101a19266be06eb08fe1770ece8de/fao_2013/FAOSTAT_2013_animal.csv\"\n",
        "\n",
        "df = pd.read_csv(chemein_fichier, sep=',',on_bad_lines='skip')\n",
        "df"
      ]
    },
    {
      "cell_type": "markdown",
      "metadata": {
        "id": "wP4Y2HP5BjEn"
      },
      "source": [
        "## Partie netoyage des données"
      ]
    },
    {
      "cell_type": "code",
      "execution_count": null,
      "metadata": {
        "id": "Pq_LrpqdByVc"
      },
      "outputs": [],
      "source": []
    },
    {
      "cell_type": "code",
      "execution_count": null,
      "metadata": {
        "id": "Ls8QWkncAwzo"
      },
      "outputs": [],
      "source": []
    },
    {
      "cell_type": "markdown",
      "metadata": {
        "id": "WXU-1nrKBtDC"
      },
      "source": [
        "## Partie traitement des données"
      ]
    },
    {
      "cell_type": "markdown",
      "metadata": {
        "id": "1Lf3QTuICiKd"
      },
      "source": [
        "### 1 - Analyses descriptives et exploratoire des données"
      ]
    },
    {
      "cell_type": "markdown",
      "metadata": {
        "id": "5BJWz1boDY5t"
      },
      "source": [
        "Il s’agit ici de réaliser des analyses descriptives statistiques et graphiques sur les différentes variables des jeux de données :\n",
        "\n",
        "    • Analyses univariées\n",
        "    • Analyses bi-variées\n",
        "    • Analyses multi-variées\n",
        "\n",
        "Réaliser également des analyses exploratoires sur les différentes variables"
      ]
    },
    {
      "cell_type": "markdown",
      "metadata": {
        "id": "oela_0itDYJH"
      },
      "source": [
        "Il s’agit ici de réaliser des analyses descriptives statistiques et graphiques sur les différentes variables des jeux de données :\n",
        "    • Analyses univariées\n",
        "    • Analyses bi-variées\n",
        "    • Analyses multi-variées\n",
        "Réaliser également des analyses exploratoires sur les différentes variables"
      ]
    },
    {
      "cell_type": "code",
      "execution_count": 2,
      "metadata": {
        "id": "NniaH68-Zn3w"
      },
      "outputs": [
        {
          "name": "stdout",
          "output_type": "stream",
          "text": [
            "48079960.0\n",
            "9413000.0\n",
            "0           54000\n",
            "1           65000\n",
            "2           72000\n",
            "3           90000\n",
            "4          102000\n",
            "          ...    \n",
            "170     249866000\n",
            "171     320051000\n",
            "172    1252140000\n",
            "173    1385567000\n",
            "174    1416667000\n",
            "Name: Value, Length: 175, dtype: int64\n"
          ]
        }
      ],
      "source": [
        "import pandas as pd\n",
        "import statistics as st\n",
        "import numpy as np\n",
        "chemein_fichier = \"fao_2013/FAOSTAT_2013_population.csv\"\n",
        "data = pd.read_csv(chemein_fichier, sep=',',on_bad_lines='skip')\n",
        "\n",
        "# Clean up the 'Year' column\n",
        "data['Year'] = pd.to_numeric(data['Year'], errors='coerce')\n",
        "\n",
        "# Clean up the 'Value' column\n",
        "data['Value'] = pd.to_numeric(data['Value'], errors='coerce')\n",
        "\n",
        "# Save the clean data to a new CSV file\n",
        "data.to_csv('clean_data.csv', index=False)\n",
        "\n",
        "df =pd.read_csv(\"clean_data.csv\", sep=',',on_bad_lines='skip')\n",
        "\n",
        "total_mean = df['Value'].mean()\n",
        "print(total_mean *1000)\n",
        "total_med = df['Value'].median()\n",
        "print(total_med*1000)\n",
        "total_m = df['Value'].mode()\n",
        "print(total_m*1000)\n",
        "\n",
        "\n",
        "\n",
        "\n"
      ]
    },
    {
      "cell_type": "markdown",
      "metadata": {
        "id": "1nt2-WIKCb1J"
      },
      "source": [
        "### 2 - Etude guidée n°1"
      ]
    },
    {
      "cell_type": "markdown",
      "metadata": {
        "id": "aaX0yzLvD6n9"
      },
      "source": [
        "Il s’agit ici de répondre à toutes les questions ci-dessous."
      ]
    },
    {
      "cell_type": "markdown",
      "metadata": {
        "id": "otDngoRdZ-OO"
      },
      "source": [
        "#### Question 1 : Nombre d'humains sur la planète\n",
        "Calculez le nombre total d’humains sur la planète.\n",
        "Critiquez votre résultat. En cas d’anomalie, analysez et effectuer les corrections nécessaires.\n",
        "Donnez le résultat de votre calcul pour l'année 2013."
      ]
    },
    {
      "cell_type": "code",
      "execution_count": 19,
      "metadata": {},
      "outputs": [
        {
          "data": {
            "text/html": [
              "<div>\n",
              "<style scoped>\n",
              "    .dataframe tbody tr th:only-of-type {\n",
              "        vertical-align: middle;\n",
              "    }\n",
              "\n",
              "    .dataframe tbody tr th {\n",
              "        vertical-align: top;\n",
              "    }\n",
              "\n",
              "    .dataframe thead th {\n",
              "        text-align: right;\n",
              "    }\n",
              "</style>\n",
              "<table border=\"1\" class=\"dataframe\">\n",
              "  <thead>\n",
              "    <tr style=\"text-align: right;\">\n",
              "      <th></th>\n",
              "      <th>Domain Code</th>\n",
              "      <th>Domain</th>\n",
              "      <th>Country</th>\n",
              "      <th>Element Code</th>\n",
              "      <th>Element</th>\n",
              "      <th>Item Code</th>\n",
              "      <th>Item</th>\n",
              "      <th>Year Code</th>\n",
              "      <th>Year</th>\n",
              "      <th>Unit</th>\n",
              "      <th>Value</th>\n",
              "      <th>Flag</th>\n",
              "      <th>Flag Description</th>\n",
              "    </tr>\n",
              "    <tr>\n",
              "      <th>Country Code</th>\n",
              "      <th></th>\n",
              "      <th></th>\n",
              "      <th></th>\n",
              "      <th></th>\n",
              "      <th></th>\n",
              "      <th></th>\n",
              "      <th></th>\n",
              "      <th></th>\n",
              "      <th></th>\n",
              "      <th></th>\n",
              "      <th></th>\n",
              "      <th></th>\n",
              "      <th></th>\n",
              "    </tr>\n",
              "  </thead>\n",
              "  <tbody>\n",
              "    <tr>\n",
              "      <th>2</th>\n",
              "      <td>FBS</td>\n",
              "      <td>Food Balance Sheets</td>\n",
              "      <td>Afghanistan</td>\n",
              "      <td>511</td>\n",
              "      <td>Total Population - Both sexes</td>\n",
              "      <td>2501</td>\n",
              "      <td>Population</td>\n",
              "      <td>2013</td>\n",
              "      <td>2013</td>\n",
              "      <td>1000 persons</td>\n",
              "      <td>30552</td>\n",
              "      <td>NaN</td>\n",
              "      <td>Official data</td>\n",
              "    </tr>\n",
              "    <tr>\n",
              "      <th>3</th>\n",
              "      <td>FBS</td>\n",
              "      <td>Food Balance Sheets</td>\n",
              "      <td>Albania</td>\n",
              "      <td>511</td>\n",
              "      <td>Total Population - Both sexes</td>\n",
              "      <td>2501</td>\n",
              "      <td>Population</td>\n",
              "      <td>2013</td>\n",
              "      <td>2013</td>\n",
              "      <td>1000 persons</td>\n",
              "      <td>3173</td>\n",
              "      <td>NaN</td>\n",
              "      <td>Official data</td>\n",
              "    </tr>\n",
              "    <tr>\n",
              "      <th>4</th>\n",
              "      <td>FBS</td>\n",
              "      <td>Food Balance Sheets</td>\n",
              "      <td>Algeria</td>\n",
              "      <td>511</td>\n",
              "      <td>Total Population - Both sexes</td>\n",
              "      <td>2501</td>\n",
              "      <td>Population</td>\n",
              "      <td>2013</td>\n",
              "      <td>2013</td>\n",
              "      <td>1000 persons</td>\n",
              "      <td>39208</td>\n",
              "      <td>NaN</td>\n",
              "      <td>Official data</td>\n",
              "    </tr>\n",
              "    <tr>\n",
              "      <th>7</th>\n",
              "      <td>FBS</td>\n",
              "      <td>Food Balance Sheets</td>\n",
              "      <td>Angola</td>\n",
              "      <td>511</td>\n",
              "      <td>Total Population - Both sexes</td>\n",
              "      <td>2501</td>\n",
              "      <td>Population</td>\n",
              "      <td>2013</td>\n",
              "      <td>2013</td>\n",
              "      <td>1000 persons</td>\n",
              "      <td>21472</td>\n",
              "      <td>NaN</td>\n",
              "      <td>Official data</td>\n",
              "    </tr>\n",
              "    <tr>\n",
              "      <th>8</th>\n",
              "      <td>FBS</td>\n",
              "      <td>Food Balance Sheets</td>\n",
              "      <td>Antigua and Barbuda</td>\n",
              "      <td>511</td>\n",
              "      <td>Total Population - Both sexes</td>\n",
              "      <td>2501</td>\n",
              "      <td>Population</td>\n",
              "      <td>2013</td>\n",
              "      <td>2013</td>\n",
              "      <td>1000 persons</td>\n",
              "      <td>90</td>\n",
              "      <td>NaN</td>\n",
              "      <td>Official data</td>\n",
              "    </tr>\n",
              "  </tbody>\n",
              "</table>\n",
              "</div>"
            ],
            "text/plain": [
              "             Domain Code               Domain              Country  \\\n",
              "Country Code                                                         \n",
              "2                    FBS  Food Balance Sheets          Afghanistan   \n",
              "3                    FBS  Food Balance Sheets              Albania   \n",
              "4                    FBS  Food Balance Sheets              Algeria   \n",
              "7                    FBS  Food Balance Sheets               Angola   \n",
              "8                    FBS  Food Balance Sheets  Antigua and Barbuda   \n",
              "\n",
              "              Element Code                        Element  Item Code  \\\n",
              "Country Code                                                           \n",
              "2                      511  Total Population - Both sexes       2501   \n",
              "3                      511  Total Population - Both sexes       2501   \n",
              "4                      511  Total Population - Both sexes       2501   \n",
              "7                      511  Total Population - Both sexes       2501   \n",
              "8                      511  Total Population - Both sexes       2501   \n",
              "\n",
              "                    Item  Year Code  Year          Unit  Value Flag  \\\n",
              "Country Code                                                          \n",
              "2             Population       2013  2013  1000 persons  30552  NaN   \n",
              "3             Population       2013  2013  1000 persons   3173  NaN   \n",
              "4             Population       2013  2013  1000 persons  39208  NaN   \n",
              "7             Population       2013  2013  1000 persons  21472  NaN   \n",
              "8             Population       2013  2013  1000 persons     90  NaN   \n",
              "\n",
              "             Flag Description  \n",
              "Country Code                   \n",
              "2               Official data  \n",
              "3               Official data  \n",
              "4               Official data  \n",
              "7               Official data  \n",
              "8               Official data  "
            ]
          },
          "execution_count": 19,
          "metadata": {},
          "output_type": "execute_result"
        }
      ],
      "source": [
        "\n",
        "df = pd.read_csv(chemein_fichier, sep=',',on_bad_lines='skip' , index_col= 'Country Code')\n",
        "\n",
        "df.head()\n"
      ]
    },
    {
      "cell_type": "code",
      "execution_count": 26,
      "metadata": {},
      "outputs": [
        {
          "ename": "KeyError",
          "evalue": "'41'",
          "output_type": "error",
          "traceback": [
            "\u001b[0;31m---------------------------------------------------------------------------\u001b[0m",
            "\u001b[0;31mKeyError\u001b[0m                                  Traceback (most recent call last)",
            "File \u001b[0;32m~/.local/lib/python3.10/site-packages/pandas/core/indexes/base.py:3790\u001b[0m, in \u001b[0;36mIndex.get_loc\u001b[0;34m(self, key)\u001b[0m\n\u001b[1;32m   3789\u001b[0m \u001b[38;5;28;01mtry\u001b[39;00m:\n\u001b[0;32m-> 3790\u001b[0m     \u001b[38;5;28;01mreturn\u001b[39;00m \u001b[38;5;28;43mself\u001b[39;49m\u001b[38;5;241;43m.\u001b[39;49m\u001b[43m_engine\u001b[49m\u001b[38;5;241;43m.\u001b[39;49m\u001b[43mget_loc\u001b[49m\u001b[43m(\u001b[49m\u001b[43mcasted_key\u001b[49m\u001b[43m)\u001b[49m\n\u001b[1;32m   3791\u001b[0m \u001b[38;5;28;01mexcept\u001b[39;00m \u001b[38;5;167;01mKeyError\u001b[39;00m \u001b[38;5;28;01mas\u001b[39;00m err:\n",
            "File \u001b[0;32mindex.pyx:152\u001b[0m, in \u001b[0;36mpandas._libs.index.IndexEngine.get_loc\u001b[0;34m()\u001b[0m\n",
            "File \u001b[0;32mindex.pyx:181\u001b[0m, in \u001b[0;36mpandas._libs.index.IndexEngine.get_loc\u001b[0;34m()\u001b[0m\n",
            "File \u001b[0;32mpandas/_libs/hashtable_class_helper.pxi:7080\u001b[0m, in \u001b[0;36mpandas._libs.hashtable.PyObjectHashTable.get_item\u001b[0;34m()\u001b[0m\n",
            "File \u001b[0;32mpandas/_libs/hashtable_class_helper.pxi:7088\u001b[0m, in \u001b[0;36mpandas._libs.hashtable.PyObjectHashTable.get_item\u001b[0;34m()\u001b[0m\n",
            "\u001b[0;31mKeyError\u001b[0m: '41'",
            "\nThe above exception was the direct cause of the following exception:\n",
            "\u001b[0;31mKeyError\u001b[0m                                  Traceback (most recent call last)",
            "Cell \u001b[0;32mIn[26], line 1\u001b[0m\n\u001b[0;32m----> 1\u001b[0m df\u001b[38;5;241m.\u001b[39mloc[\u001b[43mdf\u001b[49m\u001b[43m[\u001b[49m\u001b[38;5;124;43m'\u001b[39;49m\u001b[38;5;124;43m41\u001b[39;49m\u001b[38;5;124;43m'\u001b[39;49m\u001b[43m]\u001b[49m]\n",
            "File \u001b[0;32m~/.local/lib/python3.10/site-packages/pandas/core/frame.py:3893\u001b[0m, in \u001b[0;36mDataFrame.__getitem__\u001b[0;34m(self, key)\u001b[0m\n\u001b[1;32m   3891\u001b[0m \u001b[38;5;28;01mif\u001b[39;00m \u001b[38;5;28mself\u001b[39m\u001b[38;5;241m.\u001b[39mcolumns\u001b[38;5;241m.\u001b[39mnlevels \u001b[38;5;241m>\u001b[39m \u001b[38;5;241m1\u001b[39m:\n\u001b[1;32m   3892\u001b[0m     \u001b[38;5;28;01mreturn\u001b[39;00m \u001b[38;5;28mself\u001b[39m\u001b[38;5;241m.\u001b[39m_getitem_multilevel(key)\n\u001b[0;32m-> 3893\u001b[0m indexer \u001b[38;5;241m=\u001b[39m \u001b[38;5;28;43mself\u001b[39;49m\u001b[38;5;241;43m.\u001b[39;49m\u001b[43mcolumns\u001b[49m\u001b[38;5;241;43m.\u001b[39;49m\u001b[43mget_loc\u001b[49m\u001b[43m(\u001b[49m\u001b[43mkey\u001b[49m\u001b[43m)\u001b[49m\n\u001b[1;32m   3894\u001b[0m \u001b[38;5;28;01mif\u001b[39;00m is_integer(indexer):\n\u001b[1;32m   3895\u001b[0m     indexer \u001b[38;5;241m=\u001b[39m [indexer]\n",
            "File \u001b[0;32m~/.local/lib/python3.10/site-packages/pandas/core/indexes/base.py:3797\u001b[0m, in \u001b[0;36mIndex.get_loc\u001b[0;34m(self, key)\u001b[0m\n\u001b[1;32m   3792\u001b[0m     \u001b[38;5;28;01mif\u001b[39;00m \u001b[38;5;28misinstance\u001b[39m(casted_key, \u001b[38;5;28mslice\u001b[39m) \u001b[38;5;129;01mor\u001b[39;00m (\n\u001b[1;32m   3793\u001b[0m         \u001b[38;5;28misinstance\u001b[39m(casted_key, abc\u001b[38;5;241m.\u001b[39mIterable)\n\u001b[1;32m   3794\u001b[0m         \u001b[38;5;129;01mand\u001b[39;00m \u001b[38;5;28many\u001b[39m(\u001b[38;5;28misinstance\u001b[39m(x, \u001b[38;5;28mslice\u001b[39m) \u001b[38;5;28;01mfor\u001b[39;00m x \u001b[38;5;129;01min\u001b[39;00m casted_key)\n\u001b[1;32m   3795\u001b[0m     ):\n\u001b[1;32m   3796\u001b[0m         \u001b[38;5;28;01mraise\u001b[39;00m InvalidIndexError(key)\n\u001b[0;32m-> 3797\u001b[0m     \u001b[38;5;28;01mraise\u001b[39;00m \u001b[38;5;167;01mKeyError\u001b[39;00m(key) \u001b[38;5;28;01mfrom\u001b[39;00m \u001b[38;5;21;01merr\u001b[39;00m\n\u001b[1;32m   3798\u001b[0m \u001b[38;5;28;01mexcept\u001b[39;00m \u001b[38;5;167;01mTypeError\u001b[39;00m:\n\u001b[1;32m   3799\u001b[0m     \u001b[38;5;66;03m# If we have a listlike key, _check_indexing_error will raise\u001b[39;00m\n\u001b[1;32m   3800\u001b[0m     \u001b[38;5;66;03m#  InvalidIndexError. Otherwise we fall through and re-raise\u001b[39;00m\n\u001b[1;32m   3801\u001b[0m     \u001b[38;5;66;03m#  the TypeError.\u001b[39;00m\n\u001b[1;32m   3802\u001b[0m     \u001b[38;5;28mself\u001b[39m\u001b[38;5;241m.\u001b[39m_check_indexing_error(key)\n",
            "\u001b[0;31mKeyError\u001b[0m: '41'"
          ]
        }
      ],
      "source": [
        "df.loc[df['41']]"
      ]
    },
    {
      "cell_type": "code",
      "execution_count": 16,
      "metadata": {
        "id": "F7mUOOxHZ_9_"
      },
      "outputs": [
        {
          "ename": "KeyError",
          "evalue": "'China, mainland'",
          "output_type": "error",
          "traceback": [
            "\u001b[0;31m---------------------------------------------------------------------------\u001b[0m",
            "\u001b[0;31mKeyError\u001b[0m                                  Traceback (most recent call last)",
            "Cell \u001b[0;32mIn[16], line 6\u001b[0m\n\u001b[1;32m      2\u001b[0m df[\u001b[38;5;124m'\u001b[39m\u001b[38;5;124mValue\u001b[39m\u001b[38;5;124m'\u001b[39m] \u001b[38;5;241m=\u001b[39m df[\u001b[38;5;124m'\u001b[39m\u001b[38;5;124mValue\u001b[39m\u001b[38;5;124m'\u001b[39m]\u001b[38;5;241m.\u001b[39mastype(\u001b[38;5;124m'\u001b[39m\u001b[38;5;124mfloat\u001b[39m\u001b[38;5;124m'\u001b[39m)\n\u001b[1;32m      3\u001b[0m \u001b[38;5;66;03m# Remove the commas between words using the str.replace() method\u001b[39;00m\n\u001b[1;32m      4\u001b[0m \u001b[38;5;66;03m#df['Country'] = df['Country'].str.replace(',', '')\u001b[39;00m\n\u001b[0;32m----> 6\u001b[0m clé \u001b[38;5;241m=\u001b[39m \u001b[43mdf\u001b[49m\u001b[38;5;241;43m.\u001b[39;49m\u001b[43mloc\u001b[49m\u001b[43m[\u001b[49m\u001b[38;5;124;43m\"\u001b[39;49m\u001b[38;5;124;43mChina, mainland\u001b[39;49m\u001b[38;5;124;43m\"\u001b[39;49m\u001b[43m]\u001b[49m \u001b[38;5;241m==\u001b[39m [\u001b[38;5;124m'\u001b[39m\u001b[38;5;124mCountry\u001b[39m\u001b[38;5;124m'\u001b[39m]\n\u001b[1;32m      7\u001b[0m clé\n\u001b[1;32m      8\u001b[0m \u001b[38;5;66;03m#total_value = df['Value'].sum()\u001b[39;00m\n\u001b[1;32m      9\u001b[0m \u001b[38;5;66;03m#print (\"Nombre d'humains sur la planète :\" ,total_value *1000 , \"Population \" ) \u001b[39;00m\n",
            "File \u001b[0;32m~/.local/lib/python3.10/site-packages/pandas/core/indexing.py:1153\u001b[0m, in \u001b[0;36m_LocationIndexer.__getitem__\u001b[0;34m(self, key)\u001b[0m\n\u001b[1;32m   1150\u001b[0m axis \u001b[38;5;241m=\u001b[39m \u001b[38;5;28mself\u001b[39m\u001b[38;5;241m.\u001b[39maxis \u001b[38;5;129;01mor\u001b[39;00m \u001b[38;5;241m0\u001b[39m\n\u001b[1;32m   1152\u001b[0m maybe_callable \u001b[38;5;241m=\u001b[39m com\u001b[38;5;241m.\u001b[39mapply_if_callable(key, \u001b[38;5;28mself\u001b[39m\u001b[38;5;241m.\u001b[39mobj)\n\u001b[0;32m-> 1153\u001b[0m \u001b[38;5;28;01mreturn\u001b[39;00m \u001b[38;5;28;43mself\u001b[39;49m\u001b[38;5;241;43m.\u001b[39;49m\u001b[43m_getitem_axis\u001b[49m\u001b[43m(\u001b[49m\u001b[43mmaybe_callable\u001b[49m\u001b[43m,\u001b[49m\u001b[43m \u001b[49m\u001b[43maxis\u001b[49m\u001b[38;5;241;43m=\u001b[39;49m\u001b[43maxis\u001b[49m\u001b[43m)\u001b[49m\n",
            "File \u001b[0;32m~/.local/lib/python3.10/site-packages/pandas/core/indexing.py:1393\u001b[0m, in \u001b[0;36m_LocIndexer._getitem_axis\u001b[0;34m(self, key, axis)\u001b[0m\n\u001b[1;32m   1391\u001b[0m \u001b[38;5;66;03m# fall thru to straight lookup\u001b[39;00m\n\u001b[1;32m   1392\u001b[0m \u001b[38;5;28mself\u001b[39m\u001b[38;5;241m.\u001b[39m_validate_key(key, axis)\n\u001b[0;32m-> 1393\u001b[0m \u001b[38;5;28;01mreturn\u001b[39;00m \u001b[38;5;28;43mself\u001b[39;49m\u001b[38;5;241;43m.\u001b[39;49m\u001b[43m_get_label\u001b[49m\u001b[43m(\u001b[49m\u001b[43mkey\u001b[49m\u001b[43m,\u001b[49m\u001b[43m \u001b[49m\u001b[43maxis\u001b[49m\u001b[38;5;241;43m=\u001b[39;49m\u001b[43maxis\u001b[49m\u001b[43m)\u001b[49m\n",
            "File \u001b[0;32m~/.local/lib/python3.10/site-packages/pandas/core/indexing.py:1343\u001b[0m, in \u001b[0;36m_LocIndexer._get_label\u001b[0;34m(self, label, axis)\u001b[0m\n\u001b[1;32m   1341\u001b[0m \u001b[38;5;28;01mdef\u001b[39;00m \u001b[38;5;21m_get_label\u001b[39m(\u001b[38;5;28mself\u001b[39m, label, axis: AxisInt):\n\u001b[1;32m   1342\u001b[0m     \u001b[38;5;66;03m# GH#5567 this will fail if the label is not present in the axis.\u001b[39;00m\n\u001b[0;32m-> 1343\u001b[0m     \u001b[38;5;28;01mreturn\u001b[39;00m \u001b[38;5;28;43mself\u001b[39;49m\u001b[38;5;241;43m.\u001b[39;49m\u001b[43mobj\u001b[49m\u001b[38;5;241;43m.\u001b[39;49m\u001b[43mxs\u001b[49m\u001b[43m(\u001b[49m\u001b[43mlabel\u001b[49m\u001b[43m,\u001b[49m\u001b[43m \u001b[49m\u001b[43maxis\u001b[49m\u001b[38;5;241;43m=\u001b[39;49m\u001b[43maxis\u001b[49m\u001b[43m)\u001b[49m\n",
            "File \u001b[0;32m~/.local/lib/python3.10/site-packages/pandas/core/generic.py:4236\u001b[0m, in \u001b[0;36mNDFrame.xs\u001b[0;34m(self, key, axis, level, drop_level)\u001b[0m\n\u001b[1;32m   4234\u001b[0m             new_index \u001b[38;5;241m=\u001b[39m index[loc]\n\u001b[1;32m   4235\u001b[0m \u001b[38;5;28;01melse\u001b[39;00m:\n\u001b[0;32m-> 4236\u001b[0m     loc \u001b[38;5;241m=\u001b[39m \u001b[43mindex\u001b[49m\u001b[38;5;241;43m.\u001b[39;49m\u001b[43mget_loc\u001b[49m\u001b[43m(\u001b[49m\u001b[43mkey\u001b[49m\u001b[43m)\u001b[49m\n\u001b[1;32m   4238\u001b[0m     \u001b[38;5;28;01mif\u001b[39;00m \u001b[38;5;28misinstance\u001b[39m(loc, np\u001b[38;5;241m.\u001b[39mndarray):\n\u001b[1;32m   4239\u001b[0m         \u001b[38;5;28;01mif\u001b[39;00m loc\u001b[38;5;241m.\u001b[39mdtype \u001b[38;5;241m==\u001b[39m np\u001b[38;5;241m.\u001b[39mbool_:\n",
            "File \u001b[0;32m~/.local/lib/python3.10/site-packages/pandas/core/indexes/range.py:418\u001b[0m, in \u001b[0;36mRangeIndex.get_loc\u001b[0;34m(self, key)\u001b[0m\n\u001b[1;32m    416\u001b[0m         \u001b[38;5;28;01mraise\u001b[39;00m \u001b[38;5;167;01mKeyError\u001b[39;00m(key) \u001b[38;5;28;01mfrom\u001b[39;00m \u001b[38;5;21;01merr\u001b[39;00m\n\u001b[1;32m    417\u001b[0m \u001b[38;5;28;01mif\u001b[39;00m \u001b[38;5;28misinstance\u001b[39m(key, Hashable):\n\u001b[0;32m--> 418\u001b[0m     \u001b[38;5;28;01mraise\u001b[39;00m \u001b[38;5;167;01mKeyError\u001b[39;00m(key)\n\u001b[1;32m    419\u001b[0m \u001b[38;5;28mself\u001b[39m\u001b[38;5;241m.\u001b[39m_check_indexing_error(key)\n\u001b[1;32m    420\u001b[0m \u001b[38;5;28;01mraise\u001b[39;00m \u001b[38;5;167;01mKeyError\u001b[39;00m(key)\n",
            "\u001b[0;31mKeyError\u001b[0m: 'China, mainland'"
          ]
        }
      ],
      "source": [
        "\n",
        "# Convert the values in the 'Value' column to floats\n",
        "df['Value'] = df['Value'].astype('float')\n",
        "# Remove the commas between words using the str.replace() method\n",
        "#df['Country'] = df['Country'].str.replace(',', '')\n",
        "\n",
        "clé = df.loc[ df['Country']==\"China, mainland\"]\n",
        "total_value = df['Value'].sum()\n",
        "print (\"Nombre d'humains sur la planète :\" ,total_value *1000 , \"Population \" ) \n"
      ]
    },
    {
      "cell_type": "markdown",
      "metadata": {
        "id": "_hAXW1I3aA2G"
      },
      "source": [
        "#### Question 2 : Redondances\n",
        "Identifiez ces redondances, en donnant votre réponse sous forme de formule mathématique (pas besoin de coder ici).\n",
        "C'est une équation à 3 termes de type (a_1 + a2 + [...] = b_1 + b_2 + [...] = c_1 + c_2 + [...]) ) faisant intervenir chacune des 11 quantités données ci dessus.\n",
        "Illustrez cette équation avec l'exemple du blé en France."
      ]
    },
    {
      "cell_type": "code",
      "execution_count": 9,
      "metadata": {
        "id": "Ey3iQvJ1aDRG"
      },
      "outputs": [
        {
          "data": {
            "text/html": [
              "<div>\n",
              "<style scoped>\n",
              "    .dataframe tbody tr th:only-of-type {\n",
              "        vertical-align: middle;\n",
              "    }\n",
              "\n",
              "    .dataframe tbody tr th {\n",
              "        vertical-align: top;\n",
              "    }\n",
              "\n",
              "    .dataframe thead th {\n",
              "        text-align: right;\n",
              "    }\n",
              "</style>\n",
              "<table border=\"1\" class=\"dataframe\">\n",
              "  <thead>\n",
              "    <tr style=\"text-align: right;\">\n",
              "      <th></th>\n",
              "      <th>Domain Code</th>\n",
              "      <th>Domain</th>\n",
              "      <th>Country Code</th>\n",
              "      <th>Country</th>\n",
              "      <th>Element Code</th>\n",
              "      <th>Element</th>\n",
              "      <th>Item Code</th>\n",
              "      <th>Item</th>\n",
              "      <th>Year Code</th>\n",
              "      <th>Year</th>\n",
              "      <th>Unit</th>\n",
              "      <th>Value</th>\n",
              "      <th>Flag</th>\n",
              "      <th>Flag Description</th>\n",
              "    </tr>\n",
              "  </thead>\n",
              "  <tbody>\n",
              "    <tr>\n",
              "      <th>0</th>\n",
              "      <td>FBS</td>\n",
              "      <td>Food Balance Sheets</td>\n",
              "      <td>2</td>\n",
              "      <td>Afghanistan</td>\n",
              "      <td>511</td>\n",
              "      <td>Total Population - Both sexes</td>\n",
              "      <td>2501</td>\n",
              "      <td>Population</td>\n",
              "      <td>2013</td>\n",
              "      <td>2013</td>\n",
              "      <td>1000 persons</td>\n",
              "      <td>30552</td>\n",
              "      <td>NaN</td>\n",
              "      <td>Official data</td>\n",
              "    </tr>\n",
              "    <tr>\n",
              "      <th>1</th>\n",
              "      <td>FBS</td>\n",
              "      <td>Food Balance Sheets</td>\n",
              "      <td>3</td>\n",
              "      <td>Albania</td>\n",
              "      <td>511</td>\n",
              "      <td>Total Population - Both sexes</td>\n",
              "      <td>2501</td>\n",
              "      <td>Population</td>\n",
              "      <td>2013</td>\n",
              "      <td>2013</td>\n",
              "      <td>1000 persons</td>\n",
              "      <td>3173</td>\n",
              "      <td>NaN</td>\n",
              "      <td>Official data</td>\n",
              "    </tr>\n",
              "    <tr>\n",
              "      <th>2</th>\n",
              "      <td>FBS</td>\n",
              "      <td>Food Balance Sheets</td>\n",
              "      <td>4</td>\n",
              "      <td>Algeria</td>\n",
              "      <td>511</td>\n",
              "      <td>Total Population - Both sexes</td>\n",
              "      <td>2501</td>\n",
              "      <td>Population</td>\n",
              "      <td>2013</td>\n",
              "      <td>2013</td>\n",
              "      <td>1000 persons</td>\n",
              "      <td>39208</td>\n",
              "      <td>NaN</td>\n",
              "      <td>Official data</td>\n",
              "    </tr>\n",
              "    <tr>\n",
              "      <th>3</th>\n",
              "      <td>FBS</td>\n",
              "      <td>Food Balance Sheets</td>\n",
              "      <td>7</td>\n",
              "      <td>Angola</td>\n",
              "      <td>511</td>\n",
              "      <td>Total Population - Both sexes</td>\n",
              "      <td>2501</td>\n",
              "      <td>Population</td>\n",
              "      <td>2013</td>\n",
              "      <td>2013</td>\n",
              "      <td>1000 persons</td>\n",
              "      <td>21472</td>\n",
              "      <td>NaN</td>\n",
              "      <td>Official data</td>\n",
              "    </tr>\n",
              "    <tr>\n",
              "      <th>4</th>\n",
              "      <td>FBS</td>\n",
              "      <td>Food Balance Sheets</td>\n",
              "      <td>8</td>\n",
              "      <td>Antigua and Barbuda</td>\n",
              "      <td>511</td>\n",
              "      <td>Total Population - Both sexes</td>\n",
              "      <td>2501</td>\n",
              "      <td>Population</td>\n",
              "      <td>2013</td>\n",
              "      <td>2013</td>\n",
              "      <td>1000 persons</td>\n",
              "      <td>90</td>\n",
              "      <td>NaN</td>\n",
              "      <td>Official data</td>\n",
              "    </tr>\n",
              "    <tr>\n",
              "      <th>...</th>\n",
              "      <td>...</td>\n",
              "      <td>...</td>\n",
              "      <td>...</td>\n",
              "      <td>...</td>\n",
              "      <td>...</td>\n",
              "      <td>...</td>\n",
              "      <td>...</td>\n",
              "      <td>...</td>\n",
              "      <td>...</td>\n",
              "      <td>...</td>\n",
              "      <td>...</td>\n",
              "      <td>...</td>\n",
              "      <td>...</td>\n",
              "      <td>...</td>\n",
              "    </tr>\n",
              "    <tr>\n",
              "      <th>170</th>\n",
              "      <td>FBS</td>\n",
              "      <td>Food Balance Sheets</td>\n",
              "      <td>237</td>\n",
              "      <td>Viet Nam</td>\n",
              "      <td>511</td>\n",
              "      <td>Total Population - Both sexes</td>\n",
              "      <td>2501</td>\n",
              "      <td>Population</td>\n",
              "      <td>2013</td>\n",
              "      <td>2013</td>\n",
              "      <td>1000 persons</td>\n",
              "      <td>91680</td>\n",
              "      <td>NaN</td>\n",
              "      <td>Official data</td>\n",
              "    </tr>\n",
              "    <tr>\n",
              "      <th>171</th>\n",
              "      <td>FBS</td>\n",
              "      <td>Food Balance Sheets</td>\n",
              "      <td>249</td>\n",
              "      <td>Yemen</td>\n",
              "      <td>511</td>\n",
              "      <td>Total Population - Both sexes</td>\n",
              "      <td>2501</td>\n",
              "      <td>Population</td>\n",
              "      <td>2013</td>\n",
              "      <td>2013</td>\n",
              "      <td>1000 persons</td>\n",
              "      <td>24407</td>\n",
              "      <td>NaN</td>\n",
              "      <td>Official data</td>\n",
              "    </tr>\n",
              "    <tr>\n",
              "      <th>172</th>\n",
              "      <td>FBS</td>\n",
              "      <td>Food Balance Sheets</td>\n",
              "      <td>251</td>\n",
              "      <td>Zambia</td>\n",
              "      <td>511</td>\n",
              "      <td>Total Population - Both sexes</td>\n",
              "      <td>2501</td>\n",
              "      <td>Population</td>\n",
              "      <td>2013</td>\n",
              "      <td>2013</td>\n",
              "      <td>1000 persons</td>\n",
              "      <td>14539</td>\n",
              "      <td>NaN</td>\n",
              "      <td>Official data</td>\n",
              "    </tr>\n",
              "    <tr>\n",
              "      <th>173</th>\n",
              "      <td>FBS</td>\n",
              "      <td>Food Balance Sheets</td>\n",
              "      <td>181</td>\n",
              "      <td>Zimbabwe</td>\n",
              "      <td>511</td>\n",
              "      <td>Total Population - Both sexes</td>\n",
              "      <td>2501</td>\n",
              "      <td>Population</td>\n",
              "      <td>2013</td>\n",
              "      <td>2013</td>\n",
              "      <td>1000 persons</td>\n",
              "      <td>14150</td>\n",
              "      <td>NaN</td>\n",
              "      <td>Official data</td>\n",
              "    </tr>\n",
              "    <tr>\n",
              "      <th>174</th>\n",
              "      <td>FBS</td>\n",
              "      <td>Food Balance Sheets</td>\n",
              "      <td>351</td>\n",
              "      <td>China</td>\n",
              "      <td>511</td>\n",
              "      <td>Total Population - Both sexes</td>\n",
              "      <td>2501</td>\n",
              "      <td>Population</td>\n",
              "      <td>2013</td>\n",
              "      <td>2013</td>\n",
              "      <td>1000 persons</td>\n",
              "      <td>1416667</td>\n",
              "      <td>A</td>\n",
              "      <td>Aggregate, may include official, semi-official...</td>\n",
              "    </tr>\n",
              "  </tbody>\n",
              "</table>\n",
              "<p>175 rows × 14 columns</p>\n",
              "</div>"
            ],
            "text/plain": [
              "    Domain Code               Domain  Country Code              Country  \\\n",
              "0           FBS  Food Balance Sheets             2          Afghanistan   \n",
              "1           FBS  Food Balance Sheets             3              Albania   \n",
              "2           FBS  Food Balance Sheets             4              Algeria   \n",
              "3           FBS  Food Balance Sheets             7               Angola   \n",
              "4           FBS  Food Balance Sheets             8  Antigua and Barbuda   \n",
              "..          ...                  ...           ...                  ...   \n",
              "170         FBS  Food Balance Sheets           237             Viet Nam   \n",
              "171         FBS  Food Balance Sheets           249                Yemen   \n",
              "172         FBS  Food Balance Sheets           251               Zambia   \n",
              "173         FBS  Food Balance Sheets           181             Zimbabwe   \n",
              "174         FBS  Food Balance Sheets           351                China   \n",
              "\n",
              "     Element Code                        Element  Item Code        Item  \\\n",
              "0             511  Total Population - Both sexes       2501  Population   \n",
              "1             511  Total Population - Both sexes       2501  Population   \n",
              "2             511  Total Population - Both sexes       2501  Population   \n",
              "3             511  Total Population - Both sexes       2501  Population   \n",
              "4             511  Total Population - Both sexes       2501  Population   \n",
              "..            ...                            ...        ...         ...   \n",
              "170           511  Total Population - Both sexes       2501  Population   \n",
              "171           511  Total Population - Both sexes       2501  Population   \n",
              "172           511  Total Population - Both sexes       2501  Population   \n",
              "173           511  Total Population - Both sexes       2501  Population   \n",
              "174           511  Total Population - Both sexes       2501  Population   \n",
              "\n",
              "     Year Code  Year          Unit    Value Flag  \\\n",
              "0         2013  2013  1000 persons    30552  NaN   \n",
              "1         2013  2013  1000 persons     3173  NaN   \n",
              "2         2013  2013  1000 persons    39208  NaN   \n",
              "3         2013  2013  1000 persons    21472  NaN   \n",
              "4         2013  2013  1000 persons       90  NaN   \n",
              "..         ...   ...           ...      ...  ...   \n",
              "170       2013  2013  1000 persons    91680  NaN   \n",
              "171       2013  2013  1000 persons    24407  NaN   \n",
              "172       2013  2013  1000 persons    14539  NaN   \n",
              "173       2013  2013  1000 persons    14150  NaN   \n",
              "174       2013  2013  1000 persons  1416667    A   \n",
              "\n",
              "                                      Flag Description  \n",
              "0                                        Official data  \n",
              "1                                        Official data  \n",
              "2                                        Official data  \n",
              "3                                        Official data  \n",
              "4                                        Official data  \n",
              "..                                                 ...  \n",
              "170                                      Official data  \n",
              "171                                      Official data  \n",
              "172                                      Official data  \n",
              "173                                      Official data  \n",
              "174  Aggregate, may include official, semi-official...  \n",
              "\n",
              "[175 rows x 14 columns]"
            ]
          },
          "execution_count": 9,
          "metadata": {},
          "output_type": "execute_result"
        }
      ],
      "source": [
        "df "
      ]
    },
    {
      "cell_type": "markdown",
      "metadata": {
        "id": "5HCFKjr7aDxk"
      },
      "source": [
        "#### Question 3 : Disponibilité alimentaire (calories, protéines)\n",
        "Calculez (pour chaque pays et chaque produit) la disponibilité alimentaire en kcal puis en kg de protéines. Vous ferez cela à partir de ces informations :\n",
        "- Population de chaque pays\n",
        "- Disponibilité alimentaire donnée pour chaque produit et pour chaque pays en kcal/personne/jour, -\n",
        "- Disponibilité alimentaire en protéines donnée pour chaque produit et pour chaque pays en g/personne/jour.\n",
        "Pour cette étape vous avez besoin de constituer une seule et même table à partir des tables animaux et végétaux."
      ]
    },
    {
      "cell_type": "code",
      "execution_count": null,
      "metadata": {
        "id": "B4jG5kWJaKj5"
      },
      "outputs": [],
      "source": []
    },
    {
      "cell_type": "markdown",
      "metadata": {
        "id": "zu-LYhy7aLR9"
      },
      "source": [
        "#### Question 4 : Ratio énergie/poids\n",
        "A partir de ces dernières informations, et à partir du poids de la disponibilité alimentaire (pour chaque pays et chaque produit), calculez pour chaque produit le ratio \"énergie/poids\", que vous donnerez en kcal/kg. Vous pouvez vérifier la cohérence de votre calcul en comparant ce ratio aux données disponibles sur internet, par exemple en cherchant la valeur calorique d'un oeuf."
      ]
    },
    {
      "cell_type": "code",
      "execution_count": null,
      "metadata": {
        "id": "3akvxo_iaYrw"
      },
      "outputs": [],
      "source": []
    },
    {
      "cell_type": "markdown",
      "metadata": {
        "id": "sPhgBCDhaZC1"
      },
      "source": [
        "#### Question 5 : Aliments les plus caloriques et protéiques\n",
        "En considérant les aliments végétaux et animaux, citez 5 aliments parmi les 20 aliments les plus caloriques, en utilisant le ratio énergie/poids. Citez 5 aliments parmi les 20 aliments les plus riches en protéines."
      ]
    },
    {
      "cell_type": "code",
      "execution_count": null,
      "metadata": {
        "id": "0V9zjYedabKw"
      },
      "outputs": [],
      "source": []
    },
    {
      "cell_type": "markdown",
      "metadata": {
        "id": "H1lMRHTYabeR"
      },
      "source": [
        "#### Question 6 : Dispo. intérieure mondiale des végétaux\n",
        "Calculez, pour les produits végétaux uniquement, la disponibilité intérieure mondiale exprimée en kcal."
      ]
    },
    {
      "cell_type": "code",
      "execution_count": null,
      "metadata": {
        "id": "Wzif22s4aeuj"
      },
      "outputs": [],
      "source": []
    },
    {
      "cell_type": "markdown",
      "metadata": {
        "id": "ApEOgLexafF0"
      },
      "source": [
        "#### Question 7 : Potentiel alimentaire des végétaux\n",
        "Combien d'humains pourraient être nourris si toute la disponibilité intérieure mondiale de produits végétaux était utilisée pour de la nourriture ? Donnez les résultats en termes de calories, puis de protéines, et exprimez ensuite ces 2 résultats en pourcentage de la population mondiale."
      ]
    },
    {
      "cell_type": "code",
      "execution_count": null,
      "metadata": {
        "id": "ZtwIMbFuahrI"
      },
      "outputs": [],
      "source": []
    },
    {
      "cell_type": "markdown",
      "metadata": {
        "id": "GBWwrg-OaiB2"
      },
      "source": [
        "#### Question 8 : Potentiel alimentaire des végétaux (destinés aux animaux pertes)\n",
        "Combien d'humains pourraient être nourris si toute la disponibilité alimentaire en produits végétaux la nourriture végétale destinée aux animaux et les pertes de produits végétaux étaient utilisés pour de la nourriture ? Donnez les résultats en termes de calories, puis de protéines, et exprimez ensuite ces 2 résultats en pourcentage de la population mondiale."
      ]
    },
    {
      "cell_type": "code",
      "execution_count": null,
      "metadata": {
        "id": "iF5Im1vEaky4"
      },
      "outputs": [],
      "source": []
    },
    {
      "cell_type": "markdown",
      "metadata": {
        "id": "kL0p9FpIalN0"
      },
      "source": [
        "#### Question 9 : Potentiel alimentaire de la dispo. Mondiale\n",
        "Combien d'humains pourraient être nourris avec la disponibilité alimentaire mondiale ? Donnez les résultats en termes de calories, puis de protéines, et exprimez ensuite ces 2 résultats en pourcentage de la population mondiale."
      ]
    },
    {
      "cell_type": "code",
      "execution_count": null,
      "metadata": {
        "id": "TIibNjMbaoNO"
      },
      "outputs": [],
      "source": []
    },
    {
      "cell_type": "markdown",
      "metadata": {
        "id": "P8yMAZWqaolA"
      },
      "source": [
        "#### Question 10 : Proportion de la sous-nutrition mondiale\n",
        "A partir des données téléchargées qui concernent la sous-nutrition, répondez à cette question : Quelle proportion de la population mondiale est considérée comme étant en sous-nutrition ?"
      ]
    },
    {
      "cell_type": "code",
      "execution_count": null,
      "metadata": {
        "id": "BUHyqcKOarGi"
      },
      "outputs": [],
      "source": []
    },
    {
      "cell_type": "markdown",
      "metadata": {
        "id": "JOB7I9fDarj7"
      },
      "source": [
        "#### Question 11 : Céréales\n",
        "Établissez la liste des produits (ainsi que leur code) considéré comme des céréales selon la FAO. En ne prenant en compte que les céréales destinées à l'alimentation (humaine et animale), quelle proportion (en termes de poids) est destinée à l'alimentation animale ?"
      ]
    },
    {
      "cell_type": "code",
      "execution_count": null,
      "metadata": {
        "id": "OkJK7gp_au3k"
      },
      "outputs": [],
      "source": []
    },
    {
      "cell_type": "markdown",
      "metadata": {
        "id": "1s2qNH1savTW"
      },
      "source": [
        "#### Question 12 : Sous-nutrition\n",
        "Sélectionnez parmi les données des bilans alimentaires les informations relatives aux pays dans lesquels la FAO recense des personnes en sous-nutrition.\n",
        "Repérez les 15 produits les plus exportés par ce groupe de pays.\n",
        "Parmi les données des bilans alimentaires au niveau mondial, sélectionnez les 200 plus grandes importations de ces produits (1 importation = une quantité d'un produit donné importée par un pays donné).\n",
        "Groupez ces importations par produit, afin d'avoir une table contenant 1 ligne pour chacun des 15 produits. Ensuite, calculez pour chaque produit les 2 quantités suivantes :\n",
        "\n",
        "    • le ratio entre la quantité destinés aux \"Autres utilisations\" (Other uses) et la disponibilité intérieure.\n",
        "    • le ratio entre la quantité destinée à la nourriture animale et la quantité destinée à la nourriture (animale + humaine)\n",
        "    \n",
        "Donnez les 3 produits qui ont la plus grande valeur pour chacun des 2 ratios (vous aurez donc 6 produits à citer)"
      ]
    },
    {
      "cell_type": "code",
      "execution_count": null,
      "metadata": {
        "id": "cBVydeGyay3c"
      },
      "outputs": [],
      "source": []
    },
    {
      "cell_type": "markdown",
      "metadata": {
        "id": "Yl6GPYa4a6ON"
      },
      "source": [
        "#### Question 13 : USA\n",
        "Combien de tonnes de céréales pourraient être libérées si les USA diminuaient leur production de produits animaux de 10% ?"
      ]
    },
    {
      "cell_type": "code",
      "execution_count": null,
      "metadata": {
        "id": "S6Ywb72ha66u"
      },
      "outputs": [],
      "source": []
    },
    {
      "cell_type": "markdown",
      "metadata": {
        "id": "A8lVRTZcZtwL"
      },
      "source": [
        "#### Question 14 : Thaïlande\n",
        "En Thaïlande, quelle proportion de manioc est exportée ? Quelle est la proportion de personnes en sous-nutrition?"
      ]
    },
    {
      "cell_type": "code",
      "execution_count": null,
      "metadata": {
        "id": "W5ueGBdEZmHg"
      },
      "outputs": [],
      "source": []
    },
    {
      "cell_type": "markdown",
      "metadata": {
        "id": "FUW1pFjca11r"
      },
      "source": []
    },
    {
      "cell_type": "markdown",
      "metadata": {
        "id": "b3RaTavFDqOY"
      },
      "source": [
        "### 3 - Etude guidée n°2"
      ]
    },
    {
      "cell_type": "markdown",
      "metadata": {
        "id": "qlW56DtHD1lk"
      },
      "source": [
        "Il s’agit ici d’intégrer toutes les données dans une base de données relationnelle puis de répondre à toutes les questions ci-dessous.\n",
        "La base de données contiendra 4 tables : population, dispo_alim, equilibre_prod, sous_nutrition."
      ]
    },
    {
      "cell_type": "markdown",
      "metadata": {
        "id": "RHq8CB_CZHI5"
      },
      "source": [
        "#### Question 15 : Table population\n",
        "Définir une clé primaire pertinente pour la table population. Intégrer la table dans la base de données relationnelle."
      ]
    },
    {
      "cell_type": "code",
      "execution_count": null,
      "metadata": {
        "id": "1BJd-AIqZlZM"
      },
      "outputs": [],
      "source": []
    },
    {
      "cell_type": "markdown",
      "metadata": {
        "id": "gZFqs9R3ZgOu"
      },
      "source": [
        "#### Question 16 : Table dispo_alim\n",
        "La table appelée dispo_alim contient pour chaque pays, pour chaque produit, sur l'année 2013, les informations suivantes:\n",
        "- la nature du produit (deux valeurs possibles“animal” ou “végétal”)\n",
        "- disponibilité alimentaire en tonnes\n",
        "- disponibilité alimentaire en Kcal/personne/jour\n",
        "- disponibilité alimentaire de protéines en g/personne/jour\n",
        "- disponibilité alimentaire de matières grasses en g/personne/jour\n",
        "La table contient ces colonnes : pays, code_pays, année, produit, code_produit, origin, dispo_alim_tonnes, dispo_alim_kcal_p_j, dispo_prot, dispo_mat_gr .\n",
        "Définir une clé primaire pertinente pour la table dispo_alim. Intégrer la table dans la base de données relationnelle."
      ]
    },
    {
      "cell_type": "code",
      "execution_count": null,
      "metadata": {
        "id": "zaQT09kIZk2y"
      },
      "outputs": [],
      "source": []
    },
    {
      "cell_type": "markdown",
      "metadata": {
        "id": "v6zLu0GVZbxU"
      },
      "source": [
        "#### Question 17 : Table equilibre_prod\n",
        "La table appelée equilibre_prod contient pour chaque pays, pour chaque produit, et pour l'année disponible 2013, les quantités suivantes :\n",
        "- disponibilité intérieure\n",
        "- aliments pour animaux\n",
        "- semences\n",
        "- pertes\n",
        "- transformés\n",
        "- nourriture\n",
        "- autres utilisations\n",
        "Elle contient ces colonnes : pays, code_pays, année, produit, code_produit, dispo_int, alim_ani, semences, pertes, transfo, nourriture, autres_utilisations.\n",
        "Définir une clé primaire pertinente pour la table equilibre_prod. Intégrer la table dans la base de données relationnelle."
      ]
    },
    {
      "cell_type": "code",
      "execution_count": null,
      "metadata": {
        "id": "ugM0Q_l7ZjxR"
      },
      "outputs": [],
      "source": []
    },
    {
      "cell_type": "markdown",
      "metadata": {
        "id": "SKindtOJZYXY"
      },
      "source": [
        "#### Question 18 : Table sous_nutrition\n",
        "La table appelée sous_nutrition, contient le nombre de personnes en sous-alimentation pour chaque pays et pour chaque année. Elle contient 4 colonnes : pays, code_pays, année, nb_personnes.\n",
        "Définir une clé primaire pertinente pour la table sous_nutrition. Intégrer la table dans la base de données relationnelle."
      ]
    },
    {
      "cell_type": "code",
      "execution_count": null,
      "metadata": {
        "id": "HUcuhgklZVbX"
      },
      "outputs": [],
      "source": []
    },
    {
      "cell_type": "markdown",
      "metadata": {
        "id": "_lHWO4wTZWHY"
      },
      "source": [
        "#### Question 19 : Requêtes SQL\n",
        "Formuler les requêtes SQL pour répondre aux questions suivantes :\n",
        "    • Quels sont les 10 pays ayant le plus haut ratio disponibilité alimentaire/habitant en termes de protéines (en kg) par habitant, puis en termes de kcal par habitant ?\n",
        "    • Quels sont les 10 pays ayant le plus faible ratio disponibilité alimentaire/habitant en termes de protéines (en kg) par habitant ?\n",
        "    • Quelle est la quantité totale (en kg) de produits perdus par pays?\n",
        "    • Quels sont les 10 pays pour lesquels la proportion de personnes sous-alimentées est la plus forte ?\n",
        "    • Quels sont les 10 produits pour lesquels le ratio Autres utilisations/Disponibilité intérieure est le plus élevé ?"
      ]
    },
    {
      "cell_type": "code",
      "execution_count": null,
      "metadata": {
        "id": "61BOSvDUZips"
      },
      "outputs": [],
      "source": []
    },
    {
      "cell_type": "markdown",
      "metadata": {
        "id": "sYtYZ_uvZK9r"
      },
      "source": [
        "#### Question 20 : Autres utilisations des produits\n",
        "Pour quelques-uns des produits identifiés dans cette dernière requête SQL, supposez quelles sont ces \"autres utilisations\" possibles (recherchez sur internet !)."
      ]
    },
    {
      "cell_type": "code",
      "execution_count": null,
      "metadata": {
        "id": "LCJ3PxDhZjG-"
      },
      "outputs": [],
      "source": []
    },
    {
      "cell_type": "markdown",
      "metadata": {
        "id": "4oVN2zheD-A_"
      },
      "source": [
        "### 4 - Analyses complémentaire"
      ]
    },
    {
      "cell_type": "markdown",
      "metadata": {
        "id": "igoMHlNrEBYZ"
      },
      "source": [
        "Fort de votre expérience de Data Analyst, il s’agit maintenant de réaliser vos propres analyses et exploration."
      ]
    }
  ],
  "metadata": {
    "colab": {
      "provenance": [],
      "toc_visible": true
    },
    "kernelspec": {
      "display_name": "Python 3",
      "name": "python3"
    },
    "language_info": {
      "codemirror_mode": {
        "name": "ipython",
        "version": 3
      },
      "file_extension": ".py",
      "mimetype": "text/x-python",
      "name": "python",
      "nbconvert_exporter": "python",
      "pygments_lexer": "ipython3",
      "version": "3.10.13"
    }
  },
  "nbformat": 4,
  "nbformat_minor": 0
}
